{
 "cells": [
  {
   "cell_type": "markdown",
   "id": "23552aa6-7713-435d-8106-1841f8384aac",
   "metadata": {},
   "source": [
    "Analysis: Vladyslav Kavaka (vladyslav.kavaka@med.uni-muenchen.de), Eduardo Beltran (eduardo.beltran@med.uni-muenchen.de)\n",
    "Insitute of Clinical Neuroimmunology, LMU, Munich"
   ]
  },
  {
   "cell_type": "code",
   "execution_count": 40,
   "id": "fc8c32db-eed4-4ace-91b3-e58d08982201",
   "metadata": {
    "tags": []
   },
   "outputs": [
    {
     "data": {
      "text/plain": [
       "R version 4.0.5 (2021-03-31)\n",
       "Platform: x86_64-conda-linux-gnu (64-bit)\n",
       "Running under: Ubuntu 18.04.6 LTS\n",
       "\n",
       "Matrix products: default\n",
       "BLAS/LAPACK: /home/INIM/vladyslav.kavaka/miniconda3/envs/azimuth/lib/libopenblasp-r0.3.17.so\n",
       "\n",
       "locale:\n",
       " [1] LC_CTYPE=C.UTF-8    LC_NUMERIC=C        LC_TIME=C          \n",
       " [4] LC_COLLATE=C        LC_MONETARY=C       LC_MESSAGES=C      \n",
       " [7] LC_PAPER=C          LC_NAME=C           LC_ADDRESS=C       \n",
       "[10] LC_TELEPHONE=C      LC_MEASUREMENT=C    LC_IDENTIFICATION=C\n",
       "\n",
       "attached base packages:\n",
       "[1] stats     graphics  grDevices utils     datasets  methods   base     \n",
       "\n",
       "other attached packages:\n",
       " [1] ggrepel_0.9.1      ggthemes_4.2.4     scales_1.2.1       reshape2_1.4.4    \n",
       " [5] presto_1.0.0       irlba_2.3.5        lisi_1.0           plyr_1.8.6        \n",
       " [9] matrixStats_0.61.0 data.table_1.14.2  umap_0.2.7.0       uwot_0.1.11       \n",
       "[13] RANN_2.6.1         class_7.3-20       purrr_0.3.4        ggplot2_3.4.0     \n",
       "[17] limma_3.46.0       tidyr_1.1.4        Matrix_1.4-0       devtools_2.4.5    \n",
       "[21] usethis_2.1.6      ComplexUpset_1.3.5 enrichR_3.0        dplyr_1.0.7       \n",
       "[25] SeuratObject_4.0.4 Seurat_4.1.0       symphony_0.1.0     harmony_0.1.0     \n",
       "[29] Rcpp_1.0.8        \n",
       "\n",
       "loaded via a namespace (and not attached):\n",
       "  [1] uuid_1.1-0            systemfonts_1.0.3     igraph_1.2.11        \n",
       "  [4] repr_1.1.4            lazyeval_0.2.2        splines_4.0.5        \n",
       "  [7] listenv_0.8.0         scattermore_0.7       digest_0.6.29        \n",
       " [10] htmltools_0.5.2       fansi_1.0.3           magrittr_2.0.3       \n",
       " [13] memoise_2.0.1         tensor_1.5            cluster_2.1.2        \n",
       " [16] ROCR_1.0-11           remotes_2.4.2         globals_0.14.0       \n",
       " [19] askpass_1.1           spatstat.sparse_2.1-0 prettyunits_1.1.1    \n",
       " [22] colorspace_2.0-3      textshaping_0.3.4     callr_3.7.0          \n",
       " [25] crayon_1.4.2          jsonlite_1.7.2        spatstat.data_2.1-2  \n",
       " [28] survival_3.2-13       zoo_1.8-10            glue_1.6.2           \n",
       " [31] polyclip_1.10-0       gtable_0.3.1          leiden_0.3.9         \n",
       " [34] pkgbuild_1.3.1        future.apply_1.8.1    abind_1.4-5          \n",
       " [37] DBI_1.1.2             miniUI_0.1.1.1        viridisLite_0.4.1    \n",
       " [40] xtable_1.8-4          reticulate_1.23       spatstat.core_2.3-2  \n",
       " [43] profvis_0.3.7         htmlwidgets_1.5.4     httr_1.4.2           \n",
       " [46] RColorBrewer_1.1-3    ellipsis_0.3.2        ica_1.0-2            \n",
       " [49] farver_2.1.1          urlchecker_1.0.1      pkgconfig_2.0.3      \n",
       " [52] deldir_1.0-6          utf8_1.2.2            labeling_0.4.2       \n",
       " [55] tidyselect_1.1.1      rlang_1.0.6           later_1.2.0          \n",
       " [58] munsell_0.5.0         tools_4.0.5           cachem_1.0.6         \n",
       " [61] cli_3.4.1             generics_0.1.1        ggridges_0.5.3       \n",
       " [64] evaluate_0.14         stringr_1.4.0         fastmap_1.1.0        \n",
       " [67] ragg_1.2.1            goftest_1.2-3         processx_3.5.2       \n",
       " [70] fs_1.5.2              fitdistrplus_1.1-6    pbapply_1.5-0        \n",
       " [73] future_1.23.0         nlme_3.1-152          mime_0.12            \n",
       " [76] ggrastr_1.0.1         compiler_4.0.5        beeswarm_0.4.0       \n",
       " [79] plotly_4.10.0         curl_4.3.2            png_0.1-7            \n",
       " [82] spatstat.utils_2.3-0  tibble_3.1.8          stringi_1.7.6        \n",
       " [85] ps_1.6.0              RSpectra_0.16-0       lattice_0.20-45      \n",
       " [88] IRdisplay_1.1         vctrs_0.5.1           pillar_1.8.1         \n",
       " [91] lifecycle_1.0.3       spatstat.geom_2.4-0   lmtest_0.9-39        \n",
       " [94] RcppAnnoy_0.0.19      cowplot_1.1.1         httpuv_1.6.5         \n",
       " [97] patchwork_1.1.2       R6_2.5.1              promises_1.2.0.1     \n",
       "[100] KernSmooth_2.23-20    gridExtra_2.3         vipor_0.4.5          \n",
       "[103] parallelly_1.30.0     sessioninfo_1.2.2     codetools_0.2-18     \n",
       "[106] MASS_7.3-55           assertthat_0.2.1      pkgload_1.3.2        \n",
       "[109] openssl_1.4.6         rjson_0.2.21          withr_2.5.0          \n",
       "[112] sctransform_0.3.3     mgcv_1.8-38           parallel_4.0.5       \n",
       "[115] grid_4.0.5            rpart_4.1.16          IRkernel_1.3         \n",
       "[118] Cairo_1.5-14          Rtsne_0.15            pbdZMQ_0.3-7         \n",
       "[121] shiny_1.7.1           base64enc_0.1-3       ggbeeswarm_0.6.0     "
      ]
     },
     "metadata": {},
     "output_type": "display_data"
    },
    {
     "data": {
      "text/html": [
       "'/home/INIM/vladyslav.kavaka/miniconda3/envs/azimuth/lib/R/library'"
      ],
      "text/latex": [
       "'/home/INIM/vladyslav.kavaka/miniconda3/envs/azimuth/lib/R/library'"
      ],
      "text/markdown": [
       "'/home/INIM/vladyslav.kavaka/miniconda3/envs/azimuth/lib/R/library'"
      ],
      "text/plain": [
       "[1] \"/home/INIM/vladyslav.kavaka/miniconda3/envs/azimuth/lib/R/library\""
      ]
     },
     "metadata": {},
     "output_type": "display_data"
    }
   ],
   "source": [
    "sessionInfo()\n",
    "set.seed(1)\n",
    ".libPaths()"
   ]
  },
  {
   "cell_type": "code",
   "execution_count": null,
   "id": "cda9cfb6-8545-40c7-9d89-baba4680049b",
   "metadata": {
    "tags": []
   },
   "outputs": [],
   "source": [
    "library(harmony)\n",
    "library(symphony)\n",
    "library(Seurat)\n",
    "library(dplyr)\n",
    "library(enrichR)\n",
    "library(ComplexUpset)\n",
    "library(devtools)\n",
    "library(Matrix)\n",
    "library(tidyr)\n",
    "library(limma)\n",
    "library(ggplot2)\n",
    "library(purrr)\n",
    "library(class)\n",
    "library(RANN)\n",
    "library(stats)\n",
    "library(uwot)\n",
    "library(umap)\n",
    "library(data.table)\n",
    "library(matrixStats)\n",
    "library(plyr)\n",
    "library(lisi)\n",
    "library(Rcpp)\n",
    "library(irlba)\n",
    "library(presto)\n",
    "library(reshape2)\n",
    "library(scales)\n",
    "library(ggthemes)\n",
    "library(ggrepel)"
   ]
  },
  {
   "cell_type": "code",
   "execution_count": null,
   "id": "10949529-034c-46bd-af9a-392b89cc05b5",
   "metadata": {},
   "outputs": [],
   "source": [
    "set.seed(1)"
   ]
  },
  {
   "cell_type": "code",
   "execution_count": null,
   "id": "207b451f-485c-463a-83ed-13e64fa72c94",
   "metadata": {},
   "outputs": [],
   "source": [
    "buildReferenceFromSeurat <- function(\n",
    "    obj, assay = 'RNA', verbose = TRUE, save_umap = TRUE, save_uwot_path = NULL\n",
    ") {\n",
    "    if(!assay %in% c('RNA', 'SCT')) {\n",
    "        stop('Only supported assays are RNA or SCT.')\n",
    "    }\n",
    "    res <- list()\n",
    "    ## TODO: check that these objects are all correctly initialized\n",
    "    res$Z_corr <- t(obj@reductions$harmony@cell.embeddings)\n",
    "    res$Z_orig <- t(obj@reductions$pca@cell.embeddings)\n",
    "    message('Saved embeddings')\n",
    "    \n",
    "    res$R <- t(obj@reductions$harmony@misc$R)\n",
    "    message('Saved soft cluster assignments')\n",
    "    \n",
    "    if (assay == 'RNA') {\n",
    "        vargenes_means_sds <- tibble(\n",
    "            symbol = obj@assays[[assay]]@var.features, \n",
    "            mean = Matrix::rowMeans(obj@assays[[assay]]@data[obj@assays[[assay]]@var.features, ])\n",
    "        )\n",
    "        vargenes_means_sds$stddev <- rowSDs(\n",
    "            obj@assays[[assay]]@data[obj@assays[[assay]]@var.features, ], \n",
    "            vargenes_means_sds$mean\n",
    "        )\n",
    "    } else if (assay == 'SCT') {\n",
    "        vargenes_means_sds <- tibble(\n",
    "            symbol = obj@assays[[assay]]@var.features, \n",
    "            mean = Matrix::rowMeans(obj@assays[[assay]]@scale.data[obj@assays[[assay]]@var.features, ])\n",
    "        )\n",
    "        asdgc = Matrix(obj@assays[[assay]]@scale.data[obj@assays[[assay]]@var.features, ], sparse = TRUE)\n",
    "        vargenes_means_sds$stddev <- rowSDs(\n",
    "            asdgc, \n",
    "            vargenes_means_sds$mean\n",
    "        )\n",
    "    }\n",
    "    \n",
    "    res$vargenes_means_sds <- vargenes_means_sds\n",
    "    message('Saved variable gene information for ', nrow(vargenes_means_sds), ' genes.')\n",
    "    \n",
    "    res$loadings <- obj@reductions$pca@feature.loadings\n",
    "    message('Saved PCA loadings.')\n",
    "    \n",
    "    res$meta_data <- obj@meta.data\n",
    "    message('Saved metadata.')\n",
    "    \n",
    "    ## Check UMAP \n",
    "    if (save_umap) {\n",
    "        if (is.null(save_uwot_path)) {\n",
    "            error('Please provide a valid path to save_uwot_path in order to save uwot model.')\n",
    "        }\n",
    "        if (is.null(obj@reductions$umap@misc$model)) {\n",
    "            error('uwot model not initialiazed in Seurat object. Please do RunUMAP with umap.method=\\'uwot\\', return.model=TRUE first.')\n",
    "        }\n",
    "        res$umap <- obj@reductions$umap@misc$model\n",
    "        res$save_uwot_path <- save_uwot_path\n",
    "        if (file.exists(res$save_uwot_path)) {\n",
    "            file.remove(res$save_uwot_path)    \n",
    "        }\n",
    "        uwot::save_uwot(res$umap, save_uwot_path)\n",
    "    }\n",
    "    \n",
    "    ## Build Reference! \n",
    "    if (verbose) \n",
    "        message(\"Calculate final L2 normalized reference centroids (Y_cos)\")\n",
    "    res$centroids = t(cosine_normalize_cpp(res$R %*% t(res$Z_corr), 1))\n",
    "    if (verbose) \n",
    "        message(\"Calculate reference compression terms (Nr and C)\")\n",
    "    res$cache = compute_ref_cache(res$R, res$Z_corr)\n",
    "    colnames(res$Z_orig) = row.names(res$metadata)\n",
    "    rownames(res$Z_orig) = paste0(\"PC_\", seq_len(nrow(res$Z_corr)))\n",
    "    colnames(res$Z_corr) = row.names(res$metadata)\n",
    "    rownames(res$Z_corr) = paste0(\"harmony_\", seq_len(nrow(res$Z_corr)))\n",
    "        \n",
    "    if (verbose) \n",
    "        message(\"Finished nicely.\")\n",
    "    return(res)    \n",
    "}\n",
    "\n",
    "environment(buildReferenceFromSeurat) <- environment(symphony::buildReference)\n",
    "\n",
    "RunHarmony.Seurat <- function(\n",
    "  object,\n",
    "  group.by.vars,\n",
    "  reduction = 'pca',\n",
    "  dims.use = NULL,\n",
    "  theta = NULL,\n",
    "  lambda = NULL,\n",
    "  sigma = 0.1,\n",
    "  nclust = NULL,\n",
    "  tau = 0,\n",
    "  block.size = 0.05,\n",
    "  max.iter.harmony = 10,\n",
    "  max.iter.cluster = 20,\n",
    "  epsilon.cluster = 1e-5,\n",
    "  epsilon.harmony = 1e-4,\n",
    "  plot_convergence = FALSE,\n",
    "  verbose = TRUE,\n",
    "  reference_values = NULL,\n",
    "  reduction.save = \"harmony\",\n",
    "  assay.use = 'RNA',\n",
    "  project.dim = TRUE,\n",
    "  ...\n",
    ") {\n",
    "  if (reduction == \"pca\") {\n",
    "    tryCatch(\n",
    "      embedding <- Seurat::Embeddings(object, reduction = \"pca\"),\n",
    "      error = function(e) {\n",
    "        if (verbose) {\n",
    "          message(\"Harmony needs PCA. Trying to run PCA now.\")\n",
    "        }\n",
    "        tryCatch(\n",
    "          object <- Seurat::RunPCA(\n",
    "            object,\n",
    "            assay = assay.use, verbose = verbose\n",
    "          ),\n",
    "          error = function(e) {\n",
    "            stop(\"Harmony needs PCA. Tried to run PCA and failed.\")\n",
    "          }\n",
    "        )\n",
    "      }\n",
    "    )\n",
    "  } else {\n",
    "    available.dimreduc <- names(methods::slot(object = object, name = \"reductions\"))\n",
    "    if (!(reduction %in% available.dimreduc)) {\n",
    "      stop(\"Requested dimension reduction is not present in the Seurat object\")\n",
    "    }\n",
    "    embedding <- Seurat::Embeddings(object, reduction = reduction)\n",
    "  }\n",
    "  if (is.null(dims.use)) {\n",
    "    dims.use <- seq_len(ncol(embedding))\n",
    "  }\n",
    "  dims_avail <- seq_len(ncol(embedding))\n",
    "  if (!all(dims.use %in% dims_avail)) {\n",
    "    stop(\"trying to use more dimensions than computed. Rereun dimension reduction\n",
    "         with more dimensions or run Harmony with fewer dimensions\")\n",
    "  }\n",
    "  if (length(dims.use) == 1) {\n",
    "    stop(\"only specified one dimension in dims.use\")\n",
    "  }\n",
    "  metavars_df <- Seurat::FetchData(object, group.by.vars)\n",
    "    \n",
    "  harmonyObject <- HarmonyMatrix(\n",
    "    embedding,\n",
    "    metavars_df,\n",
    "    group.by.vars,\n",
    "    FALSE,\n",
    "    0,\n",
    "    theta,\n",
    "    lambda,\n",
    "    sigma,\n",
    "    nclust,\n",
    "    tau,\n",
    "    block.size,\n",
    "    max.iter.harmony,\n",
    "    max.iter.cluster,\n",
    "    epsilon.cluster,\n",
    "    epsilon.harmony,\n",
    "    plot_convergence,\n",
    "    TRUE,\n",
    "    verbose,\n",
    "    reference_values\n",
    "  )\n",
    "\n",
    "  harmonyEmbed <- t(as.matrix(harmonyObject$Z_corr))\n",
    "  rownames(harmonyEmbed) <- row.names(embedding)\n",
    "  colnames(harmonyEmbed) <- paste0(reduction.save, \"_\", seq_len(ncol(harmonyEmbed)))\n",
    "\n",
    "  harmonyClusters <- t(harmonyObject$R)\n",
    "  rownames(harmonyClusters) <- row.names(embedding)\n",
    "  colnames(harmonyClusters) <- paste0('R', seq_len(ncol(harmonyClusters)))\n",
    "  \n",
    "  suppressWarnings({\n",
    "    harmonydata <- Seurat::CreateDimReducObject(\n",
    "      embeddings = harmonyEmbed,\n",
    "      stdev = as.numeric(apply(harmonyEmbed, 2, stats::sd)),\n",
    "      assay = assay.use,\n",
    "      key = reduction.save,\n",
    "      misc=list(R=harmonyClusters)\n",
    "    )\n",
    "  })\n",
    "\n",
    "  object[[reduction.save]] <- harmonydata\n",
    "  if (project.dim) {\n",
    "    object <- Seurat::ProjectDim(\n",
    "      object,\n",
    "      reduction = reduction.save,\n",
    "      overwrite = TRUE,\n",
    "      verbose = FALSE\n",
    "    )\n",
    "  }\n",
    "  return(object)\n",
    "}\n",
    "\n",
    "environment(RunHarmony.Seurat) <- environment(harmony::HarmonyMatrix)\n",
    "\n",
    "RunUMAP2 <- function (object, reduction.key = \"UMAP_\", assay = NULL, reduction.model = NULL, \n",
    "    return.model = FALSE, umap.method = \"uwot\", n.neighbors = 30L, \n",
    "    n.components = 2L, metric = \"cosine\", n.epochs = NULL, learning.rate = 1, \n",
    "    min.dist = 0.3, spread = 1, set.op.mix.ratio = 1, local.connectivity = 1L, \n",
    "    repulsion.strength = 1, negative.sample.rate = 5, a = NULL, \n",
    "    b = NULL, uwot.sgd = FALSE, seed.use = 42, metric.kwds = NULL, \n",
    "    angular.rp.forest = FALSE, verbose = TRUE, ...) \n",
    "{\n",
    "    CheckDots(...)\n",
    "    if (!is.null(x = seed.use)) {\n",
    "        set.seed(seed = seed.use)\n",
    "    }\n",
    "    if (umap.method != \"umap-learn\" && getOption(\"Seurat.warn.umap.uwot\", \n",
    "        TRUE)) {\n",
    "        warning(\"The default method for RunUMAP has changed from calling Python UMAP via reticulate to the R-native UWOT using the cosine metric\", \n",
    "            \"\\nTo use Python UMAP via reticulate, set umap.method to 'umap-learn' and metric to 'correlation'\", \n",
    "            \"\\nThis message will be shown once per session\", \n",
    "            call. = FALSE, immediate. = TRUE)\n",
    "        options(Seurat.warn.umap.uwot = FALSE)\n",
    "    }\n",
    "    if (umap.method == \"uwot-learn\") {\n",
    "        warning(\"'uwot-learn' is deprecated. Set umap.method = 'uwot' and return.model = TRUE\")\n",
    "        umap.method <- \"uwot\"\n",
    "        return.model <- TRUE\n",
    "    }\n",
    "    if (return.model) {\n",
    "        if (verbose) {\n",
    "            message(\"UMAP will return its model\")\n",
    "        }\n",
    "        umap.method = \"uwot\"\n",
    "    }\n",
    "    if (inherits(x = object, what = \"Neighbor\")) {\n",
    "        object <- list(idx = Indices(object), dist = Distances(object))\n",
    "    }\n",
    "    if (!is.null(x = reduction.model)) {\n",
    "        if (verbose) {\n",
    "            message(\"Running UMAP projection\")\n",
    "        }\n",
    "        umap.method <- \"uwot-predict\"\n",
    "    }\n",
    "    umap.output <- switch(EXPR = umap.method, `umap-learn` = {\n",
    "        if (!py_module_available(module = \"umap\")) {\n",
    "            stop(\"Cannot find UMAP, please install through pip (e.g. pip install umap-learn).\")\n",
    "        }\n",
    "        if (!is.null(x = seed.use)) {\n",
    "            py_set_seed(seed = seed.use)\n",
    "        }\n",
    "        if (typeof(x = n.epochs) == \"double\") {\n",
    "            n.epochs <- as.integer(x = n.epochs)\n",
    "        }\n",
    "        umap_import <- import(module = \"umap\", delay_load = TRUE)\n",
    "        umap <- umap_import$UMAP(n_neighbors = as.integer(x = n.neighbors), \n",
    "            n_components = as.integer(x = n.components), metric = metric, \n",
    "            n_epochs = n.epochs, learning_rate = learning.rate, \n",
    "            min_dist = min.dist, spread = spread, set_op_mix_ratio = set.op.mix.ratio, \n",
    "            local_connectivity = local.connectivity, repulsion_strength = repulsion.strength, \n",
    "            negative_sample_rate = negative.sample.rate, a = a, \n",
    "            b = b, metric_kwds = metric.kwds, angular_rp_forest = angular.rp.forest, \n",
    "            verbose = verbose)\n",
    "        umap$fit_transform(as.matrix(x = object))\n",
    "    }, uwot = {\n",
    "        if (metric == \"correlation\") {\n",
    "            warning(\"UWOT does not implement the correlation metric, using cosine instead\", \n",
    "                call. = FALSE, immediate. = TRUE)\n",
    "            metric <- \"cosine\"\n",
    "        }\n",
    "        if (is.list(x = object)) {\n",
    "            umap(X = NULL, nn_method = object, n_threads = nbrOfWorkers(), \n",
    "                n_components = as.integer(x = n.components), \n",
    "                metric = metric, n_epochs = n.epochs, learning_rate = learning.rate, \n",
    "                min_dist = min.dist, spread = spread, set_op_mix_ratio = set.op.mix.ratio, \n",
    "                local_connectivity = local.connectivity, repulsion_strength = repulsion.strength, \n",
    "                negative_sample_rate = negative.sample.rate, \n",
    "                a = a, b = b, fast_sgd = uwot.sgd, verbose = verbose, \n",
    "                ret_model = return.model)\n",
    "        } else {\n",
    "            umap(X = object, n_threads = nbrOfWorkers(), n_neighbors = as.integer(x = n.neighbors), \n",
    "                n_components = as.integer(x = n.components), \n",
    "                metric = metric, n_epochs = n.epochs, learning_rate = learning.rate, \n",
    "                min_dist = min.dist, spread = spread, set_op_mix_ratio = set.op.mix.ratio, \n",
    "                local_connectivity = local.connectivity, repulsion_strength = repulsion.strength, \n",
    "                negative_sample_rate = negative.sample.rate, \n",
    "                a = a, b = b, fast_sgd = uwot.sgd, verbose = verbose, \n",
    "                ret_model = return.model)\n",
    "        }\n",
    "    }, `uwot-predict` = {\n",
    "        if (metric == \"correlation\") {\n",
    "            warning(\"UWOT does not implement the correlation metric, using cosine instead\", \n",
    "                call. = FALSE, immediate. = TRUE)\n",
    "            metric <- \"cosine\"\n",
    "        }\n",
    "        if (is.null(x = reduction.model) || !inherits(x = reduction.model, \n",
    "            what = \"DimReduc\")) {\n",
    "            stop(\"If running projection UMAP, please pass a DimReduc object with the model stored to reduction.model.\", \n",
    "                call. = FALSE)\n",
    "        }\n",
    "        model <- Misc(object = reduction.model, slot = \"model\")\n",
    "        if (length(x = model) == 0) {\n",
    "            stop(\"The provided reduction.model does not have a model stored. Please try running umot-learn on the object first\", \n",
    "                call. = FALSE)\n",
    "        }\n",
    "        if (is.list(x = object)) {\n",
    "            uwot::umap_transform(X = NULL, nn_method = object, \n",
    "                model = model, n_threads = nbrOfWorkers(), n_epochs = n.epochs, \n",
    "                verbose = verbose)\n",
    "        } else {\n",
    "            umap_transform(X = object, model = model, n_threads = nbrOfWorkers(), \n",
    "                n_epochs = n.epochs, verbose = verbose)\n",
    "        }\n",
    "    }, stop(\"Unknown umap method: \", umap.method, call. = FALSE))\n",
    "    if (return.model) {\n",
    "#         umap.output$nn_index <- NULL\n",
    "        umap.model <- umap.output\n",
    "        umap.output <- umap.output$embedding\n",
    "    }\n",
    "    colnames(x = umap.output) <- paste0(reduction.key, 1:ncol(x = umap.output))\n",
    "    if (inherits(x = object, what = \"dist\")) {\n",
    "        rownames(x = umap.output) <- attr(x = object, \"Labels\")\n",
    "    }\n",
    "    else if (is.list(x = object)) {\n",
    "        rownames(x = umap.output) <- rownames(x = object$idx)\n",
    "    }\n",
    "    else {\n",
    "        rownames(x = umap.output) <- rownames(x = object)\n",
    "    }\n",
    "    umap.reduction <- CreateDimReducObject(embeddings = umap.output, \n",
    "        key = reduction.key, assay = assay, global = TRUE)\n",
    "    if (return.model) {\n",
    "        Misc(umap.reduction, slot = \"model\") <- umap.model\n",
    "    }\n",
    "    return(umap.reduction)\n",
    "}\n",
    "\n",
    "\n",
    "environment(RunUMAP2) <- environment(Seurat:::RunUMAP.default)\n",
    "\n",
    "mapQuery <- function (exp_query, metadata_query, ref_obj, vars = NULL, verbose = TRUE, \n",
    "    do_normalize = TRUE, do_umap = TRUE, sigma = 0.1, return_type = c('symphony', 'Seurat')) \n",
    "{\n",
    "    if (return_type == 'Seurat') {\n",
    "        que <- Seurat::CreateSeuratObject(\n",
    "            counts=exp_query,\n",
    "            meta.data=metadata_query,\n",
    "            assay='SymphonyQuery'\n",
    "        )        \n",
    "    }\n",
    "    \n",
    "    if (do_normalize) {\n",
    "        if (verbose) \n",
    "            message(\"Normalizing\")\n",
    "        exp_query = normalizeData(exp_query, 10000, \"log\")\n",
    "    }\n",
    "    if (verbose) \n",
    "        message(\"Scaling and synchronizing query gene expression\")\n",
    "    idx_shared_genes = which(ref_obj$vargenes$symbol %in% rownames(exp_query))\n",
    "    shared_genes = ref_obj$vargenes$symbol[idx_shared_genes]\n",
    "    if (verbose) \n",
    "        message(\"Found \", length(shared_genes), \" reference variable genes in query dataset\")\n",
    "    exp_query_scaled = scaleDataWithStats(exp_query[shared_genes, \n",
    "        ], ref_obj$vargenes$mean[idx_shared_genes], ref_obj$vargenes$stddev[idx_shared_genes], \n",
    "        1)\n",
    "    exp_query_scaled_sync = matrix(0, nrow = length(ref_obj$vargenes$symbol), \n",
    "        ncol = ncol(exp_query))\n",
    "    exp_query_scaled_sync[idx_shared_genes, ] = exp_query_scaled\n",
    "    rownames(exp_query_scaled_sync) = ref_obj$vargenes$symbol\n",
    "    colnames(exp_query_scaled_sync) = colnames(exp_query)\n",
    "    if (verbose) \n",
    "        message(\"Project query cells using reference gene loadings\")\n",
    "    Z_pca_query = t(ref_obj$loadings) %*% exp_query_scaled_sync\n",
    "    if (verbose) \n",
    "        message(\"Clustering query cells to reference centroids\")\n",
    "    Z_pca_query_cos = cosine_normalize_cpp(Z_pca_query, 2)\n",
    "    R_query = soft_cluster(ref_obj$centroids, Z_pca_query_cos, \n",
    "        sigma)\n",
    "    if (verbose) \n",
    "        message(\"Correcting query batch effects\")\n",
    "    if (!is.null(vars)) {\n",
    "        design = droplevels(metadata_query)[, vars] %>% as.data.frame()\n",
    "        onehot = design %>% purrr::map(function(.x) {\n",
    "            if (length(unique(.x)) == 1) {\n",
    "                rep(1, length(.x))\n",
    "            }\n",
    "            else {\n",
    "                stats::model.matrix(~0 + .x)\n",
    "            }\n",
    "        }) %>% purrr::reduce(cbind)\n",
    "        Xq = cbind(1, intercept = onehot) %>% t()\n",
    "    }\n",
    "    else {\n",
    "        Xq = Matrix(rbind(rep(1, ncol(Z_pca_query)), rep(1, ncol(Z_pca_query))), \n",
    "            sparse = TRUE)\n",
    "    }\n",
    "    Zq_corr = moe_correct_ref(as.matrix(Z_pca_query), as.matrix(Xq), \n",
    "        as.matrix(R_query), as.matrix(ref_obj$cache[[1]]), as.matrix(ref_obj$cache[[2]]))\n",
    "    colnames(Z_pca_query) = row.names(metadata_query)\n",
    "    rownames(Z_pca_query) = paste0(\"PC_\", seq_len(nrow(Zq_corr)))\n",
    "    colnames(Zq_corr) = row.names(metadata_query)\n",
    "    rownames(Zq_corr) = paste0(\"harmony_\", seq_len(nrow(Zq_corr)))\n",
    "    umap_query = NULL\n",
    "    if (do_umap & !is.null(ref_obj$save_uwot_path)) {\n",
    "        if (verbose) \n",
    "            message(\"UMAP\")\n",
    "        ref_umap_model = uwot::load_uwot(ref_obj$save_uwot_path, \n",
    "            verbose = FALSE)\n",
    "        \n",
    "        ## UMAP may have been learned on subset of columns\n",
    "        umap_query = uwot::umap_transform(t(Zq_corr)[, 1:ref_umap_model$norig_col], ref_umap_model)\n",
    "#         umap_query = uwot::umap_transform(t(Zq_corr), ref_umap_model)\n",
    "        colnames(umap_query) = c(\"UMAP1\", \"UMAP2\")\n",
    "        rownames(umap_query) <- row.names(metadata_query)\n",
    "    }\n",
    "    if (verbose) \n",
    "        message(\"All done!\")\n",
    "    \n",
    "    if (return_type == 'Seurat') {\n",
    "        que@assays$SymphonyQuery@data <- exp_query\n",
    "        que@assays$SymphonyQuery@scale.data <- exp_query_scaled_sync\n",
    "        que[['pca']] <- Seurat::CreateDimReducObject(\n",
    "            embeddings = t(Z_pca_query),\n",
    "            loadings = ref_obj$loadings, \n",
    "            stdev = as.numeric(apply(Z_pca_query, 1, stats::sd)),\n",
    "            assay = 'SymphonyQuery',\n",
    "            key = 'pca_'\n",
    "        )\n",
    "        que[['harmony']] <- Seurat::CreateDimReducObject(\n",
    "            embeddings = t(Zq_corr),\n",
    "            stdev = as.numeric(apply(Zq_corr, 1, stats::sd)),\n",
    "            assay = 'SymphonyQuery',\n",
    "            key = 'harmony_',\n",
    "            misc=list(R=R_query)\n",
    "        )\n",
    "        que <- Seurat::ProjectDim(que, reduction = 'harmony', overwrite = TRUE, verbose = FALSE)\n",
    "        if (do_umap) {\n",
    "            que[['umap']] <- Seurat::CreateDimReducObject(\n",
    "                embeddings = umap_query,\n",
    "                assay = 'SymphonyQuery',\n",
    "                key = 'umap_'\n",
    "            )            \n",
    "        }\n",
    "        return(que)\n",
    "    } else if (return_type == 'symphony') {\n",
    "        return(list(Z = Zq_corr, Zq_pca = Z_pca_query, R = R_query, \n",
    "            Xq = Xq, umap = umap_query, meta_data = metadata_query))\n",
    "    } else {\n",
    "        stop(glue('The return type = \\\"{return_type}\\\" is not available.'))\n",
    "    }\n",
    "    \n",
    "}\n",
    "\n",
    "environment(mapQuery) <- environment(symphony::mapQuery)\n",
    "\n",
    "knnPredict.Seurat <- function(query_obj, ref_obj, label_transfer, k = 5) \n",
    "{\n",
    "    if (!label_transfer %in% colnames(ref_obj$meta_data)) {\n",
    "        stop('Label \\\"{label_transfer}\\\" is not available in the reference metadata.')\n",
    "    }\n",
    "    knn_pred <- class::knn(t(ref_obj$Z_corr), Embeddings(query_obj, 'harmony'), \n",
    "        ref_obj$meta_data[[label_transfer]], k = k)\n",
    "    query_obj@meta.data[[label_transfer]] <- knn_pred\n",
    "    return(query_obj)\n",
    "}"
   ]
  },
  {
   "cell_type": "code",
   "execution_count": null,
   "id": "8fad85b7-c3fc-4981-bd11-c815c0fe7236",
   "metadata": {},
   "outputs": [],
   "source": [
    "options(repr.plot.width=11, repr.plot.height=11)"
   ]
  },
  {
   "cell_type": "code",
   "execution_count": null,
   "id": "dbf9feb9-1531-42a9-80ce-b8b85ce83d36",
   "metadata": {},
   "outputs": [],
   "source": [
    "set_figsize <- function(width, height){\n",
    "    options(repr.plot.width = width, \n",
    "            repr.plot.height = height)\n",
    "}"
   ]
  },
  {
   "cell_type": "markdown",
   "id": "7069abba-72bb-4957-93a5-b5b60d5a1f93",
   "metadata": {},
   "source": [
    "# Prepare data of validation cohort"
   ]
  },
  {
   "cell_type": "code",
   "execution_count": null,
   "id": "dc49da36-a60f-47db-bfe6-bc5ff7aff63d",
   "metadata": {},
   "outputs": [],
   "source": [
    "## Read 10X data:\n",
    "matrix_dir = \"pathway to the combined counts of validation cohort\""
   ]
  },
  {
   "cell_type": "code",
   "execution_count": null,
   "id": "d7ea7601-a3ec-4387-91bc-1df9c5f76ee0",
   "metadata": {},
   "outputs": [],
   "source": [
    "list.files(matrix_dir)"
   ]
  },
  {
   "cell_type": "code",
   "execution_count": null,
   "id": "be6e5a9c-81d1-4b02-b822-54ce727e0289",
   "metadata": {},
   "outputs": [],
   "source": [
    "data <- Read10X(data.dir = matrix_dir)\n",
    "## Create Seurat object\n",
    "pbmc <- CreateSeuratObject (counts = data, min.cells = 3, min.features = 200, project = \"PBMC_Dec_2021\")"
   ]
  },
  {
   "cell_type": "code",
   "execution_count": null,
   "id": "f62a2c87-f332-4535-910e-3fe4884c9279",
   "metadata": {},
   "outputs": [],
   "source": [
    "pbmc"
   ]
  },
  {
   "cell_type": "code",
   "execution_count": null,
   "id": "33227ac6-e69e-4059-85c4-7cb61f47ee0e",
   "metadata": {},
   "outputs": [],
   "source": [
    "# The number of features and UMIs (nFeature_RNA and nCount_RNA) are automatically calculated for every object by Seurat.\n",
    "# For non-UMI data, nCount_RNA represents the sum of the non-normalized values within a cell\n",
    "# We calculate the percentage of mitochondrial features here and store it in object metadata as `percent.mito`.\n",
    "# We use raw count data since this represents non-transformed and non-log-normalized counts\n",
    "# The % of UMI mapping to MT-features is a common scRNA-seq QC metric.\n",
    "mito.features <- grep(pattern = \"^MT-\", x = rownames(x = pbmc), value = TRUE)\n",
    "percent.mito <- Matrix::colSums(x = GetAssayData(object = pbmc, slot = 'counts')[mito.features, ]) / Matrix::colSums(x = GetAssayData(object = pbmc, slot = 'counts'))"
   ]
  },
  {
   "cell_type": "code",
   "execution_count": null,
   "id": "ad489969-2289-4fe6-9bff-dcd8b77f5f43",
   "metadata": {},
   "outputs": [],
   "source": [
    "# The [[ operator can add columns to object metadata, and is a great place to stash QC stats\n",
    "pbmc[['percent.mito']] <- percent.mito\n",
    "VlnPlot(object = pbmc, features = c(\"nFeature_RNA\", \"nCount_RNA\", \"percent.mito\"), ncol = 3, pt.size = 0)"
   ]
  },
  {
   "cell_type": "code",
   "execution_count": null,
   "id": "37f0bada-4bd1-4551-8bf0-7283dfb994fc",
   "metadata": {},
   "outputs": [],
   "source": [
    "# FeatureScatter is typically used to visualize feature-feature relationships, but can be used for anything \n",
    "# calculated by the object, i.e. columns in object metadata, PC scores etc.\n",
    "# Since there is a rare subset of cells with an outlier level of high mitochondrial percentage\n",
    "# and also low UMI content, we filter these as well\n",
    "FeatureScatter(object = pbmc, feature1 = \"nCount_RNA\", feature2 = \"percent.mito\")"
   ]
  },
  {
   "cell_type": "code",
   "execution_count": null,
   "id": "360e5723-6ae2-4941-9310-00aa756f13b5",
   "metadata": {},
   "outputs": [],
   "source": [
    "FeatureScatter(object = pbmc, feature1 = \"nCount_RNA\", feature2 = \"nFeature_RNA\")"
   ]
  },
  {
   "cell_type": "code",
   "execution_count": null,
   "id": "3b4341f5-1834-4c3b-a51f-22f512816d80",
   "metadata": {},
   "outputs": [],
   "source": [
    "# We filter out cells that have unique feature counts over 5,000 or less than 500\n",
    "pbmc <- subset(x = pbmc, subset = nFeature_RNA > 500 & nFeature_RNA < 5000 & percent.mito < '0.15')"
   ]
  },
  {
   "cell_type": "code",
   "execution_count": null,
   "id": "3f1d6aa2-c1b1-4103-9ce0-75b990f31c34",
   "metadata": {},
   "outputs": [],
   "source": [
    "pbmc"
   ]
  },
  {
   "cell_type": "code",
   "execution_count": null,
   "id": "8a5423cf-6b78-41f9-a447-237e37f91dfd",
   "metadata": {},
   "outputs": [],
   "source": [
    "VlnPlot(object = pbmc, features = c(\"nFeature_RNA\", \"nCount_RNA\", \"percent.mito\"), ncol = 3, pt.size = 0.00001)"
   ]
  },
  {
   "cell_type": "markdown",
   "id": "5ee2426e-bd63-4f71-8cd4-b31569480b21",
   "metadata": {},
   "source": [
    "## Create sample information column"
   ]
  },
  {
   "cell_type": "code",
   "execution_count": null,
   "id": "aae1693f-7da1-4258-8cd0-b942c59c5654",
   "metadata": {},
   "outputs": [],
   "source": [
    "# Get batches based on cell names\n",
    "samples_batches <- sapply(colnames(GetAssayData(object = pbmc, slot = \"counts\")),\n",
    "                      FUN=function(x){substr(x,18,19)})"
   ]
  },
  {
   "cell_type": "code",
   "execution_count": null,
   "id": "5922a7cc-afc3-4322-bce4-5cfaac605524",
   "metadata": {},
   "outputs": [],
   "source": [
    "# Turn to numbers and add cell names to them\n",
    "samples_batches <- as.numeric(as.character(samples_batches))\n",
    "names(samples_batches) <- colnames(GetAssayData(object = pbmc, slot = \"counts\"))"
   ]
  },
  {
   "cell_type": "code",
   "execution_count": null,
   "id": "a3f7178d-e858-48f4-a86c-7d3edb5f18b6",
   "metadata": {},
   "outputs": [],
   "source": [
    "sample.effect <- samples_batches"
   ]
  },
  {
   "cell_type": "code",
   "execution_count": null,
   "id": "d369d8c4-103e-4b62-84cc-4c67921005ce",
   "metadata": {},
   "outputs": [],
   "source": [
    "pbmc <- AddMetaData(pbmc, sample.effect, \"sample.effect\")"
   ]
  },
  {
   "cell_type": "code",
   "execution_count": null,
   "id": "4460018c-463f-495c-8fbb-3458d2dfb2dd",
   "metadata": {},
   "outputs": [],
   "source": [
    "Idents(pbmc) <- 'sample.effect'\n",
    "VlnPlot(object = pbmc, features = \"nFeature_RNA\", pt.size = 0)"
   ]
  },
  {
   "cell_type": "markdown",
   "id": "d3665007-63ce-4264-86dc-0fc327901e17",
   "metadata": {
    "tags": []
   },
   "source": [
    "## Adding the sample and diagnosis information:"
   ]
  },
  {
   "cell_type": "code",
   "execution_count": null,
   "id": "767aeeea-8f85-40dd-ab29-cccd8bc8b0e9",
   "metadata": {},
   "outputs": [],
   "source": [
    "info <- read.csv(file = './PBMC_info.csv')"
   ]
  },
  {
   "cell_type": "code",
   "execution_count": null,
   "id": "989f56fc-c920-4a68-babd-8b6e53d9e271",
   "metadata": {},
   "outputs": [],
   "source": [
    "for(i in 1:nrow(pbmc@meta.data)){\n",
    "    pbmc@meta.data$sample[i] <- filter(info, Number == pbmc@meta.data$sample.effect[i])$Sample\n",
    "    pbmc@meta.data$diagnosis[i] <- filter(info, Number == pbmc@meta.data$sample.effect[i])$Diagnosis\n",
    "}"
   ]
  },
  {
   "cell_type": "markdown",
   "id": "55c4eca2-6f69-4abe-98ba-413b5a0cb8be",
   "metadata": {
    "tags": []
   },
   "source": [
    "## Adding TCR information"
   ]
  },
  {
   "cell_type": "code",
   "execution_count": null,
   "id": "a797aae9-5681-43d8-9d67-0107f7d6e507",
   "metadata": {
    "tags": []
   },
   "outputs": [],
   "source": [
    "#First we need to create TCR file for the first sample in the list\n",
    "tcr <- read.csv(paste(info$TCR_path[1], \"/filtered_contig_annotations.csv\", sep=\"\"))\n",
    "tcr <- with(tcr, tcr[order(chain, decreasing = TRUE), ]) # place TRB on top before removing duplicates\n",
    "tcr <- tcr[!duplicated(tcr$barcode), ]\n",
    "#choose the columns to keep\n",
    "tcr <- tcr[,c(\"barcode\", \"raw_clonotype_id\", \"chain\", 'v_gene')]\n",
    "names(tcr)[names(tcr) == \"raw_clonotype_id\"] <- \"clonotype_id\"\n",
    "#read clonotypes file\n",
    "clono <- read.csv(paste(info$TCR_path[1], \"/clonotypes.csv\", sep=\"\"))\n",
    "tcr <- merge(tcr, clono[, c(\"clonotype_id\", \"frequency\", \"cdr3s_aa\")])\n",
    "#Rename columns\n",
    "names(tcr)[1] <- \"TCR_clonotype_id\"\n",
    "names(tcr)[3] <- 'TCR_chain'\n",
    "names(tcr)[4] <- 'TCR_v_gene'\n",
    "names(tcr)[5] <- 'TCR_frequency'\n",
    "names(tcr)[6] <- 'TCR_cdr3'\n",
    "#reorder Columns\n",
    "tcr <- tcr[, c(2, 1, 3, 4, 5, 6)]\n",
    "#correct rownames\n",
    "rownames(tcr) <- tcr[,1]\n",
    "tcr[,1] <- NULL\n",
    "#Split cdr3 column:\n",
    "tcr <- separate(data = tcr, col = TCR_cdr3, into = c(\"TCR1\", \"TCR2\", \"TCR3\", \"TCR4\"), sep = \"\\\\;\")\n",
    "tcr[is.na(tcr)] <- \"FALSE\"\n",
    "head(tcr)\n",
    "tcr.combined <- tcr"
   ]
  },
  {
   "cell_type": "code",
   "execution_count": null,
   "id": "bd174246-0654-47ef-82be-31cab43b10f5",
   "metadata": {
    "tags": []
   },
   "outputs": [],
   "source": [
    "#Now we can start a loop for sample 2 till the end:\n",
    "for (i in 2:nrow(info)){\n",
    "    tcr <- read.csv(paste(info$TCR_path[i], \"/filtered_contig_annotations.csv\", sep=\"\"))\n",
    "    #change barcode numbers according to samples in the loop\n",
    "    tcr$barcode <- gsub(\"-1\", paste('-', i, sep = ''), tcr$barcode) \n",
    "    tcr <- with(tcr, tcr[order(chain, decreasing = TRUE), ]) # place TRB on top before removing duplicates\n",
    "    tcr <- tcr[!duplicated(tcr$barcode), ]\n",
    "    #choose the columns to keep\n",
    "    tcr <- tcr[,c(\"barcode\", \"raw_clonotype_id\", \"chain\", 'v_gene')]\n",
    "    names(tcr)[names(tcr) == \"raw_clonotype_id\"] <- \"clonotype_id\"\n",
    "    #read clonotypes file\n",
    "    clono <- read.csv(paste(info$TCR_path[i], \"/clonotypes.csv\", sep=\"\"))\n",
    "    tcr <- merge(tcr, clono[, c(\"clonotype_id\", \"frequency\", \"cdr3s_aa\")])\n",
    "    #Rename columns\n",
    "    names(tcr)[1] <- \"TCR_clonotype_id\"\n",
    "    names(tcr)[3] <- 'TCR_chain'\n",
    "    names(tcr)[4] <- 'TCR_v_gene'\n",
    "    names(tcr)[5] <- 'TCR_frequency'\n",
    "    names(tcr)[6] <- 'TCR_cdr3'\n",
    "    #reorder Columns\n",
    "    tcr <- tcr[, c(2, 1, 3, 4, 5, 6)]\n",
    "    #correct rownames\n",
    "    rownames(tcr) <- tcr[,1]\n",
    "    tcr[,1] <- NULL\n",
    "    #Split cdr3 column:\n",
    "    tcr <- separate(data = tcr, col = TCR_cdr3, into = c(\"TCR1\", \"TCR2\", \"TCR3\", \"TCR4\"), sep = \"\\\\;\")\n",
    "    tcr[is.na(tcr)] <- \"FALSE\"\n",
    "    tcr.combined <- rbind(tcr.combined, tcr)\n",
    "}"
   ]
  },
  {
   "cell_type": "code",
   "execution_count": null,
   "id": "bca45bfc-5edf-4018-9903-a27033d37f7c",
   "metadata": {
    "tags": []
   },
   "outputs": [],
   "source": [
    "#divide in TRA and TRB subset:\n",
    "for (k in 1:nrow(tcr.combined)){\n",
    "  if(startsWith(tcr.combined$TCR1[k], 'TRB:')){\n",
    "    tcr.combined$TCR1B[k] <- sub(pattern = '.*:', x = tcr.combined$TCR1[k], '')\n",
    "  } else {tcr.combined$TCR1B[k] <- 'FALSE'}\n",
    "    if(startsWith(tcr.combined$TCR1[k], 'TRA:')){\n",
    "    tcr.combined$TCR1A[k] <- sub(pattern = '.*:', x = tcr.combined$TCR1[k], '')\n",
    "  } else {tcr.combined$TCR1A[k] <- 'FALSE'}\n",
    "  \n",
    "  if(startsWith(tcr.combined$TCR2[k], 'TRB:')){\n",
    "    tcr.combined$TCR2B[k] <- sub(pattern = '.*:', x = tcr.combined$TCR2[k], '')\n",
    "  } else {tcr.combined$TCR2B[k] <- 'FALSE'}\n",
    "        if(startsWith(tcr.combined$TCR2[k], 'TRA:')){\n",
    "    tcr.combined$TCR2A[k] <- sub(pattern = '.*:', x = tcr.combined$TCR2[k], '')\n",
    "  } else {tcr.combined$TCR2A[k] <- 'FALSE'}\n",
    "  \n",
    "  if(startsWith(tcr.combined$TCR3[k], 'TRB:')){\n",
    "    tcr.combined$TCR3B[k] <- sub(pattern = '.*:', x = tcr.combined$TCR3[k], '')\n",
    "  } else {tcr.combined$TCR3B[k] <- 'FALSE'}\n",
    "     if(startsWith(tcr.combined$TCR3[k], 'TRA:')){\n",
    "    tcr.combined$TCR3A[k] <- sub(pattern = '.*:', x = tcr.combined$TCR3[k], '')\n",
    "  } else {tcr.combined$TCR3A[k] <- 'FALSE'}\n",
    "  \n",
    "  if(startsWith(tcr.combined$TCR4[k], 'TRB:')){\n",
    "    tcr.combined$TCR4B[k] <- sub(pattern = '.*:', x = tcr.combined$TCR4[k], '')\n",
    "  } else {tcr.combined$TCR4B[k] <- 'FALSE'}\n",
    "    if(startsWith(tcr.combined$TCR4[k], 'TRA:')){\n",
    "    tcr.combined$TCR4A[k] <- sub(pattern = '.*:', x = tcr.combined$TCR4[k], '')\n",
    "  } else {tcr.combined$TCR4A[k] <- 'FALSE'}\n",
    "}"
   ]
  },
  {
   "cell_type": "code",
   "execution_count": null,
   "id": "f60af035-cfc1-452b-9ec6-e85599dc3e4c",
   "metadata": {},
   "outputs": [],
   "source": [
    "tcr.combined$TCR1 <- NULL\n",
    "tcr.combined$TCR2 <- NULL\n",
    "tcr.combined$TCR3 <- NULL\n",
    "tcr.combined$TCR4 <- NULL\n",
    "head(tcr.combined)\n",
    "tail(tcr.combined)"
   ]
  },
  {
   "cell_type": "code",
   "execution_count": null,
   "id": "ba23d98d-e97e-4980-816e-64d80377565b",
   "metadata": {},
   "outputs": [],
   "source": [
    "write.csv(tcr.combined, file = './tcr_pbmc_MS_IIH_all.csv')"
   ]
  },
  {
   "cell_type": "code",
   "execution_count": null,
   "id": "6c1236cd-4a6f-4a99-a14b-7024cffc219e",
   "metadata": {},
   "outputs": [],
   "source": [
    "pbmc <- AddMetaData(object = pbmc, metadata = tcr.combined)"
   ]
  },
  {
   "cell_type": "code",
   "execution_count": null,
   "id": "ac5930ff-4bad-410b-862c-b63d469d7c6d",
   "metadata": {},
   "outputs": [],
   "source": [
    "md = pbmc@meta.data # First, let's get the meta data\n",
    "i <- sapply(md, is.factor) # Identify all factor variables in your data\n",
    "md[i] <- lapply(md[i], as.character) # Convert factors to character variables\n",
    "md[is.na(md)] <- \"FALSE\" # Replace NA with \"FALSE\"\n",
    "md[i] <- lapply(md[i], as.factor) # Convert character columns back to factors\n",
    "pbmc@meta.data = md #Insert it back"
   ]
  },
  {
   "cell_type": "markdown",
   "id": "a8cc469e-f965-45a4-a224-5e7b732db1e1",
   "metadata": {},
   "source": [
    "## Add CD8 information column"
   ]
  },
  {
   "cell_type": "code",
   "execution_count": null,
   "id": "1c2a796b-5fd7-4744-abc8-ad00e75f28cf",
   "metadata": {},
   "outputs": [],
   "source": [
    "for (i in 1:nrow(pbmc@meta.data)){\n",
    "    if(pbmc@meta.data$TCR_frequency[i] == 'FALSE'){\n",
    "        pbmc@meta.data$V6[i] <- 'FALSE'\n",
    "    } else {pbmc@meta.data$V6[i] <- 'CD8'}\n",
    "}"
   ]
  },
  {
   "cell_type": "code",
   "execution_count": null,
   "id": "3ee2e5f7-e1b6-417a-8e77-31d17335ae32",
   "metadata": {},
   "outputs": [],
   "source": [
    "## Correct frequency column after pre-processing"
   ]
  },
  {
   "cell_type": "code",
   "execution_count": null,
   "id": "3b2103f8-ec7c-4f38-98ed-86250e457eb6",
   "metadata": {},
   "outputs": [],
   "source": [
    "#subset only T cells\n",
    "Idents(pbmc) <- 'V6'\n",
    "tcells <- subset(pbmc, idents = 'CD8')\n",
    "tcells"
   ]
  },
  {
   "cell_type": "code",
   "execution_count": null,
   "id": "4398e2f1-47ca-4806-af19-0f2a9a295823",
   "metadata": {},
   "outputs": [],
   "source": [
    "# create a column containing sample effect and clonotype:\n",
    "for (i in 1:dim(tcells@meta.data)[1]){\n",
    "        tcells@meta.data$Sample_Clono[i] <- paste(tcells$sample.effect[i], tcells$TCR_clonotype_id[i], sep = '_')\n",
    "}"
   ]
  },
  {
   "cell_type": "code",
   "execution_count": null,
   "id": "e4a402bd-2fa0-428c-8e69-d7a603830d25",
   "metadata": {},
   "outputs": [],
   "source": [
    "for (i in 1:nrow(tcells@meta.data)){\n",
    "    tcells@meta.data$TCR_frequency_corrected[i] <- sum(tcells@meta.data$Sample_Clono == tcells@meta.data$Sample_Clono[i])\n",
    "}"
   ]
  },
  {
   "cell_type": "code",
   "execution_count": null,
   "id": "2985ac5c-75a7-4622-9508-278147d5eb8d",
   "metadata": {},
   "outputs": [],
   "source": [
    "tcells@meta.data$TCR_frequency_corrected <- as.numeric(tcells@meta.data$TCR_frequency_corrected)\n",
    "class(tcells@meta.data$TCR_frequency_corrected)\n",
    "for (i in 1:dim(tcells@meta.data)[1]){\n",
    "    if (tcells@meta.data$TCR_frequency_corrected[i] > 2){\n",
    "        tcells@meta.data$TCR_Clono[i] <- paste(tcells$sample.effect[i], tcells$TCR_clonotype_id[i], tcells$TCR_frequency_corrected[i], sep = '_')\n",
    "    } else {tcells@meta.data$TCR_Clono[i] <- tcells@meta.data$TCR_frequency_corrected[i]}\n",
    "}"
   ]
  },
  {
   "cell_type": "markdown",
   "id": "8159d306-f210-4365-9993-86d3320ba62c",
   "metadata": {},
   "source": [
    "## Adding expanded column"
   ]
  },
  {
   "cell_type": "code",
   "execution_count": null,
   "id": "293261c1-d3e6-46f8-8619-0231aaf6e415",
   "metadata": {},
   "outputs": [],
   "source": [
    "#add expand column\n",
    "for (i in 1:nrow(tcells@meta.data)){\n",
    "    if(tcells@meta.data$TCR_frequency_corrected[i] > 2){\n",
    "        tcells@meta.data$expand[i] <- 'exp'\n",
    "    } else {tcells@meta.data$expand[i] <- 'nonexp'}\n",
    "}"
   ]
  },
  {
   "cell_type": "code",
   "execution_count": null,
   "id": "a2b0b399-29f8-41bb-b1f8-609e6b93a754",
   "metadata": {},
   "outputs": [],
   "source": [
    "head(tcells@meta.data)"
   ]
  },
  {
   "cell_type": "markdown",
   "id": "5f145203-6b2e-4a8c-99e5-a0e94626506a",
   "metadata": {},
   "source": [
    "## Simplify the diagnosis column"
   ]
  },
  {
   "cell_type": "code",
   "execution_count": null,
   "id": "e4bf9a81-a566-4d8c-aab6-e84d8a820096",
   "metadata": {},
   "outputs": [],
   "source": [
    "tcells@meta.data$diagnosis_simp <- tcells@meta.data$diagnosis\n",
    "tcells@meta.data$diagnosis_simp[tcells@meta.data$diagnosis == 'Relapse'] <- 'MS'\n",
    "tcells@meta.data$diagnosis_simp[tcells@meta.data$diagnosis == 'Remission'] <- 'MS'"
   ]
  },
  {
   "cell_type": "code",
   "execution_count": null,
   "id": "044b5b42-7e23-4c73-a170-7631c300a63e",
   "metadata": {},
   "outputs": [],
   "source": [
    "saveRDS(pbmc, file = './pbmc_MS_IIH_with_tcr_20211205.rds')"
   ]
  },
  {
   "cell_type": "code",
   "execution_count": null,
   "id": "862b31b9-a073-42cd-8f60-9c15c21e4bfb",
   "metadata": {},
   "outputs": [],
   "source": [
    "saveRDS(tcells, file = './cd8_MS_IIH_20211205_without_umap.rds')"
   ]
  },
  {
   "cell_type": "markdown",
   "id": "2529b1ca-bd2d-42fe-8334-b370cfe9895a",
   "metadata": {},
   "source": [
    "# Load data for the reference"
   ]
  },
  {
   "cell_type": "code",
   "execution_count": null,
   "id": "f07de0da-1361-4ca0-a1df-d4cdbbfa459e",
   "metadata": {},
   "outputs": [],
   "source": [
    "ref_data <- readRDS(file = 'pathway to the CD8 Twins Study rds')"
   ]
  },
  {
   "cell_type": "code",
   "execution_count": null,
   "id": "04e04d11-d620-4086-a54b-509622ca4633",
   "metadata": {},
   "outputs": [],
   "source": [
    "query_data <- tcells"
   ]
  },
  {
   "cell_type": "code",
   "execution_count": null,
   "id": "41f00543-aa97-4107-b85b-1abef408eb0f",
   "metadata": {},
   "outputs": [],
   "source": [
    "ref_data@meta.data$orig.ident <- 'ref'\n",
    "query_data@meta.data$orig.ident <- 'query'"
   ]
  },
  {
   "cell_type": "code",
   "execution_count": null,
   "id": "b089b7b2-531c-49e6-a62d-0bf3e833dfd7",
   "metadata": {},
   "outputs": [],
   "source": [
    "cells_ref <- ref_data@meta.data\n",
    "cells_query <- query_data@meta.data"
   ]
  },
  {
   "cell_type": "code",
   "execution_count": null,
   "id": "a2fabca8-0cd8-416d-969d-e19abe11c467",
   "metadata": {},
   "outputs": [],
   "source": [
    "DefaultAssay(ref_data) <- 'RNA'\n",
    "# Run standard Seurat pipeline with log normalization\n",
    "obj <- ref_data %>% \n",
    "    NormalizeData(normalization.method = \"LogNormalize\", scale.factor = 10000)"
   ]
  },
  {
   "cell_type": "code",
   "execution_count": null,
   "id": "583b8277-8a35-4be6-b5f5-3c961223f399",
   "metadata": {},
   "outputs": [],
   "source": [
    "obj <- FindVariableFeatures(obj, selection.method = \"vst\", nfeatures = 2000)\n",
    "markers.remove <- grep(pattern = \"^TRAV|^TRBV|^TRGV|^TRDV|^IGLV|^IGKV|^IGHV|^RPL|^RPS|^IGHC|^MT-\",  x = rownames(x = obj), value = TRUE)\n",
    "VariableFeatures(object = obj) <- VariableFeatures(object = obj)[!(VariableFeatures(object = obj)%in%markers.remove)]"
   ]
  },
  {
   "cell_type": "code",
   "execution_count": null,
   "id": "6dac8542-1546-4b65-b9d6-e3d877078f1a",
   "metadata": {
    "collapsed": true,
    "jupyter": {
     "outputs_hidden": true
    },
    "tags": []
   },
   "outputs": [],
   "source": [
    "obj <- ScaleData(obj, features = VariableFeatures(object = obj), vars.to.regress = c(\"nCount_RNA\", \"percent.mito\"))\n",
    "obj <- RunPCA(obj, features = VariableFeatures(object = obj))"
   ]
  },
  {
   "cell_type": "code",
   "execution_count": null,
   "id": "bf5c9289-e211-41bf-b500-fc26f799929d",
   "metadata": {},
   "outputs": [],
   "source": [
    "options(repr.plot.height = 11, repr.plot.width = 11)\n",
    "ElbowPlot(object = obj, ndims = 50)"
   ]
  },
  {
   "cell_type": "markdown",
   "id": "691621ed-9f4e-4d99-b351-7aa0d22fa333",
   "metadata": {},
   "source": [
    "## Create harmony embedding needed for subsequent mapping"
   ]
  },
  {
   "cell_type": "code",
   "execution_count": null,
   "id": "ab117b58-18e5-4541-a17b-137734866ad8",
   "metadata": {
    "collapsed": true,
    "jupyter": {
     "outputs_hidden": true
    },
    "tags": []
   },
   "outputs": [],
   "source": [
    "obj <- RunHarmony.Seurat(obj, 'sample.effect') #dims.use"
   ]
  },
  {
   "cell_type": "code",
   "execution_count": null,
   "id": "22e15728-65ac-4a97-b230-bbf5b7e03da0",
   "metadata": {},
   "outputs": [],
   "source": [
    "obj <- FindNeighbors(obj, dims = 1:20, reduction  = 'harmony')\n",
    "obj <- FindClusters(obj, resolution = 0.5) "
   ]
  },
  {
   "cell_type": "code",
   "execution_count": null,
   "id": "ba928e2e-231b-4db6-9884-9b1c43c857bc",
   "metadata": {},
   "outputs": [],
   "source": [
    "## Currently, Seurat does not let you cache the umap model for future mapping\n",
    "## Therefore, please use this custom function to learn a saveable UMAP model\n",
    "obj[['umap']] <- RunUMAP2(Embeddings(obj, 'harmony')[, 1:20], assay='RNA', verbose=FALSE, umap.method='uwot', return.model=TRUE)"
   ]
  },
  {
   "cell_type": "code",
   "execution_count": null,
   "id": "bdb9c9ac-5928-4588-a1d6-3352381cad35",
   "metadata": {
    "tags": []
   },
   "outputs": [],
   "source": [
    "# Plot reference dims 20\n",
    "options(repr.plot.height = 11, repr.plot.width = 13)\n",
    "DimPlot(obj, reduction = 'umap', group.by = 'cd8_coded', label = TRUE)\n",
    "DimPlot(obj, reduction = 'umap', group.by = 'sample.effect', label = TRUE)\n",
    "options(repr.plot.height = 11, repr.plot.width = 11)"
   ]
  },
  {
   "cell_type": "markdown",
   "id": "5ba15e54-928b-4ef8-b82d-ac296a582742",
   "metadata": {},
   "source": [
    "# Mapping"
   ]
  },
  {
   "cell_type": "code",
   "execution_count": null,
   "id": "7553eb54-6c55-4ce8-b761-7be72a307467",
   "metadata": {},
   "outputs": [],
   "source": [
    "obj <- readRDS(file = 'cd8_PBMCs_Twins_reference_harmony.rds')\n",
    "query_data <- readRDS(file = './cd8_MS_IIH_20211205_without_umap.rds')"
   ]
  },
  {
   "cell_type": "markdown",
   "id": "6f4a5cbd-a61e-4739-ba85-ef1acf2e5da8",
   "metadata": {},
   "source": [
    "## Build symphony reference"
   ]
  },
  {
   "cell_type": "code",
   "execution_count": null,
   "id": "9f2bac4d-e63d-4b5c-be6a-860ec3dcd8da",
   "metadata": {},
   "outputs": [],
   "source": [
    "Idents(obj) <- 'cd8_coded'"
   ]
  },
  {
   "cell_type": "code",
   "execution_count": null,
   "id": "0976e393-9078-4037-b81e-b6180edb00b2",
   "metadata": {},
   "outputs": [],
   "source": [
    "ref <- buildReferenceFromSeurat(obj, verbose = TRUE, save_umap = TRUE, save_uwot_path = 'cache_symphony.uwot')"
   ]
  },
  {
   "cell_type": "markdown",
   "id": "97a66043-ed82-40de-8a43-cdb4651f1222",
   "metadata": {
    "tags": []
   },
   "source": [
    "## Map Query "
   ]
  },
  {
   "cell_type": "code",
   "execution_count": null,
   "id": "5c43e34d-3f84-440d-ac96-6ca8ffc4b7ad",
   "metadata": {},
   "outputs": [],
   "source": [
    "Map query starting from query counts and metadata"
   ]
  },
  {
   "cell_type": "code",
   "execution_count": null,
   "id": "94ae71c3-0dfa-4b4f-94e1-43c1f55b98a4",
   "metadata": {},
   "outputs": [],
   "source": [
    "query <- mapQuery(\n",
    "    query_data@assays$RNA@counts, \n",
    "    query_data@meta.data, \n",
    "    ref,\n",
    "    vars = 'orig.ident', \n",
    "    return_type = 'Seurat'\n",
    ")"
   ]
  },
  {
   "cell_type": "markdown",
   "id": "47feb1f3-6bbf-497e-a1d4-720da0a46723",
   "metadata": {},
   "source": [
    "### UMAP"
   ]
  },
  {
   "cell_type": "code",
   "execution_count": null,
   "id": "b72d62db-540b-4120-b69b-df3f474d33db",
   "metadata": {},
   "outputs": [],
   "source": [
    "options(repr.plot.height = 11, repr.plot.width = 11)\n",
    "DimPlot(obj, reduction = 'umap', group.by = 'cd8_coded', label = TRUE)\n",
    "DimPlot(query, reduction = 'umap') + labs(title = 'Mapped Query')"
   ]
  },
  {
   "cell_type": "markdown",
   "id": "75115e8c-a136-4857-8cac-c977e3c858fa",
   "metadata": {},
   "source": [
    "### Predict clusters "
   ]
  },
  {
   "cell_type": "code",
   "execution_count": null,
   "id": "b83ea280-c01f-43d5-a2d8-d9167b4191eb",
   "metadata": {},
   "outputs": [],
   "source": [
    "query <- knnPredict.Seurat(query, ref, 'cd8_coded')"
   ]
  },
  {
   "cell_type": "code",
   "execution_count": null,
   "id": "26c4002d-e479-46a4-93a6-04e9f60bae65",
   "metadata": {},
   "outputs": [],
   "source": [
    "options(repr.plot.height = 11, repr.plot.width = 20)\n",
    "(DimPlot(obj, reduction = 'umap', shuffle = TRUE, group.by = 'cd8_coded', label =T, label.size = 5, repel = T) + labs(title = 'Original Reference (cd8_coded)'))+ \n",
    "(DimPlot(query, reduction = 'umap', shuffle = TRUE, group.by = 'cd8_coded', label =T, label.size = 5, repel = T) + labs(title = 'MS_IIH predicted subclusters'))\n",
    "options(repr.plot.height = 11, repr.plot.width = 11)"
   ]
  },
  {
   "cell_type": "code",
   "execution_count": null,
   "id": "a3cac112-24a9-4609-89be-ab970fa58e44",
   "metadata": {},
   "outputs": [],
   "source": [
    "table(query@meta.data$cd8_coded)"
   ]
  },
  {
   "cell_type": "code",
   "execution_count": null,
   "id": "50bae17d-a4be-4aa1-9ead-99b7ea6de31d",
   "metadata": {},
   "outputs": [],
   "source": [
    "DimPlot(query, reduction = 'umap', shuffle = TRUE, group.by = 'cd8_coded', label =T, label.size = 6, repel = T)\n",
    "DimPlot(query, reduction = 'umap', shuffle = TRUE, group.by = 'sample.effect', label =T, label.size = 6, repel = T)"
   ]
  },
  {
   "cell_type": "code",
   "execution_count": null,
   "id": "32b8219a-3d72-43f8-9943-fbdc3a0e2bc7",
   "metadata": {},
   "outputs": [],
   "source": [
    "saveRDS(query, file = './cd8_MS_IIH_mapped_20211206.rds')"
   ]
  },
  {
   "cell_type": "code",
   "execution_count": null,
   "id": "2b9a7074-f7cf-4e1f-9709-f2ff1ac77327",
   "metadata": {},
   "outputs": [],
   "source": [
    "pbmc <- query"
   ]
  },
  {
   "cell_type": "code",
   "execution_count": null,
   "id": "71d741c9-7ee2-4ffc-9f0a-a1029bfd34ec",
   "metadata": {
    "tags": []
   },
   "outputs": [],
   "source": [
    "colnames(pbmc@meta.data)\n",
    "head(pbmc@meta.data)\n",
    "Idents(pbmc) <- 'cd8_coded'\n",
    "levels(pbmc) <- c('NK-like', 'MAIT', '1_CCR7', '2_NELL2', '3_NT5E', '4_CD82', '5_MAL', '6_GZMK', '7_MX1', '8_CD74', '9_IKZF2', '10_FGFBP2')\n",
    "options(repr.plot.width=12, repr.plot.height=11)\n",
    "DimPlot(pbmc, label = T, label.size = 6)"
   ]
  },
  {
   "cell_type": "code",
   "execution_count": null,
   "id": "985a2492-d2aa-4212-b78d-fbfc51b9965d",
   "metadata": {
    "tags": []
   },
   "outputs": [],
   "source": [
    "unique(pbmc@meta.data$sample)\n",
    "unique(pbmc@meta.data$diagnosis)\n",
    "unique(pbmc@meta.data$diagnosis_simp)\n",
    "\n",
    "length(unique(filter(pbmc@meta.data, diagnosis == 'IIH')$sample))\n",
    "length(unique(filter(pbmc@meta.data, diagnosis == 'Remission')$sample))\n",
    "length(unique(filter(pbmc@meta.data, diagnosis == 'Relapse')$sample))\n",
    "\n",
    "length(unique(filter(pbmc@meta.data, diagnosis_simp == 'MS')$sample))"
   ]
  },
  {
   "cell_type": "code",
   "execution_count": null,
   "id": "2900e870-a244-4e2f-b15d-1518147e0b4a",
   "metadata": {},
   "outputs": [],
   "source": [
    "#create a simplified column for patients merging the 2 samples for MS-6\n",
    "pbmc@meta.data$samplenumb <- pbmc@meta.data$sample\n",
    "pbmc@meta.data$samplenumb[pbmc@meta.data$sample == 'Bl_MS-6-1'] <- 'Bl_MS-6'\n",
    "pbmc@meta.data$samplenumb[pbmc@meta.data$sample == 'Bl_MS-6-2'] <- 'Bl_MS-6'"
   ]
  },
  {
   "cell_type": "code",
   "execution_count": null,
   "id": "7319c4f2-3bc9-472d-b053-e81b2fcf747a",
   "metadata": {},
   "outputs": [],
   "source": [
    "pbmc <- NormalizeData(pbmc, normalization.method = \"LogNormalize\", scale.factor = 10000)"
   ]
  },
  {
   "cell_type": "markdown",
   "id": "b3bf1be8-a1bb-427a-b45f-2c02573da137",
   "metadata": {
    "tags": []
   },
   "source": [
    "# Identify the matching cells in the object"
   ]
  },
  {
   "cell_type": "code",
   "execution_count": null,
   "id": "39131fae-2947-4ae2-98db-8966a0564cb1",
   "metadata": {},
   "outputs": [],
   "source": [
    "csf_md <- read.csv(file = './CSF_information.csv', row.names = 1)\n",
    "colnames(csf_md)"
   ]
  },
  {
   "cell_type": "code",
   "execution_count": null,
   "id": "b7c120ed-de25-41f4-93f6-555ceb75d7ea",
   "metadata": {},
   "outputs": [],
   "source": [
    "unique(csf_md$patient)"
   ]
  },
  {
   "cell_type": "code",
   "execution_count": null,
   "id": "435b47f1-4cd1-4b7a-87c4-0437c684e828",
   "metadata": {},
   "outputs": [],
   "source": [
    "pbmc@meta.data$patient <- sub(x = pbmc@meta.data$samplenumb, pattern = '.*Bl_', replacement = '')\n",
    "length(unique(pbmc@meta.data$patient))\n",
    "sum(unique(pbmc@meta.data$patient) %in% csf_md$patient)"
   ]
  },
  {
   "cell_type": "code",
   "execution_count": null,
   "id": "3db9d2db-c042-4c54-91ab-6b91cc1b59f3",
   "metadata": {},
   "outputs": [],
   "source": [
    "pbmc_md <- pbmc@meta.data"
   ]
  },
  {
   "cell_type": "code",
   "execution_count": null,
   "id": "0ed8c0a9-8537-4399-a7df-073b72c66308",
   "metadata": {
    "tags": []
   },
   "outputs": [],
   "source": [
    "#subset only the samples with corresponding csf\n",
    "nrow(pbmc_md)\n",
    "subset_pbmc <- pbmc_md[pbmc_md$patient %in% csf_md$patient, ]\n",
    "nrow(subset_pbmc)"
   ]
  },
  {
   "cell_type": "code",
   "execution_count": null,
   "id": "9ddfda4a-1100-473e-bb04-ac53a0b99949",
   "metadata": {
    "tags": []
   },
   "outputs": [],
   "source": [
    "getmode <- function(v) {\n",
    "   uniqv <- unique(v)\n",
    "   uniqv[which.max(tabulate(match(v, uniqv)))]\n",
    "}\n",
    "\n",
    "\n",
    "#csf overlap meta.data = md, pbmc_overlap_meta.data = subset_pbmc. Search for overlaps:\n",
    "md <- csf_md\n",
    "\n",
    "\n",
    "md$barcodes <- rownames(md)\n",
    "subset_pbmc$barcodes <- rownames(subset_pbmc)\n",
    "overlaped_cells_pbmc <- c()\n",
    "overlaped_tcr_frequency_corresponding_csf <- c()\n",
    "overlaped_tcr_clono_corresponding_csf <- c()\n",
    "\n",
    "for(i in 1:length(unique(subset_pbmc$patient))){\n",
    "    sample_csf <- filter(md, patient == unique(subset_pbmc$patient)[i]) #create subset of the csf meta.data with the selected sample in loop\n",
    "    sample_pbmc <- filter(subset_pbmc, patient == unique(subset_pbmc$patient)[i])  #create subset of the pbmc meta.data with the selected sample in loop    \n",
    "    for(r in 1:nrow(sample_pbmc)){\n",
    "        for(c in 1:4){\n",
    "            #tcr1b\n",
    "            if((sample_pbmc[r, paste('TCR', c, 'B', sep = '')] != 'FALSE') & (sample_pbmc[r, paste('TCR', c, 'B', sep = '')] %in% sample_csf$TCR1B)){ #search in TCRB of the corresponding sample\n",
    "               barcodes <- sample_pbmc$barcodes[r]\n",
    "               overlaped_cells_pbmc <- c(overlaped_cells_pbmc, barcodes)\n",
    "               tcr_frequency <- getmode(filter(sample_csf, TCR1B == sample_pbmc[r, paste('TCR', c, 'B', sep = '')])$TCR_frequency_corrected)\n",
    "               overlaped_tcr_frequency_corresponding_csf <- c(overlaped_tcr_frequency_corresponding_csf, tcr_frequency)\n",
    "               tcr_clono <- getmode(filter(sample_csf, TCR1B == sample_pbmc[r, paste('TCR', c, 'B', sep = '')])$Sample_Clono)\n",
    "               overlaped_tcr_clono_corresponding_csf <- c(overlaped_tcr_clono_corresponding_csf, tcr_clono) \n",
    "            }\n",
    "            #tcr2b\n",
    "           if((sample_pbmc[r, paste('TCR', c, 'B', sep = '')] != 'FALSE') & (sample_pbmc[r, paste('TCR', c, 'B', sep = '')] %in% sample_csf$TCR2B)){ #search in TCRB of the corresponding sample\n",
    "               barcodes <- sample_pbmc$barcodes[r]\n",
    "               overlaped_cells_pbmc <- c(overlaped_cells_pbmc, barcodes)\n",
    "               tcr_frequency <- getmode(filter(sample_csf, TCR2B == sample_pbmc[r, paste('TCR', c, 'B', sep = '')])$TCR_frequency_corrected)\n",
    "               overlaped_tcr_frequency_corresponding_csf <- c(overlaped_tcr_frequency_corresponding_csf, tcr_frequency)\n",
    "               tcr_clono <- getmode(filter(sample_csf, TCR2B == sample_pbmc[r, paste('TCR', c, 'B', sep = '')])$Sample_Clono)\n",
    "               overlaped_tcr_clono_corresponding_csf <- c(overlaped_tcr_clono_corresponding_csf, tcr_clono) \n",
    "            }\n",
    "            #tcr3b\n",
    "            if((sample_pbmc[r, paste('TCR', c, 'B', sep = '')] != 'FALSE') & (sample_pbmc[r, paste('TCR', c, 'B', sep = '')] %in% sample_csf$TCR3B)){ #search in TCRB of the corresponding sample\n",
    "               barcodes <- sample_pbmc$barcodes[r]\n",
    "               overlaped_cells_pbmc <- c(overlaped_cells_pbmc, barcodes)\n",
    "               tcr_frequency <- getmode(filter(sample_csf, TCR3B == sample_pbmc[r, paste('TCR', c, 'B', sep = '')])$TCR_frequency_corrected)\n",
    "               overlaped_tcr_frequency_corresponding_csf <- c(overlaped_tcr_frequency_corresponding_csf, tcr_frequency)\n",
    "               tcr_clono <- getmode(filter(sample_csf, TCR3B == sample_pbmc[r, paste('TCR', c, 'B', sep = '')])$Sample_Clono)\n",
    "               overlaped_tcr_clono_corresponding_csf <- c(overlaped_tcr_clono_corresponding_csf, tcr_clono) \n",
    "            }\n",
    "            #tcr4b\n",
    "            if((sample_pbmc[r, paste('TCR', c, 'B', sep = '')] != 'FALSE') & (sample_pbmc[r, paste('TCR', c, 'B', sep = '')] %in% sample_csf$TCR4B)){ #search in TCRB of the corresponding sample\n",
    "               barcodes <- sample_pbmc$barcodes[r]\n",
    "               overlaped_cells_pbmc <- c(overlaped_cells_pbmc, barcodes)\n",
    "               tcr_frequency <- getmode(filter(sample_csf, TCR4B == sample_pbmc[r, paste('TCR', c, 'B', sep = '')])$TCR_frequency_corrected)\n",
    "               overlaped_tcr_frequency_corresponding_csf <- c(overlaped_tcr_frequency_corresponding_csf, tcr_frequency)\n",
    "               tcr_clono <- getmode(filter(sample_csf, TCR4B == sample_pbmc[r, paste('TCR', c, 'B', sep = '')])$Sample_Clono)\n",
    "               overlaped_tcr_clono_corresponding_csf <- c(overlaped_tcr_clono_corresponding_csf, tcr_clono) \n",
    "            }\n",
    "        }\n",
    "    }\n",
    "}\n"
   ]
  },
  {
   "cell_type": "code",
   "execution_count": null,
   "id": "702b6cd6-b2b3-40cb-a4f0-0abad7a1cd0b",
   "metadata": {
    "tags": []
   },
   "outputs": [],
   "source": [
    "overlap_matrix_pbmc <- data.frame(matrix(NA, ncol = 3, nrow = length(overlaped_cells_pbmc)))\n",
    "colnames(overlap_matrix_pbmc) <- c('barcodes', 'csf_tcr_frequency', 'csf_tcr_clono')"
   ]
  },
  {
   "cell_type": "code",
   "execution_count": null,
   "id": "736374e1-3f57-458d-9ee3-6c811b130cfb",
   "metadata": {
    "tags": []
   },
   "outputs": [],
   "source": [
    "overlap_matrix_pbmc$barcodes <- overlaped_cells_pbmc\n",
    "overlap_matrix_pbmc$csf_tcr_frequency <- overlaped_tcr_frequency_corresponding_csf\n",
    "overlap_matrix_pbmc$csf_tcr_clono <- overlaped_tcr_clono_corresponding_csf"
   ]
  },
  {
   "cell_type": "code",
   "execution_count": null,
   "id": "4cc8c7b7-e6b3-4d8b-9c9e-0d710c52d407",
   "metadata": {
    "tags": []
   },
   "outputs": [],
   "source": [
    "overlap_matrix_pbmc <- overlap_matrix_pbmc[!duplicated(overlap_matrix_pbmc$barcodes), ]\n",
    "head(overlap_matrix_pbmc)\n",
    "nrow(overlap_matrix_pbmc)"
   ]
  },
  {
   "cell_type": "code",
   "execution_count": null,
   "id": "c1c10ce7-cb72-4638-a5d1-95cd2a2213e6",
   "metadata": {
    "tags": []
   },
   "outputs": [],
   "source": [
    "tail(overlap_matrix_pbmc)"
   ]
  },
  {
   "cell_type": "code",
   "execution_count": null,
   "id": "79d90738-45d6-4617-9612-bb50734d3a9c",
   "metadata": {
    "tags": []
   },
   "outputs": [],
   "source": [
    "#subset seurat object\n",
    "subset_pbmc_object <- pbmc\n",
    "subset_pbmc_object\n",
    "unique(subset_pbmc_object@meta.data$patient)"
   ]
  },
  {
   "cell_type": "code",
   "execution_count": null,
   "id": "2ae5364f-c658-4f2d-b514-c0965e791e2b",
   "metadata": {
    "tags": []
   },
   "outputs": [],
   "source": [
    "#add the overlap information into the subseted pbmc file:\n",
    "for(i in 1:nrow(subset_pbmc_object@meta.data)){\n",
    "    if(rownames(subset_pbmc_object@meta.data)[i] %in% overlap_matrix_pbmc$barcodes){\n",
    "        subset_pbmc_object@meta.data$overlap[i] <- 'overlap'\n",
    "        subset_pbmc_object@meta.data$csf_tcr_frequency[i] <- filter(overlap_matrix_pbmc, barcodes == rownames(subset_pbmc_object@meta.data)[i])$csf_tcr_frequency\n",
    "        subset_pbmc_object@meta.data$csf_tcr_clono[i] <- filter(overlap_matrix_pbmc, barcodes == rownames(subset_pbmc_object@meta.data)[i])$csf_tcr_clono\n",
    "    } else {\n",
    "        subset_pbmc_object@meta.data$overlap[i] <- 'FALSE'\n",
    "        subset_pbmc_object@meta.data$csf_tcr_frequency[i] <- 'FALSE'\n",
    "        subset_pbmc_object@meta.data$csf_tcr_clono[i] <- 'FALSE'\n",
    "    }\n",
    "}\n",
    "head(subset_pbmc_object@meta.data)"
   ]
  },
  {
   "cell_type": "code",
   "execution_count": null,
   "id": "2ed51cb4-c952-45b0-b884-6cca2830df61",
   "metadata": {
    "tags": []
   },
   "outputs": [],
   "source": [
    "overlapedcells <- rownames(filter(subset_pbmc_object@meta.data, overlap == 'overlap'))"
   ]
  },
  {
   "cell_type": "code",
   "execution_count": null,
   "id": "72053478-8256-45a9-af4f-83f57f8012df",
   "metadata": {
    "tags": []
   },
   "outputs": [],
   "source": [
    "write.csv(subset_pbmc_object@meta.data, file = './pbmc_overlaped_cells_md_20220415.csv')"
   ]
  },
  {
   "cell_type": "code",
   "execution_count": null,
   "id": "82b646ba-f62c-416d-9f0f-dc910d2a9eab",
   "metadata": {
    "tags": []
   },
   "outputs": [],
   "source": [
    "saveRDS(subset_pbmc_object, file = 'mapped_pbmc_withoverlapdata_20220415.rds')"
   ]
  },
  {
   "cell_type": "code",
   "execution_count": null,
   "id": "64fcca78-78fa-4d8e-89a1-2e9fee3d0b2a",
   "metadata": {},
   "outputs": [],
   "source": [
    "table(subset_pbmc_object@meta.data$overlap)"
   ]
  },
  {
   "cell_type": "code",
   "execution_count": null,
   "id": "0543ea8a-5b63-4ad1-b9da-2ba99eb993c9",
   "metadata": {},
   "outputs": [],
   "source": [
    "pbmc_overlap <- subset_pbmc_object"
   ]
  },
  {
   "cell_type": "code",
   "execution_count": null,
   "id": "da8bd64f-d89a-4db3-9a6e-31e8880b4ce3",
   "metadata": {},
   "outputs": [],
   "source": [
    "pbmc <- readRDS(file = './mapped_pbmc_withoverlapdata_20220415.rds')"
   ]
  },
  {
   "cell_type": "markdown",
   "id": "4e59aa0b-c23b-4426-9013-587cb659484f",
   "metadata": {},
   "source": [
    "# Perform markers identification and plotting"
   ]
  },
  {
   "cell_type": "code",
   "execution_count": null,
   "id": "4c080381-0a7c-473f-bc4d-e3043d177bf7",
   "metadata": {},
   "outputs": [],
   "source": [
    "#create the output dir\n",
    "dir_plots <- paste0('./outs/')\n",
    "dir.create(dir_plots)"
   ]
  },
  {
   "cell_type": "code",
   "execution_count": null,
   "id": "58e9e85a-d5c8-4956-bb7e-0f3ef7a06c6f",
   "metadata": {
    "tags": []
   },
   "outputs": [],
   "source": [
    "width <- 11\n",
    "height <- 8\n",
    "name <- 'general_cd8_umap_raster'\n",
    "\n",
    "options(repr.plot.width = width, repr.plot.height = height)\n",
    "plot <- DimPlot(pbmc, reduction = \"umap\", label = TRUE, label.size = 7, repel = TRUE, raster = F, pt.size = 0.01) + \n",
    "theme(text = element_text(size = 20),\n",
    "      axis.text = element_text(size = 20),\n",
    "      legend.text=element_text(size=18))\n",
    "plot\n",
    "ggsave(plot, file = paste0(dir_plots, name, '.pdf'), width = width, height = height)"
   ]
  },
  {
   "cell_type": "code",
   "execution_count": null,
   "id": "4993367e-d7fb-4053-a309-ea253cb57a54",
   "metadata": {},
   "outputs": [],
   "source": [
    "pbmc"
   ]
  },
  {
   "cell_type": "code",
   "execution_count": null,
   "id": "306d0bf6-0bfc-4f4a-b93f-5b6d4a38d1d4",
   "metadata": {
    "tags": []
   },
   "outputs": [],
   "source": [
    "featurespbmc <- rownames(pbmc)\n",
    "markers.remove <- grep(pattern = \"^TRAV|^TRBV|^TRGV|^TRDV|^RPL|^RPS\", x = rownames(pbmc), value = TRUE)\n",
    "featurespbmc <- featurespbmc[!(featurespbmc%in%markers.remove)]\n",
    "pbmc.markers1 <- FindAllMarkers(object = pbmc, only.pos = TRUE, min.pct = 0.25, logfc.threshold = 0.25, features = featurespbmc)"
   ]
  },
  {
   "cell_type": "code",
   "execution_count": null,
   "id": "c5fa6ac3-9a05-443b-a3e6-ff143e783835",
   "metadata": {},
   "outputs": [],
   "source": [
    "#sort markers (top 30)\n",
    "pbmc.markers_sorted <- c()\n",
    "for (i in 1:length(levels(pbmc.markers1$cluster))){\n",
    "    pbmc.markers_level <- filter(pbmc.markers1, cluster == levels(pbmc.markers1$cluster)[i])\n",
    "    pbmc.markers_level <- pbmc.markers_level[order(-pbmc.markers_level$avg_log2FC), ]\n",
    "    pbmc.markers_level <- pbmc.markers_level[1:30, ]\n",
    "    pbmc.markers_level <- pbmc.markers_level[!is.na(pbmc.markers_level$avg_log2FC), ]\n",
    "    pbmc.markers_sorted <- rbind(pbmc.markers_sorted, pbmc.markers_level)\n",
    "    }\n",
    "pbmc.markers_sorted_top30 <- pbmc.markers_sorted\n",
    "#write.csv(pbmc.markers_sorted_top30, file = './cd8_final_markers.csv')"
   ]
  },
  {
   "cell_type": "code",
   "execution_count": null,
   "id": "7f56bb7c-70f4-4691-8ee1-512fedade9c5",
   "metadata": {
    "collapsed": true,
    "jupyter": {
     "outputs_hidden": true
    },
    "tags": []
   },
   "outputs": [],
   "source": [
    "#sort markers (top 5)\n",
    "pbmc.markers_sorted <- c()\n",
    "for (i in 1:length(levels(pbmc.markers1$cluster))){\n",
    "    pbmc.markers_level <- filter(pbmc.markers1, cluster == levels(pbmc.markers1$cluster)[i])\n",
    "    pbmc.markers_level <- pbmc.markers_level[order(-pbmc.markers_level$avg_log2FC), ]\n",
    "    pbmc.markers_level <- pbmc.markers_level[1:5, ]\n",
    "    pbmc.markers_level <- pbmc.markers_level[!is.na(pbmc.markers_level$avg_log2FC), ]\n",
    "    pbmc.markers_sorted <- rbind(pbmc.markers_sorted, pbmc.markers_level)\n",
    "    }\n",
    "pbmc.markers_sorted_top5 <- pbmc.markers_sorted\n",
    "pbmc.markers_sorted_top5"
   ]
  },
  {
   "cell_type": "code",
   "execution_count": null,
   "id": "5e9f9152-692c-42a8-b9c1-91d5d7281608",
   "metadata": {},
   "outputs": [],
   "source": [
    "pbmc.markers_sorted_top30 <- read.csv(file = 'cd8_final_markers.csv', row.names = 1)\n",
    "pbmc.markers_sorted_top30$cluster <- factor(pbmc.markers_sorted_top30$cluster, levels = levels(pbmc))\n",
    "pbmc.markers_sorted <- c()\n",
    "for(i in 1:length(levels(pbmc))){\n",
    "    pbmc.markers_level <- filter(pbmc.markers_sorted_top30, cluster == levels(pbmc.markers_sorted_top30$cluster)[i])\n",
    "    pbmc.markers_level <- pbmc.markers_level[order(-pbmc.markers_level$avg_log2FC), ]\n",
    "    pbmc.markers_level <- pbmc.markers_level[1:5, ]\n",
    "    pbmc.markers_level <- pbmc.markers_level[!is.na(pbmc.markers_level$avg_log2FC), ]\n",
    "    pbmc.markers_sorted <- rbind(pbmc.markers_sorted, pbmc.markers_level)\n",
    "}\n",
    "pbmc.markers_sorted_top5 <- pbmc.markers_sorted"
   ]
  },
  {
   "cell_type": "code",
   "execution_count": null,
   "id": "4f9ab0d9-0d60-45b2-a9a6-ca0515358212",
   "metadata": {},
   "outputs": [],
   "source": [
    "width <- 20\n",
    "height <- 8\n",
    "options(repr.plot.width = width, repr.plot.height = height)\n",
    "object <- pbmc\n",
    "\n",
    "levels(object) <- rev(levels(object))\n",
    "plot <- DotPlot(object, features = unique(pbmc.markers_sorted_top5$gene), dot.scale = 10, cols = c('white', '#D3556E')) + RotatedAxis() +\n",
    "        theme(\n",
    "        text = element_text(size = 17),\n",
    "        axis.text = element_text(size = 17),\n",
    "        legend.text=element_text(size=17))\n",
    "plot\n",
    "ggsave(plot, file = './outs/dotplot_cd8.pdf', width = width, height = height)"
   ]
  },
  {
   "cell_type": "markdown",
   "id": "aab7efe4-09c6-49e7-ac6f-a52885a32bb1",
   "metadata": {},
   "source": [
    "## Expansion overview"
   ]
  },
  {
   "cell_type": "code",
   "execution_count": null,
   "id": "35e04ea9-c6db-4ae1-80b7-38a39811c4a2",
   "metadata": {},
   "outputs": [],
   "source": [
    "class(pbmc@meta.data$TCR_frequency_corrected)"
   ]
  },
  {
   "cell_type": "code",
   "execution_count": null,
   "id": "273ae897-7d11-4245-a0a8-3afad70ed785",
   "metadata": {},
   "outputs": [],
   "source": [
    "pbmc@meta.data$expand_new <- 'non-expanded'\n",
    "pbmc@meta.data$expand_new[pbmc@meta.data$TCR_frequency_corrected > 2] <- 'expanded'\n",
    "unique(pbmc@meta.data$expand_new)"
   ]
  },
  {
   "cell_type": "code",
   "execution_count": null,
   "id": "28cf3ce4-dbbf-4045-8512-a970ceaa5061",
   "metadata": {
    "tags": []
   },
   "outputs": [],
   "source": [
    "width <- 11\n",
    "height <- 8\n",
    "options(repr.plot.width = width, repr.plot.height = height)\n",
    "expanded_cells <- DimPlot(pbmc, reduction = \"umap\", label = TRUE, label.size = 8, repel = TRUE, group.by = 'expand_new', cols = c('#D3556E', 'lightgrey'), pt.size = 0.6) + \n",
    "theme(text = element_text(size = 20),\n",
    "      axis.text = element_text(size = 20),\n",
    "      legend.text=element_text(size=20))\n",
    "expanded_cells\n",
    "ggsave(expanded_cells, file = paste0(dir_plots, 'expanded_cells_umap.pdf'), width = width, height = height)"
   ]
  },
  {
   "cell_type": "code",
   "execution_count": null,
   "id": "b71a5fef-f0f9-46a0-aeb1-c9a868a74eb5",
   "metadata": {},
   "outputs": [],
   "source": [
    "expansion <- c('non-expanded', 'expanded')\n",
    "object <- pbmc\n",
    "Idents(object) <- 'expand_new'\n",
    "levels(object) <- expansion\n",
    "levels_subgroups <- levels(pbmc)\n",
    "object@meta.data$cluster_name <- object@meta.data$cd8_coded\n",
    "object@meta.data$clusters <- object@meta.data$cluster_name\n",
    "width <- 14\n",
    "height <- 11\n",
    "#explore the diagnosis of the cells\n",
    "subgroups <- unique(object@meta.data$cluster_name)\n",
    "\n",
    "\n",
    "results <- c()\n",
    "for(i in 1:length(subgroups)){\n",
    "    freq_subgroups <- data.frame(matrix(NA, ncol = length(levels_subgroups), nrow = length(expansion)))\n",
    "    colnames(freq_subgroups) <- c('expand', 'absolute', 'relative', 'subgroups')\n",
    "    freq_subgroups$expand <- expansion\n",
    "    for(c in 1:nrow(freq_subgroups)){\n",
    "        freq_subgroups$absolute[c] <- nrow(filter(object@meta.data, cluster_name == subgroups[i] & expand_new == freq_subgroups$expand[c]))\n",
    "        freq_subgroups$relative[c] <- 100 * nrow(filter(object@meta.data, cluster_name == subgroups[i] & expand_new == freq_subgroups$expand[c])) /\n",
    "                                    nrow(filter(object@meta.data, cluster_name == subgroups[i]))\n",
    "    }\n",
    "    freq_subgroups$subgroups <- subgroups[i]\n",
    "    results <- rbind(results, freq_subgroups)\n",
    "}\n",
    " results$subgroups <- factor(results$subgroups, levels = levels_subgroups)\n",
    "results$clusters <- factor(results$expand, levels = expansion)\n",
    " write.csv(results, file = './outs/expanded_per_cluster_frequencies.csv')\n",
    "\n",
    "\n",
    "options(repr.plot.width=width, repr.plot.height=height)\n",
    "plot <- ggplot(results, aes(fill=clusters, y=relative, x=subgroups)) +\n",
    "        geom_bar(position=\"stack\", stat=\"identity\", ) + theme(\n",
    "        plot.title = element_text(hjust = 0.45),\n",
    "        text = element_text(size=30),\n",
    "        panel.grid.major = element_blank(), panel.grid.minor = element_blank(),\n",
    "        panel.background = element_blank(), axis.line = element_line(colour = \"black\"),\n",
    "        axis.text.x = element_text(angle = 55, vjust = 1, hjust=1, colour = 'black')) + ylab('Fraction of expanded cells within the cluster')+ xlab('Samples') +\n",
    "        scale_fill_manual('legend', values = c('lightgrey', '#D3556E'))\n",
    "        #scale_fill_viridis(discrete = TRUE)\n",
    "        #scale_fill_brewer(palette = \"Paired\")\n",
    "    print(plot)\n",
    "    ggsave(plot, file = paste0(dir_plots, 'expanded_bar_plot.pdf'), width = width, height = height)"
   ]
  },
  {
   "cell_type": "markdown",
   "id": "bcac6bee-4d5b-4e6d-9008-f1d2353090aa",
   "metadata": {},
   "source": [
    "## Plotting the matched cells"
   ]
  },
  {
   "cell_type": "code",
   "execution_count": null,
   "id": "3b560bb3-a080-403e-8b38-5bce64780854",
   "metadata": {},
   "outputs": [],
   "source": [
    "overlapedcells <- rownames(filter(pbmc@meta.data, overlap == 'overlap'))"
   ]
  },
  {
   "cell_type": "code",
   "execution_count": null,
   "id": "bf326e42-2b6e-46e4-8e33-b6f086cb3f48",
   "metadata": {
    "tags": []
   },
   "outputs": [],
   "source": [
    "width <- 11\n",
    "height <- 8\n",
    "set_figsize(width, height)\n",
    "plot <- DimPlot(pbmc, reduction = \"umap\", label = TRUE, label.size = 7, repel = TRUE, cells.highlight = overlapedcells, sizes.highlight = 0.01, pt.size = 0.01,  cols.highlight = '#D3556E') + \n",
    "theme(\n",
    "      text = element_text(size = 20),\n",
    "      axis.text = element_text(size = 20),\n",
    "      legend.text=element_text(size=20))\n",
    "plot\n",
    "ggsave(plot, file = paste0(dir_plots, 'overlap_cells_umap.pdf'), width = width, height = height)\n",
    "options(repr.plot.width = 11, repr.plot.height = 11)"
   ]
  },
  {
   "cell_type": "code",
   "execution_count": null,
   "id": "5d962d6a-5d3e-40e4-9707-cd6fe2896f53",
   "metadata": {},
   "outputs": [],
   "source": [
    "object <- pbmc\n",
    "object@meta.data$overlap[object@meta.data$overlap == 'FALSE'] <- 'non-overlapping'\n",
    "object@meta.data$overlap[object@meta.data$overlap == 'overlap'] <- 'overlapping'\n",
    "\n",
    "expansion <- c('non-overlapping', 'overlapping')\n",
    "Idents(object) <- 'overlap'\n",
    "levels(object) <- expansion\n",
    "levels_subgroups <- levels(pbmc)\n",
    "object@meta.data$cluster_name <- object@meta.data$cd8_coded\n",
    "object@meta.data$clusters <- object@meta.data$cluster_name\n",
    "\n",
    "width <- 14\n",
    "height <- 11\n",
    "#explore the diagnosis of the cells\n",
    "subgroups <- unique(object@meta.data$cluster_name)\n",
    "\n",
    "\n",
    "results <- c()\n",
    "for(i in 1:length(subgroups)){\n",
    "    freq_subgroups <- data.frame(matrix(NA, ncol = length(levels_subgroups), nrow = length(expansion)))\n",
    "    colnames(freq_subgroups) <- c('expand', 'absolute', 'relative', 'subgroups')\n",
    "    freq_subgroups$expand <- expansion\n",
    "    for(c in 1:nrow(freq_subgroups)){\n",
    "        freq_subgroups$absolute[c] <- nrow(filter(object@meta.data, cluster_name == subgroups[i] & overlap == freq_subgroups$expand[c]))\n",
    "        freq_subgroups$relative[c] <- 100 * nrow(filter(object@meta.data, cluster_name == subgroups[i] & overlap == freq_subgroups$expand[c])) /\n",
    "                                    nrow(filter(object@meta.data, cluster_name == subgroups[i]))\n",
    "    }\n",
    "    freq_subgroups$subgroups <- subgroups[i]\n",
    "    results <- rbind(results, freq_subgroups)\n",
    "}\n",
    " results$subgroups <- factor(results$subgroups, levels = levels_subgroups)\n",
    "results$clusters <- factor(results$expand, levels = expansion)\n",
    " write.csv(results, file = './outs/overlap_per_cluster_frequencies.csv')\n",
    "\n",
    "\n",
    "options(repr.plot.width=width, repr.plot.height=height)\n",
    "plot <- ggplot(results, aes(fill=clusters, y=relative, x=subgroups)) +\n",
    "        geom_bar(position=\"stack\", stat=\"identity\", ) + theme(\n",
    "        plot.title = element_text(hjust = 0.45),\n",
    "        text = element_text(size=30),\n",
    "        panel.grid.major = element_blank(), panel.grid.minor = element_blank(),\n",
    "        panel.background = element_blank(), axis.line = element_line(colour = \"black\"),\n",
    "        axis.text.x = element_text(angle = 55, vjust = 1, hjust=1, colour = 'black')) + ylab('Fraction of expanded cells within the cluster')+ xlab('Samples') +\n",
    "        scale_fill_manual('legend', values = c('lightgrey', '#D3556E'))\n",
    "        #scale_fill_viridis(discrete = TRUE)\n",
    "        #scale_fill_brewer(palette = \"Paired\")\n",
    "    print(plot)\n",
    "    ggsave(plot, file = paste0(dir_plots, 'overlap_bar_plot.pdf'), width = width, height = height)"
   ]
  },
  {
   "cell_type": "markdown",
   "id": "bd44fb2d-dd51-4c85-997e-01cf98c0d02e",
   "metadata": {},
   "source": [
    "# Create expression matrix for each diagnosis with selection of features and filtering"
   ]
  },
  {
   "cell_type": "code",
   "execution_count": null,
   "id": "15f72004-f640-429a-9fb3-7f2bf57d1606",
   "metadata": {},
   "outputs": [],
   "source": [
    "pbmc <- NormalizeData(pbmc, normalization.method = \"LogNormalize\", scale.factor = 10000)\n",
    "pbmc_overlap <- NormalizeData(pbmc_overlap, normalization.method = \"LogNormalize\", scale.factor = 10000)"
   ]
  },
  {
   "cell_type": "code",
   "execution_count": null,
   "id": "c49ca8b3-0d39-4514-a19a-48ba80ce691b",
   "metadata": {},
   "outputs": [],
   "source": [
    "#cluster of interest\n",
    "clusters_of_interest <- c('6_GZMK', '8_CD74', '9_IKZF2', '10_FGFBP2')"
   ]
  },
  {
   "cell_type": "markdown",
   "id": "c4fd96e9-3cea-4e07-b057-f9b8bc667523",
   "metadata": {},
   "source": [
    "## Create the matrix for MS features"
   ]
  },
  {
   "cell_type": "code",
   "execution_count": null,
   "id": "4e83da46-9b02-405f-b38b-74878db2e6db",
   "metadata": {},
   "outputs": [],
   "source": [
    "Assays(pbmc)"
   ]
  },
  {
   "cell_type": "code",
   "execution_count": null,
   "id": "9c964ead-37c9-45ef-9037-dd342bd454aa",
   "metadata": {},
   "outputs": [],
   "source": [
    "Sys.time()"
   ]
  },
  {
   "cell_type": "code",
   "execution_count": null,
   "id": "3ca5c13c-7797-4a61-9b5b-8d2b623c0a43",
   "metadata": {},
   "outputs": [],
   "source": [
    "#create the table with expression values, lasts a beat longer\n",
    "#determine the sample for the diagnosis group \n",
    "\n",
    "#search through the features within all samples within the MSgroup\n",
    "object <- subset(pbmc, idents = clusters_of_interest)\n",
    "samples <- unique(filter(object@meta.data, diagnosis_simp == \"MS\")$samplenumb)\n",
    "genes <- rownames(object)\n",
    "cutoff_expression <- 0.1\n",
    "cutoff_cells <- 0.1\n",
    "\n",
    "   expression <- data.frame(matrix(NA, ncol = length(samples), nrow  = length(genes)))\n",
    "    colnames(expression) <- samples\n",
    "    rownames(expression) <- genes\n",
    "    for(c in 1:ncol(expression)){\n",
    "        cells <- rownames(object@meta.data[object@meta.data$samplenumb == colnames(expression)[c], ])\n",
    "        expression_matrix <- object@assays$SymphonyQuery@data[rownames(expression), cells]\n",
    "        expression_matrix <- data.frame(expression_matrix)\n",
    "        expression_matrix$max <- apply(expression_matrix, 1, max)\n",
    "        expression_matrix$expression_min <- cutoff_expression*expression_matrix$max\n",
    "        expression_matrix$number_above_cutoff <- rowSums(expression_matrix[1:(ncol(expression_matrix)-2)] > expression_matrix$expression_min)\n",
    "        expression_matrix$final_filter <- 0\n",
    "        expression_matrix$final_filter[expression_matrix$number_above_cutoff > (cutoff_cells * length(cells))] <- 1\n",
    "        expression[, c] <- expression_matrix$final_filter\n",
    "    }\n",
    "    expression$sum <- rowSums(expression)\n",
    "    #select the features that are expressed above the cutoffs more than in the half of the samples\n",
    "    features_all_samples <- rownames(expression[expression$sum > (0.5 * length(samples)), ])"
   ]
  },
  {
   "cell_type": "code",
   "execution_count": null,
   "id": "c88bcc05-c0e8-4fc2-afab-d872f92d579b",
   "metadata": {},
   "outputs": [],
   "source": [
    "#create the table with expression values, lasts a beat longer\n",
    "#determine the sample for the diagnosis group \n",
    "\n",
    "#search through the features within the overlapped group\n",
    "object <- subset(pbmc_overlap, idents = clusters_of_interest)\n",
    "object <- subset(object, overlap == \"overlap\")\n",
    "samples <- unique(filter(object@meta.data, diagnosis_simp == \"MS\")$samplenumb)\n",
    "genes <- rownames(object)\n",
    "cutoff_expression <- 0.1\n",
    "cutoff_cells <- 0.1\n",
    "\n",
    "    expression <- data.frame(matrix(NA, ncol = length(samples), nrow  = length(genes)))\n",
    "    colnames(expression) <- samples\n",
    "    rownames(expression) <- genes\n",
    "    for(c in 1:ncol(expression)){\n",
    "        cells <- rownames(object@meta.data[object@meta.data$samplenumb == colnames(expression)[c], ])\n",
    "        expression_matrix <- object@assays$SymphonyQuery@data[rownames(expression), cells]\n",
    "        expression_matrix <- data.frame(expression_matrix)\n",
    "        expression_matrix$max <- apply(expression_matrix, 1, max)\n",
    "        expression_matrix$expression_min <- cutoff_expression*expression_matrix$max\n",
    "        expression_matrix$number_above_cutoff <- rowSums(expression_matrix[1:(ncol(expression_matrix)-2)] > expression_matrix$expression_min)\n",
    "        expression_matrix$final_filter <- 0\n",
    "        expression_matrix$final_filter[expression_matrix$number_above_cutoff > (cutoff_cells * length(cells))] <- 1\n",
    "        expression[, c] <- expression_matrix$final_filter\n",
    "    }\n",
    "expression$sum <- rowSums(expression)\n",
    "    #select the features that are expressed above the cutoffs more than in the half of the samples\n",
    "    features_overlap_samples <- rownames(expression[expression$sum > (0.5 * length(samples)), ])"
   ]
  },
  {
   "cell_type": "code",
   "execution_count": null,
   "id": "45e750e9-b5bb-4a9a-8980-536a429a2273",
   "metadata": {},
   "outputs": [],
   "source": [
    "features_MS <- qpcR:::cbind.na(features_all_samples, features_overlap_samples)\n",
    "colnames(features_MS) <- c(\"all samples MS\", \"overlapped samples MS\")\n",
    "write.csv(features_MS, file = \"features_MS.csv\")"
   ]
  },
  {
   "cell_type": "code",
   "execution_count": null,
   "id": "7b4aa165-ee3c-40d3-bb83-0a45702924ec",
   "metadata": {},
   "outputs": [],
   "source": [
    "Sys.time()"
   ]
  },
  {
   "cell_type": "markdown",
   "id": "25b42071-2ae9-482a-81bc-dd8d67e655af",
   "metadata": {
    "tags": []
   },
   "source": [
    "## Create the matrix for IIH features"
   ]
  },
  {
   "cell_type": "code",
   "execution_count": null,
   "id": "c382c304-c8db-430c-b501-09e3a082644c",
   "metadata": {},
   "outputs": [],
   "source": [
    "#create the table with expression values, lasts a beat longer\n",
    "#determine the sample for the diagnosis group \n",
    "\n",
    "#search through the features within all samples within the IIH group\n",
    "object <- subset(pbmc, idents = clusters_of_interest)\n",
    "samples <- unique(filter(object@meta.data, diagnosis_simp == \"IIH\")$samplenumb)\n",
    "genes <- rownames(object)\n",
    "cutoff_expression <- 0.1\n",
    "cutoff_cells <- 0.1\n",
    "\n",
    "   expression <- data.frame(matrix(NA, ncol = length(samples), nrow  = length(genes)))\n",
    "    colnames(expression) <- samples\n",
    "    rownames(expression) <- genes\n",
    "    for(c in 1:ncol(expression)){\n",
    "        cells <- rownames(object@meta.data[object@meta.data$samplenumb == colnames(expression)[c], ])\n",
    "        expression_matrix <- object@assays$SymphonyQuery@data[rownames(expression), cells]\n",
    "        expression_matrix <- data.frame(expression_matrix)\n",
    "        expression_matrix$max <- apply(expression_matrix, 1, max)\n",
    "        expression_matrix$expression_min <- cutoff_expression*expression_matrix$max\n",
    "        expression_matrix$number_above_cutoff <- rowSums(expression_matrix[1:(ncol(expression_matrix)-2)] > expression_matrix$expression_min)\n",
    "        expression_matrix$final_filter <- 0\n",
    "        expression_matrix$final_filter[expression_matrix$number_above_cutoff > (cutoff_cells * length(cells))] <- 1\n",
    "        expression[, c] <- expression_matrix$final_filter\n",
    "    }\n",
    "expression$sum <- rowSums(expression)\n",
    "    #select the features that are expressed above the cutoffs more than in the half of the samples\n",
    "    features_IIH <- rownames(expression[expression$sum > (0.5 * length(samples)), ])"
   ]
  },
  {
   "cell_type": "code",
   "execution_count": null,
   "id": "ecda152e-e288-46f9-a9c8-7f98af8defd5",
   "metadata": {},
   "outputs": [],
   "source": [
    "#create the table with expression values, lasts a beat longer\n",
    "#determine the sample for the diagnosis group \n",
    "\n",
    "#search through the features within the overlapped group\n",
    "object <- subset(pbmc_overlap, idents = clusters_of_interest)\n",
    "object <- subset(object, overlap == \"overlap\")\n",
    "samples <- unique(filter(object@meta.data, diagnosis_simp == \"IIH\")$samplenumb)\n",
    "genes <- rownames(object)\n",
    "cutoff_expression <- 0.1\n",
    "cutoff_cells <- 0.1\n",
    "\n",
    "   expression <- data.frame(matrix(NA, ncol = length(samples), nrow  = length(genes)))\n",
    "    colnames(expression) <- samples\n",
    "    rownames(expression) <- genes\n",
    "    for(c in 1:ncol(expression)){\n",
    "        cells <- rownames(object@meta.data[object@meta.data$samplenumb == colnames(expression)[c], ])\n",
    "        expression_matrix <- object@assays$SymphonyQuery@data[rownames(expression), cells]\n",
    "        expression_matrix <- data.frame(expression_matrix)\n",
    "        expression_matrix$max <- apply(expression_matrix, 1, max)\n",
    "        expression_matrix$expression_min <- cutoff_expression*expression_matrix$max\n",
    "        expression_matrix$number_above_cutoff <- rowSums(expression_matrix[1:(ncol(expression_matrix)-2)] > expression_matrix$expression_min)\n",
    "        expression_matrix$final_filter <- 0\n",
    "        expression_matrix$final_filter[expression_matrix$number_above_cutoff > (cutoff_cells * length(cells))] <- 1\n",
    "        expression[, c] <- expression_matrix$final_filter\n",
    "    }\n",
    "expression$sum <- rowSums(expression)\n",
    "    #select the features that are expressed above the cutoffs more than in the half of the samples\n",
    "    features_overlap_IIH <- rownames(expression[expression$sum > (0.5 * length(samples)), ])"
   ]
  },
  {
   "cell_type": "code",
   "execution_count": null,
   "id": "3825316b-e9a8-42ba-bb2b-cca44eddd4a0",
   "metadata": {},
   "outputs": [],
   "source": [
    "features_IIH_matrix <- qpcR:::cbind.na(features_IIH, features_overlap_IIH)\n",
    "colnames(features_IIH_matrix) <- c(\"all samples IIH\", \"overlapped samples IIH\")\n",
    "write.csv(features_IIH_matrix, file = \"features_IIH.csv\")"
   ]
  },
  {
   "cell_type": "code",
   "execution_count": null,
   "id": "f1ecba18-93e8-4910-93a5-d037787384d1",
   "metadata": {},
   "outputs": [],
   "source": [
    "Sys.time()"
   ]
  },
  {
   "cell_type": "markdown",
   "id": "aa4da213-6506-45f2-9a1c-d5d932a864a7",
   "metadata": {},
   "source": [
    "# Intersect and combine all features"
   ]
  },
  {
   "cell_type": "code",
   "execution_count": null,
   "id": "b2a7ad2f-b310-412b-b77e-bdf3fe7f0814",
   "metadata": {},
   "outputs": [],
   "source": [
    "length(features_all_samples)\n",
    "length(features_overlap_samples)\n",
    "features_MS_intersect <- Reduce(intersect, list(features_all_samples, features_overlap_samples))\n",
    "length(features_MS_intersect)"
   ]
  },
  {
   "cell_type": "code",
   "execution_count": null,
   "id": "84916fba-f16d-4f58-bc22-e2a2f022f098",
   "metadata": {},
   "outputs": [],
   "source": [
    "length(features_IIH)\n",
    "length(features_overlap_IIH)\n",
    "features_IIH_intersect <- Reduce(intersect, list(features_IIH, features_overlap_IIH))\n",
    "length(features_IIH_intersect)"
   ]
  },
  {
   "cell_type": "code",
   "execution_count": null,
   "id": "76067038-45be-45ef-a2da-498188b6bb93",
   "metadata": {},
   "outputs": [],
   "source": [
    "features_intersect <- qpcR:::cbind.na(features_MS_intersect, features_IIH_intersect)\n",
    "colnames(features_intersect) <- c(\"features_ms\", \"features_IIH\")\n",
    "write.csv(features_intersect, file = \"features_intersect.csv\")"
   ]
  },
  {
   "cell_type": "markdown",
   "id": "50aed6ee-fa14-449f-ae79-f649ce2a6f57",
   "metadata": {},
   "source": [
    "# Determine the markers and object for analysis"
   ]
  },
  {
   "cell_type": "code",
   "execution_count": null,
   "id": "a132e64c-0ba3-400c-906b-2d3d99a2111d",
   "metadata": {},
   "outputs": [],
   "source": [
    "#cluster of interest\n",
    "clusters_of_interest <- c('6_GZMK', '8_CD74', '9_IKZF2', '10_FGFBP2')\n",
    "object <- subset(pbmc, idents = clusters_of_interest) #will be used for plotting\n",
    "object\n",
    "\n",
    "#remove one of the doubled samples from the analysis\n",
    "Idents(object) <- 'sample'\n",
    "object_analysis_general <- subset(object, idents = 'Bl_MS-6-2', invert = TRUE)\n",
    "object_analysis_general"
   ]
  },
  {
   "cell_type": "code",
   "execution_count": null,
   "id": "725acdee-7d40-470d-92bf-522e125ba87a",
   "metadata": {},
   "outputs": [],
   "source": [
    "# determine the markers for comparison\n",
    "markers <- read.csv(file = 'features_intersect.csv', row.names = 1)\n",
    "markers.remove <- grep(pattern = \"^TRAV|^TRBV|^TRGV|^TRDV|^RPL|^RPS|^IGKV|^IGLV|^IGHV|^IGHG|^IGLC|^TRKC|^MT\", x = rownames(object), value = TRUE)\n",
    "\n",
    "\n",
    "features_ms <- markers$features_ms\n",
    "features_ms <- features_ms[!is.na(features_ms)]\n",
    "features_ms <- features_ms[!(features_ms%in%markers.remove)]\n",
    "length(features_ms)\n",
    "\n",
    "\n",
    "features_IIH <- markers$features_IIH\n",
    "features_IIH <- features_IIH[!is.na(features_IIH)]\n",
    "features_IIH <- features_IIH[!(features_IIH%in%markers.remove)]\n",
    "length(features_IIH)"
   ]
  },
  {
   "cell_type": "code",
   "execution_count": null,
   "id": "3d9160e1-ce31-453d-bad3-01659fa28c0b",
   "metadata": {},
   "outputs": [],
   "source": [
    "#start enrichR\n",
    "library('enrichR')\n",
    "setEnrichrSite(\"Enrichr\")\n",
    "dir.create('outs')"
   ]
  },
  {
   "cell_type": "code",
   "execution_count": null,
   "id": "9bcf6dcb-2887-4818-96c5-293b55d6f9d9",
   "metadata": {},
   "outputs": [],
   "source": [
    "set.seed(1)"
   ]
  },
  {
   "cell_type": "markdown",
   "id": "19ce2ae7-36bf-420b-a73d-898c2eb8352c",
   "metadata": {},
   "source": [
    "# MS vs IIH analysis"
   ]
  },
  {
   "cell_type": "code",
   "execution_count": null,
   "id": "c0ff006d-fff7-4fd6-9008-61e028246793",
   "metadata": {},
   "outputs": [],
   "source": [
    "#prepare the file\n",
    "object_analysis <- object_analysis_general\n",
    "object_analysis"
   ]
  },
  {
   "cell_type": "markdown",
   "id": "5d609412-7bee-4dd8-97c5-115216a58e28",
   "metadata": {},
   "source": [
    "## Start for the first partner"
   ]
  },
  {
   "cell_type": "code",
   "execution_count": null,
   "id": "2065c7c6-38ab-43d6-a458-cbe5fc96921b",
   "metadata": {
    "tags": []
   },
   "outputs": [],
   "source": [
    "#find first the markers per cluster\n",
    "partner1 <- 'MS'\n",
    "partner2 <- 'IIH'\n",
    "features_1 <- features_ms\n",
    "features_2 <- features_IIH\n",
    "clusters_of_interest <- c('6_GZMK', '8_CD74', '9_IKZF2', '10_FGFBP2')\n",
    "databases_list <- c('GO_Biological_Process_2021', 'Reactome_2016', 'MSigDB_Hallmark_2020')\n",
    "grouping_de <- 'diagnosis_simp'\n",
    "logfc.threshold <- 0.05\n",
    "pvalue <- 0.05\n",
    "\n",
    "#create output dirs\n",
    "dir_path <- paste0('./outs/', partner1, '_vs_', partner2, '_NON_pairwise')\n",
    "dir.create(dir_path)\n",
    "plots_dir <- paste0(dir_path, '/plots/')\n",
    "dir.create(plots_dir)\n",
    "#define colors\n",
    "colours_diagnosis_groups <- c('#bbbbbb', '#8e2311')\n",
    "colour1 <- '#8e2311'\n",
    "colour2 <- '#bbbbbb'\n",
    "\n",
    "#object - plotting object\n",
    "Idents(object) <- grouping_de\n",
    "levels(object) <- c('IIH', 'MS')\n",
    "object_av <- AverageExpression(object, return.seurat = TRUE, verbose = FALSE)\n",
    "Idents(object_analysis) <- 'cd8_coded'\n",
    "levels(object_analysis) <- clusters_of_interest\n",
    "\n",
    "de_list_partner1 <- c()\n",
    "for(i in 1:length(clusters_of_interest)){\n",
    "        object_subset <- subset(object_analysis, idents = clusters_of_interest[i])\n",
    "        markers_partner1 <- FindMarkers(object_subset, ident.1 = partner1, ident.2 = partner2, group.by = grouping_de, features = features_1, \n",
    "                   only.pos = TRUE, logfc.threshold = logfc.threshold, verbose = FALSE)\n",
    "        markers_partner1$genes <- rownames(markers_partner1)\n",
    "        markers_partner1$cluster <- clusters_of_interest[i]\n",
    "        markers_partner1 <- markers_partner1[markers_partner1$p_val_adj < pvalue, ]\n",
    "        de_list_partner1 <- append(de_list_partner1, list(markers_partner1))\n",
    "}\n",
    "\n",
    "#search through the markers\n",
    "hits <- 0\n",
    "selected_markers_partner1 <- c()\n",
    "\n",
    "for(i in 1:length(de_list_partner1)){\n",
    "    markers_cluster <- de_list_partner1[[i]]\n",
    "    #determine the numbers of the other samples\n",
    "    number_of_othersamples <- 1:length(de_list_partner1)\n",
    "    number_of_othersamples <- number_of_othersamples[number_of_othersamples != i]\n",
    "    \n",
    "    #start to search for the markers in other clusters\n",
    "    for(r in 1:nrow(markers_cluster)){\n",
    "        gene_to_test <- markers_cluster$genes[r]\n",
    "        intersect_gene <- filter(markers_cluster, genes == gene_to_test)\n",
    "        #open the loop for the other samples\n",
    "        for(o in number_of_othersamples){\n",
    "           markers_other_cluster <- de_list_partner1[[o]]\n",
    "           if(gene_to_test %in% markers_other_cluster$genes){\n",
    "             intersect_gene <- rbind(intersect_gene, filter(markers_other_cluster, genes == gene_to_test))\n",
    "           }\n",
    "        }\n",
    "        #add the result to the final table\n",
    "        if(nrow(intersect_gene) > hits){\n",
    "            gene_to_add <- intersect_gene[1, ]\n",
    "            gene_to_add$avg_log2FC <- mean(intersect_gene$avg_log2FC)\n",
    "            gene_to_add$max_log2FC <- max(intersect_gene$avg_log2FC)\n",
    "            gene_to_add$min_log2FC <- min(intersect_gene$avg_log2FC)\n",
    "            gene_to_add$avg_p_val_adj <- mean(intersect_gene$p_val_adj)\n",
    "            gene_to_add$cluster <- paste0(intersect_gene$cluster, collapse = ', ')\n",
    "            selected_markers_partner1 <- rbind(selected_markers_partner1, gene_to_add)\n",
    "        }\n",
    "    }\n",
    "}\n",
    "selected_markers_partner1 <- selected_markers_partner1[!duplicated(selected_markers_partner1$genes), ]\n",
    "selected_markers_partner1 <- selected_markers_partner1[order(-selected_markers_partner1$avg_log2FC), ]\n",
    "\n",
    "#plot the intersected markers for the next verification step\n",
    "#create the dir for vln plots per partner\n",
    "plots_partner1 <- paste0(plots_dir, partner1, '/')\n",
    "dir.create(plots_partner1)\n",
    "#create ordered heatmap\n",
    "ordered_genes <- object_av@assays$SymphonyQuery@data[selected_markers_partner1$genes, ] \n",
    "ordered_genes <- as.data.frame(ordered_genes)\n",
    "ordered_genes <- ordered_genes[order(-ordered_genes[, partner1]), ]\n",
    "\n",
    "#create ordered heatmap\n",
    "genes_higher <- as.data.frame(ordered_genes[partner1] > ordered_genes[partner2]) #attention!\n",
    "genes_higher$genes <- rownames(genes_higher)\n",
    "genes_higher <- genes_higher$genes[genes_higher[[1]]]\n",
    "#save the genes higher as the partner on average\n",
    "write.csv(genes_higher, file = paste0(plots_partner1, 'above_the_partner_average.csv'))\n",
    "\n",
    "#create ordered heatmap\n",
    "genes_lower <- as.data.frame(ordered_genes[partner1] < ordered_genes[partner2]) #attention!\n",
    "genes_lower$genes <- rownames(genes_lower)\n",
    "genes_lower <- genes_lower$genes[genes_lower[[1]]]\n",
    "#save the genes lower as the partner on average\n",
    "write.csv(genes_lower, file = paste0(plots_partner1, 'below_the_partner_average.csv'))\n",
    "\n",
    "#prepare the genes for heatmap\n",
    "ordered_genes <- rownames(ordered_genes)\n",
    "\n",
    "#top 20 sorted\n",
    "if(length(ordered_genes) > 20){\n",
    "ordered_genes_plot <- ordered_genes[1:20]\n",
    "} else {ordered_genes_plot <- ordered_genes}\n",
    "options(repr.plot.width=5, repr.plot.height=12)\n",
    "heatmap <- DoHeatmap(object_av, features = ordered_genes_plot, slot = 'data', draw.lines = FALSE, size = 7,  angle = 270, hjust = 1, raster = FALSE, group.colors = colours_diagnosis_groups) + \n",
    "    theme(\n",
    "        text = element_text(size = 23, colour = 'black', face = 'plain'),\n",
    "         axis.text.y = element_text(size = 19, colour = 'black', face = 'plain')) + \n",
    "scale_fill_gradientn(colors = c(\"#2881C1\", \"white\", \"#D3556E\"))\n",
    "ggsave(heatmap, file = paste0(plots_partner1, 'heatmap_top20_1.pdf'), width = 5, height = 12)\n",
    "\n",
    "for(g in 1:length(ordered_genes)){\n",
    "    plot <- VlnPlot(object, features = ordered_genes[g], pt.size = 0.01, cols = colours_diagnosis_groups)\n",
    "    plot$layers[[2]]$aes_params$alpha <- 0.1\n",
    "    ggsave(plot, file = paste0(plots_partner1, ordered_genes[g], '.pdf'), width = 6, height = 6)\n",
    "}"
   ]
  },
  {
   "cell_type": "code",
   "execution_count": null,
   "id": "fae3965c-aaf4-425a-8ffb-bd7b4e64a3f2",
   "metadata": {
    "tags": []
   },
   "outputs": [],
   "source": [
    "#now look through the genes and select the ones validated on the full cohort\n",
    "genes_remove <- genes_lower\n",
    "selected_markers_partner1 <- selected_markers_partner1[!selected_markers_partner1$genes %in% genes_remove, ]\n",
    "\n",
    "#create ordered heatmap\n",
    "ordered_genes <- object_av@assays$SymphonyQuery@data[selected_markers_partner1$genes, ] \n",
    "ordered_genes <- as.data.frame(ordered_genes)\n",
    "ordered_genes <- ordered_genes[order(-ordered_genes[, partner1]), ]\n",
    "ordered_genes <- rownames(ordered_genes)\n",
    "\n",
    "#top 20 sorted\n",
    "if(length(ordered_genes) > 20){\n",
    "ordered_genes_plot <- ordered_genes[1:20]\n",
    "} else {ordered_genes_plot <- ordered_genes}\n",
    "options(repr.plot.width=5, repr.plot.height=12)\n",
    "heatmap <- DoHeatmap(object_av, features = ordered_genes_plot, slot = 'data', draw.lines = FALSE, size = 7,  angle = 270, hjust = 1, raster = FALSE, group.colors = colours_diagnosis_groups) + \n",
    "    theme(\n",
    "        text = element_text(size = 23, colour = 'black', face = 'plain'),\n",
    "         axis.text.y = element_text(size = 19, colour = 'black', face = 'plain')) + \n",
    "scale_fill_gradientn(colors = c(\"#2881C1\", \"white\", \"#D3556E\"))\n",
    "ggsave(heatmap, file = paste0(dir_path, '/', partner1, '_heatmap_top20.pdf'), width = 5, height = 12)"
   ]
  },
  {
   "cell_type": "code",
   "execution_count": null,
   "id": "344ef8d1-92f5-4964-b233-51991c15770d",
   "metadata": {},
   "outputs": [],
   "source": [
    "#start the enrichr PEA for first partner\n",
    "dir_pea_partner1 <- paste0(dir_path, '/PEA_', partner1, '/')\n",
    "dir.create(dir_pea_partner1)\n",
    "\n",
    "for(db in 1:length(databases_list)){\n",
    "        enriched <- enrichr(selected_markers_partner1$genes, databases = databases_list[db])\n",
    "        enriched <- enriched[[1]]\n",
    "        enriched <- enriched[order(-enriched$Adjusted.P.value), ]\n",
    "        enriched$Term <- factor(enriched$Term, levels = unique(enriched$Term))\n",
    "        #save the positive enriched pathways\n",
    "        write.csv(enriched, file = paste0(dir_pea_partner1, partner1, '_', databases_list[db], '_positive_', '_pea_list.csv'))\n",
    "            \n",
    "        \n",
    "        reverselog_trans <- function(base = exp(1)) {\n",
    "            trans <- function(x) -log(x, base)\n",
    "            inv <- function(x) base^(-x)\n",
    "            trans_new(paste0(\"reverselog-\", format(base)), trans, inv,\n",
    "                      log_breaks(base = base),\n",
    "                      domain = c(1e-100, Inf))\n",
    "            }\n",
    "        #2881c1 - for blue\n",
    "        #d3556e - for red\n",
    "        options(repr.plot.width=22, repr.plot.height=11)\n",
    "        if(nrow(enriched) > 20){\n",
    "            plot_positive <- ggplot(enriched[(nrow(enriched)-19):nrow(enriched), ], aes(y=Term, x= Adjusted.P.value))+\n",
    "                geom_vline(xintercept = .05, color = \"grey\", linetype=\"dashed\") +\n",
    "                geom_segment( aes(yend=Term, xend=1), col= \"black\") +\n",
    "                geom_point(shape=21, aes(size = abs(Combined.Score)), fill = colour1) +\n",
    "                scale_x_continuous(trans=reverselog_trans(10))+\n",
    "                scale_size_continuous(range = c(2, 13)) +\n",
    "                theme_tufte()+ xlab(\"p value (adj)\") + ylab(\"\") +\n",
    "                theme(text=element_text(family=\"Helvetica\", size = 26),\n",
    "                  axis.text.x = element_text(angle = 45, hjust = 1), legend.position = \"right\") + ggtitle(paste(partner1,  'positive', databases_list[db]))\n",
    "            } else {\n",
    "            plot_positive <- ggplot(enriched, aes(y=Term, x= Adjusted.P.value))+\n",
    "                geom_vline(xintercept = .05, color = \"grey\", linetype=\"dashed\") +\n",
    "                geom_segment( aes(yend=Term, xend=1), col= \"black\") +\n",
    "                geom_point(shape=21, aes(size = abs(Combined.Score)), fill = colour1) +\n",
    "                scale_x_continuous(trans=reverselog_trans(10))+\n",
    "                scale_size_continuous(range = c(2, 13)) +\n",
    "                theme_tufte()+ xlab(\"p value (adj)\") + ylab(\"\") +\n",
    "                theme(text=element_text(family=\"Helvetica\", size = 26),\n",
    "                  axis.text.x = element_text(angle = 45, hjust = 1), legend.position = \"right\") + ggtitle(paste(partner1,  'positive', databases_list[db]))\n",
    "        }\n",
    "        ggsave(plot_positive, file = paste0(dir_pea_partner1, partner1, '_', databases_list[db], '_positive', '.pdf'), width = 30, height = 11)\n",
    "            \n",
    "        #plot the genes\n",
    "        if(nrow(enriched) > 20){ \n",
    "            genes_to_plot <- paste0(x = enriched[(nrow(enriched)-19):nrow(enriched), 'Genes'], ';')\n",
    "            genes_to_plot <- paste(genes_to_plot, collapse = '')\n",
    "            genes_to_plot <- strsplit(genes_to_plot, split = ';')[[1]]\n",
    "            #reverse because of ascending ordering of the enriched table to put the most significant at the beginning\n",
    "            genes_to_plot <- rev(genes_to_plot)\n",
    "            genes_to_plot <- unique(genes_to_plot)\n",
    "            }else{\n",
    "            genes_to_plot <- paste0(x = enriched[, 'Genes'], ';')\n",
    "            genes_to_plot <- paste(genes_to_plot, collapse = '')\n",
    "            genes_to_plot <- strsplit(genes_to_plot, split = ';')[[1]]\n",
    "            genes_to_plot <- rev(genes_to_plot)\n",
    "            genes_to_plot <- unique(genes_to_plot)\n",
    "        }\n",
    "        \n",
    "        if(length(genes_to_plot) > 20){genes_to_plot <- genes_to_plot[1:20]}\n",
    "        heatmap_plot <- DoHeatmap(object_av, features = genes_to_plot, slot = 'data', draw.lines = FALSE, raster = FALSE, group.colors = colours_diagnosis_groups) + theme(text = element_text(size = 20, face = \"bold\")) + scale_fill_gradientn(colors = c(\"#2881C1\", \"white\", \"#D3556E\"))\n",
    "        ggsave(heatmap_plot, file = paste0(dir_pea_partner1, partner1, '_', databases_list[db], '_HEATMAP_genes_positive', '.pdf'), width = 8, height = 11)\n",
    "        \n",
    "        vlnplot <- VlnPlot(object, features = genes_to_plot, stack = TRUE, flip = TRUE, cols = colours_diagnosis_groups, fill.by = \"ident\") +\n",
    "                        theme(legend.position = \"none\",\n",
    "                          text = element_text(size = 17),\n",
    "                          axis.text = element_text(size = 17))\n",
    "        ggsave(vlnplot, file = paste0(dir_pea_partner1, partner1, '_', databases_list[db], '_StackedVIOLIN_genes_positive', '.pdf'), width = 8, height = 11)\n",
    "        }\n",
    "    #end of the einrichr loop"
   ]
  },
  {
   "cell_type": "markdown",
   "id": "a6aa39c9-363e-4b0a-82f5-a352b0b718d7",
   "metadata": {},
   "source": [
    "## Start for second partner"
   ]
  },
  {
   "cell_type": "code",
   "execution_count": null,
   "id": "4341540d-9673-4c29-b7f8-8b02b18f0766",
   "metadata": {
    "tags": []
   },
   "outputs": [],
   "source": [
    "# start the same for the second partner\n",
    "Idents(object_analysis) <- 'cd8_coded'\n",
    "levels(object_analysis) <- clusters_of_interest\n",
    "de_list_partner2 <- c()\n",
    "\n",
    "for(i in 1:length(clusters_of_interest)){\n",
    "        object_subset <- subset(object_analysis, idents = clusters_of_interest[i])\n",
    "        markers_partner2 <- FindMarkers(object_subset, ident.1 = partner2, ident.2 = partner1, group.by = grouping_de, features = features_2, \n",
    "                                        only.pos = TRUE, logfc.threshold = logfc.threshold)\n",
    "        markers_partner2$genes <- rownames(markers_partner2)\n",
    "        markers_partner2$cluster <- clusters_of_interest[i]\n",
    "        markers_partner2 <- markers_partner2[markers_partner2$p_val_adj < pvalue, ]\n",
    "        de_list_partner2 <- append(de_list_partner2, list(markers_partner2))\n",
    "}\n",
    "\n",
    "#search through the markers\n",
    "hits <- 1\n",
    "selected_markers_partner2 <- c()\n",
    "\n",
    "for(i in 1:length(de_list_partner2)){\n",
    "    markers_cluster <- de_list_partner2[[i]]\n",
    "    #determine the numbers of the other samples\n",
    "    number_of_othersamples <- 1:length(de_list_partner2)\n",
    "    number_of_othersamples <- number_of_othersamples[number_of_othersamples != i]\n",
    "    \n",
    "    #start to search for the markers in other clusters\n",
    "    for(r in 1:nrow(markers_cluster)){\n",
    "        gene_to_test <- markers_cluster$genes[r]\n",
    "        intersect_gene <- filter(markers_cluster, genes == gene_to_test)\n",
    "        #open the loop for the other samples\n",
    "        for(o in number_of_othersamples){\n",
    "           markers_other_cluster <- de_list_partner2[[o]]\n",
    "           if(gene_to_test %in% markers_other_cluster$genes){\n",
    "             intersect_gene <- rbind(intersect_gene, filter(markers_other_cluster, genes == gene_to_test))\n",
    "           }\n",
    "        }\n",
    "        #add the result to the final table\n",
    "        if(nrow(intersect_gene) > hits){\n",
    "            gene_to_add <- intersect_gene[1, ]\n",
    "            gene_to_add$avg_log2FC <- mean(intersect_gene$avg_log2FC)\n",
    "            gene_to_add$max_log2FC <- max(intersect_gene$avg_log2FC)\n",
    "            gene_to_add$min_log2FC <- min(intersect_gene$avg_log2FC)\n",
    "            gene_to_add$avg_p_val_adj <- mean(intersect_gene$p_val_adj)\n",
    "            gene_to_add$cluster <- paste0(intersect_gene$cluster, collapse = ', ')\n",
    "            selected_markers_partner2 <- rbind(selected_markers_partner2, gene_to_add)\n",
    "        }\n",
    "    }\n",
    "}\n",
    "selected_markers_partner2 <- selected_markers_partner2[!duplicated(selected_markers_partner2$genes), ]\n",
    "selected_markers_partner2 <- selected_markers_partner2[order(-selected_markers_partner2$avg_log2FC), ]\n",
    "\n",
    "#plot the intersected markers for the next verification step\n",
    "#create the dir for vln plots per partner\n",
    "plots_partner2 <- paste0(plots_dir, partner2, '/')\n",
    "dir.create(plots_partner2)\n",
    "#create ordered heatmap\n",
    "ordered_genes <- object_av@assays$SymphonyQuery@data[selected_markers_partner2$genes, ] \n",
    "ordered_genes <- as.data.frame(ordered_genes)\n",
    "ordered_genes <- ordered_genes[order(-ordered_genes[, partner2]), ]\n",
    "\n",
    "#create ordered heatmap\n",
    "genes_higher <- as.data.frame(ordered_genes[partner2] > ordered_genes[partner1]) #attention!\n",
    "genes_higher$genes <- rownames(genes_higher)\n",
    "genes_higher <- genes_higher$genes[genes_higher[[1]]]\n",
    "#save the genes higher as the partner on average\n",
    "write.csv(genes_higher, file = paste0(plots_partner2, 'above_the_partner_average.csv'))\n",
    "\n",
    "#create ordered heatmap\n",
    "genes_lower <- as.data.frame(ordered_genes[partner2] < ordered_genes[partner1]) #attention!\n",
    "genes_lower$genes <- rownames(genes_lower)\n",
    "genes_lower <- genes_lower$genes[genes_lower[[1]]]\n",
    "#save the genes lower as the partner on average\n",
    "write.csv(genes_lower, file = paste0(plots_partner2, 'below_the_partner_average.csv'))\n",
    "\n",
    "#prepare the genes for heatmap\n",
    "ordered_genes <- rownames(ordered_genes)\n",
    "\n",
    "#top 20 sorted\n",
    "if(length(ordered_genes) > 20){\n",
    "ordered_genes_plot <- ordered_genes[1:20]\n",
    "} else {ordered_genes_plot <- ordered_genes}\n",
    "options(repr.plot.width=5, repr.plot.height=12)\n",
    "heatmap <- DoHeatmap(object_av, features = ordered_genes_plot, slot = 'data', draw.lines = FALSE, size = 7,  angle = 270, hjust = 1, raster = FALSE, group.colors = colours_diagnosis_groups) + \n",
    "    theme(\n",
    "        text = element_text(size = 23, colour = 'black', face = 'plain'),\n",
    "         axis.text.y = element_text(size = 19, colour = 'black', face = 'plain')) + \n",
    "scale_fill_gradientn(colors = c(\"#2881C1\", \"white\", \"#D3556E\"))\n",
    "ggsave(heatmap, file = paste0(plots_partner2, 'heatmap_top20_1.pdf'), width = 5, height = 12)\n",
    "\n",
    "for(g in 1:length(ordered_genes)){\n",
    "    plot <- VlnPlot(object, features = ordered_genes[g], pt.size = 0, cols = colours_diagnosis_groups)\n",
    "    ggsave(plot, file = paste0(plots_partner2, ordered_genes[g], '.pdf'), width = 6, height = 6)\n",
    "}"
   ]
  },
  {
   "cell_type": "code",
   "execution_count": null,
   "id": "fe8261a0-6fde-4f5a-8185-f09ff411e384",
   "metadata": {
    "tags": []
   },
   "outputs": [],
   "source": [
    "#now look through the genes and select the ones validated on the full cohort\n",
    "\n",
    "genes_remove <- genes_lower\n",
    "selected_markers_partner2 <- selected_markers_partner2[!selected_markers_partner2$genes %in% genes_remove, ]\n",
    "\n",
    "#create ordered heatmap\n",
    "ordered_genes <- object_av@assays$SymphonyQuery@data[selected_markers_partner2$genes, ] \n",
    "ordered_genes <- as.data.frame(ordered_genes)\n",
    "ordered_genes <- ordered_genes[order(-ordered_genes[, partner2]), ]\n",
    "ordered_genes <- rownames(ordered_genes)\n",
    "\n",
    "#top 20 sorted\n",
    "if(length(ordered_genes) > 20){\n",
    "ordered_genes_plot <- ordered_genes[1:20]\n",
    "} else {ordered_genes_plot <- ordered_genes}\n",
    "options(repr.plot.width=5, repr.plot.height=12)\n",
    "heatmap <- DoHeatmap(object_av, features = ordered_genes_plot, slot = 'data', draw.lines = FALSE, size = 7,  angle = 270, hjust = 1, raster = FALSE, group.colors = colours_diagnosis_groups) + \n",
    "    theme(\n",
    "        text = element_text(size = 23, colour = 'black', face = 'plain'),\n",
    "         axis.text.y = element_text(size = 19, colour = 'black', face = 'plain')) + \n",
    "scale_fill_gradientn(colors = c(\"#2881C1\", \"white\", \"#D3556E\"))\n",
    "ggsave(heatmap, file = paste0(dir_path, '/', partner2, '_heatmap_top20.pdf'), width = 5, height = 12)"
   ]
  },
  {
   "cell_type": "code",
   "execution_count": null,
   "id": "681b065c-e004-42b5-adf0-737d896bda80",
   "metadata": {},
   "outputs": [],
   "source": [
    "#start the enrichr PEA for first partner\n",
    "dir_pea_partner2 <- paste0(dir_path, '/PEA_', partner2, '/')\n",
    "dir.create(dir_pea_partner2)\n",
    "\n",
    "for(db in 1:length(databases_list)){\n",
    "        enriched <- enrichr(selected_markers_partner2$genes, databases = databases_list[db])\n",
    "        enriched <- enriched[[1]]\n",
    "        enriched <- enriched[order(-enriched$Adjusted.P.value), ]\n",
    "        enriched$Term <- factor(enriched$Term, levels = unique(enriched$Term))\n",
    "        #save the positive enriched pathways\n",
    "        write.csv(enriched, file = paste0(dir_pea_partner2, partner2, '_', databases_list[db], '_positive_', '_pea_list.csv'))\n",
    "            \n",
    "        \n",
    "        reverselog_trans <- function(base = exp(1)) {\n",
    "            trans <- function(x) -log(x, base)\n",
    "            inv <- function(x) base^(-x)\n",
    "            trans_new(paste0(\"reverselog-\", format(base)), trans, inv,\n",
    "                      log_breaks(base = base),\n",
    "                      domain = c(1e-100, Inf))\n",
    "            }\n",
    "        #2881c1 - for blue\n",
    "        #d3556e - for red\n",
    "        options(repr.plot.width=22, repr.plot.height=11)\n",
    "        if(nrow(enriched) > 20){\n",
    "            plot_positive <- ggplot(enriched[(nrow(enriched)-19):nrow(enriched), ], aes(y=Term, x= Adjusted.P.value))+\n",
    "                geom_vline(xintercept = .05, color = \"grey\", linetype=\"dashed\") +\n",
    "                geom_segment( aes(yend=Term, xend=1), col= \"black\") +\n",
    "                geom_point(shape=21, aes(size = abs(Combined.Score)), fill = colour2) +\n",
    "                scale_x_continuous(trans=reverselog_trans(10))+\n",
    "                scale_size_continuous(range = c(2, 13)) +\n",
    "                theme_tufte()+ xlab(\"p value (adj)\") + ylab(\"\") +\n",
    "                theme(text=element_text(family=\"Helvetica\", size = 26),\n",
    "                  axis.text.x = element_text(angle = 45, hjust = 1), legend.position = \"right\") + ggtitle(paste(partner2,  'positive', databases_list[db]))\n",
    "            } else {\n",
    "            plot_positive <- ggplot(enriched, aes(y=Term, x= Adjusted.P.value))+\n",
    "                geom_vline(xintercept = .05, color = \"grey\", linetype=\"dashed\") +\n",
    "                geom_segment( aes(yend=Term, xend=1), col= \"black\") +\n",
    "                geom_point(shape=21, aes(size = abs(Combined.Score)), fill = colour2) +\n",
    "                scale_x_continuous(trans=reverselog_trans(10))+\n",
    "                scale_size_continuous(range = c(2, 13)) +\n",
    "                theme_tufte()+ xlab(\"p value (adj)\") + ylab(\"\") +\n",
    "                theme(text=element_text(family=\"Helvetica\", size = 26),\n",
    "                  axis.text.x = element_text(angle = 45, hjust = 1), legend.position = \"right\") + ggtitle(paste(partner2,  'positive', databases_list[db]))\n",
    "        }\n",
    "        ggsave(plot_positive, file = paste0(dir_pea_partner2, partner2, '_', databases_list[db], '_positive', '.pdf'), width = 30, height = 11)\n",
    "            \n",
    "        #plot the genes\n",
    "        if(nrow(enriched) > 20){ \n",
    "            genes_to_plot <- paste0(x = enriched[(nrow(enriched)-19):nrow(enriched), 'Genes'], ';')\n",
    "            genes_to_plot <- paste(genes_to_plot, collapse = '')\n",
    "            genes_to_plot <- strsplit(genes_to_plot, split = ';')[[1]]\n",
    "            #reverse because of ascending ordering of the enriched table to put the most significant at the beginning\n",
    "            genes_to_plot <- rev(genes_to_plot)\n",
    "            genes_to_plot <- unique(genes_to_plot)\n",
    "            }else{\n",
    "            genes_to_plot <- paste0(x = enriched[, 'Genes'], ';')\n",
    "            genes_to_plot <- paste(genes_to_plot, collapse = '')\n",
    "            genes_to_plot <- strsplit(genes_to_plot, split = ';')[[1]]\n",
    "            genes_to_plot <- rev(genes_to_plot)\n",
    "            genes_to_plot <- unique(genes_to_plot)\n",
    "        }\n",
    "        \n",
    "        if(length(genes_to_plot) > 20){genes_to_plot <- genes_to_plot[1:20]}\n",
    "        heatmap_plot <- DoHeatmap(object_av, features = genes_to_plot, slot = 'data', draw.lines = FALSE, raster = FALSE, group.colors = colours_diagnosis_groups) + theme(text = element_text(size = 20, face = \"bold\")) + scale_fill_gradientn(colors = c(\"#2881C1\", \"white\", \"#D3556E\"))\n",
    "        ggsave(heatmap_plot, file = paste0(dir_pea_partner2, partner2, '_', databases_list[db], '_HEATMAP_genes_positive', '.pdf'), width = 8, height = 11)\n",
    "        \n",
    "        vlnplot <- VlnPlot(object, features = genes_to_plot, stack = TRUE, flip = TRUE, cols = colours_diagnosis_groups, fill.by = \"ident\") +\n",
    "                        theme(legend.position = \"none\",\n",
    "                          text = element_text(size = 17),\n",
    "                          axis.text = element_text(size = 17))\n",
    "        ggsave(vlnplot, file = paste0(dir_pea_partner2, partner2, '_', databases_list[db], '_StackedVIOLIN_genes_positive', '.pdf'), width = 8, height = 11)\n",
    "        }\n",
    "    #end of the einrichr loop"
   ]
  },
  {
   "cell_type": "markdown",
   "id": "fee57eff-714a-4af4-9f8c-f94c19d35eb3",
   "metadata": {
    "tags": []
   },
   "source": [
    "## Combine the final result and plot volcano"
   ]
  },
  {
   "cell_type": "code",
   "execution_count": null,
   "id": "f0755fce-5db4-4ea9-b86d-5e5b128d53cd",
   "metadata": {},
   "outputs": [],
   "source": [
    "#load in the Twins markers\n",
    "\n",
    "#healhy\n",
    "healthy_markers1 <- read.csv('~/projects/TWINS_August_2021/GitHub/outs/MS_vs_Healthy_NON_pairwise/DGE_Healthy.csv')\n",
    "healthy_markers2 <- read.csv('~/projects/TWINS_August_2021/GitHub/outs/SCNI_vs_Healthy_NON_pairwise/DGE_Healthy.csv')\n",
    "\n",
    "#SCNI\n",
    "scni_markers1 <- read.csv('~/projects/TWINS_August_2021/GitHub/outs/SCNI_vs_Healthy_NON_pairwise/DGE_SCNI.csv')\n",
    "scni_markers2 <- read.csv('~/projects/TWINS_August_2021/GitHub/outs/SCNI_vs_MS_NON_pairwise/DGE_SCNI.csv')\n",
    "#MS\n",
    "ms_markers1 <- read.csv('~/projects/TWINS_August_2021/GitHub/outs/MS_vs_Healthy_NON_pairwise/DGE_MS.csv')\n",
    "ms_markers2 <- read.csv('~/projects/TWINS_August_2021/GitHub/outs/SCNI_vs_MS_NON_pairwise/DGE_MS.csv')\n",
    "\n",
    "#combine the markers\n",
    "healthy_markers <- c(healthy_markers1$genes, healthy_markers2$genes)\n",
    "healthy_markers <- unique(healthy_markers)\n",
    "\n",
    "scni_markers <- c(scni_markers1$genes, scni_markers2$genes)\n",
    "scni_markers <- unique(scni_markers)\n",
    "ms_markers <- c(ms_markers1$genes, ms_markers2$genes)\n",
    "ms_markers <- unique(ms_markers)\n",
    "\n",
    "markers_twins <- c(scni_markers, ms_markers)\n",
    "markers_twins <- unique(markers_twins)"
   ]
  },
  {
   "cell_type": "code",
   "execution_count": null,
   "id": "483b8eb1-cf03-495f-8e37-f75cb9b0b050",
   "metadata": {},
   "outputs": [],
   "source": [
    "#save the volcano withouth highlighting\n",
    "\n",
    "number_of_genes_volcano <- 40\n",
    "options(repr.plot.width=10, repr.plot.height=8)\n",
    "selected_markers_partner1$partner <- partner1\n",
    "write.csv(selected_markers_partner1, file = paste0(dir_path, '/DGE_', partner1, '.csv'))\n",
    "selected_markers_partner2$partner <- partner2\n",
    "write.csv(selected_markers_partner2, file = paste0(dir_path, '/DGE_', partner2, '.csv'))\n",
    "\n",
    "selected_markers_partner2$avg_log2FC <- -selected_markers_partner2$avg_log2FC \n",
    "selected_markers_combined <- rbind(selected_markers_partner1, selected_markers_partner2)\n",
    "\n",
    "\n",
    "volcano <- ggplot(selected_markers_combined, aes(x = avg_log2FC, y = -log10(avg_p_val_adj))) +\n",
    "        geom_vline(xintercept = 0) +\n",
    "        geom_hline(yintercept = -log10(0.05), color =\"grey\", linetype =\"dashed\") +\n",
    "        geom_point(data = selected_markers_combined,\n",
    "                    color = \"grey\", alpha = 1) +\n",
    "        geom_point(data = selected_markers_partner1[1:number_of_genes_volcano, ],\n",
    "                    fill = colour1, alpha = 1, shape=21, size= 2.5) +\n",
    "        geom_point(data = selected_markers_partner2[1:number_of_genes_volcano, ],\n",
    "                    fill = colour2, alpha = 1, shape=21, size= 2.5) +\n",
    "        geom_text_repel(data= rbind(selected_markers_partner1[1:number_of_genes_volcano, ], selected_markers_partner2[1:number_of_genes_volcano, ]), max.overlaps = number_of_genes_volcano, aes(label = genes))+\n",
    "        theme_linedraw() +\n",
    "        theme(panel.grid = element_blank(), legend.position = \"none\") +\n",
    "        xlab(\"log2(average fold change)\") +\n",
    "        ylab(\"-log10(p-value)\") + ggtitle(paste(partner2, '(left)', 'vs', partner1, '(right)'))\n",
    "ggsave(volcano, file = paste0(dir_path, '/', partner1, '_vs_', partner2, '_volcano_plot.pdf'), height = 8, width = 10)\n",
    "\n",
    "write.csv(selected_markers_combined, file = paste0(dir_path, '/DGE_', partner1, '_vs_', partner2, '.csv'))"
   ]
  },
  {
   "cell_type": "code",
   "execution_count": null,
   "id": "b458d500-f951-4c8e-91e1-06d0af528195",
   "metadata": {
    "tags": []
   },
   "outputs": [],
   "source": [
    "#save the volcano with highlighting\n",
    "\n",
    "number_of_genes_volcano <- 40\n",
    "highlight_color <- '#b61111'\n",
    "options(repr.plot.width=10, repr.plot.height=8)\n",
    "\n",
    "#subset the first lines from the object\n",
    "selected_markers_partner1_number <- selected_markers_partner1[1:number_of_genes_volcano, ]\n",
    "selected_markers_partner2_number <- selected_markers_partner2[1:number_of_genes_volcano, ]\n",
    "\n",
    "# load in the non-twin cohort markers and leave only the ones were found in the twin cohort\n",
    "ms_markers <- selected_markers_partner1\n",
    "ms_markers <- ms_markers[ms_markers$genes %in% markers_twins, ]\n",
    "\n",
    "IIH_markers <- selected_markers_partner2\n",
    "IIH_markers <- IIH_markers[IIH_markers$genes %in% healthy_markers, ]\n",
    "\n",
    "nrow(IIH_markers)\n",
    "nrow(ms_markers)\n",
    "\n",
    "text_all_top <- rbind(selected_markers_partner1[1:number_of_genes_volcano, ], selected_markers_partner2[1:number_of_genes_volcano, ])\n",
    "text_all_top <- text_all_top[!text_all_top$genes %in% IIH_markers$genes, ]\n",
    "text_all_top <- text_all_top[!text_all_top$genes %in% ms_markers$genes, ]\n",
    "\n",
    "#leave only the markers that are in the top number_of_genes_volcano\n",
    "highlight_MS <- ms_markers[ms_markers$genes %in% selected_markers_partner1_number$genes, ]\n",
    "highlight_IIH <- IIH_markers[IIH_markers$genes %in% selected_markers_partner2_number$genes, ]\n",
    "\n",
    "\n",
    "volcano <- ggplot(selected_markers_combined, aes(x = avg_log2FC, y = -log10(avg_p_val_adj))) +\n",
    "        geom_vline(xintercept = 0) +\n",
    "        geom_hline(yintercept = -log10(0.05), color =\"grey\", linetype =\"dashed\") +\n",
    "        geom_point(data = selected_markers_combined,\n",
    "                    color = \"grey\", alpha = 1) +\n",
    "        geom_point(data = selected_markers_partner1[1:number_of_genes_volcano, ],\n",
    "                    fill = colour1, alpha = 1, shape=21, size= 2.5) +\n",
    "        geom_point(data = selected_markers_partner2[1:number_of_genes_volcano, ],\n",
    "                    fill = colour2, alpha = 1, shape=21, size= 2.5) +\n",
    "        geom_text_repel(data= rbind(highlight_MS, highlight_IIH), max.overlaps = number_of_genes_volcano, aes(label = genes), colour = highlight_color)+\n",
    "        geom_text_repel(data= text_all_top, max.overlaps = number_of_genes_volcano, aes(label = genes))+\n",
    "        theme_linedraw() +\n",
    "        theme(panel.grid = element_blank(), legend.position = \"none\") +\n",
    "        xlab(\"log2(average fold change)\") +\n",
    "        ylab(\"-log10(p-value)\") + ggtitle(paste(partner2, '(left)', 'vs', partner1, '(right)'))\n",
    "ggsave(volcano, file = paste0(dir_path, '/', partner1, '_vs_', partner2, '_volcano_plot_highlighted.pdf'), height = 8, width = 10)\n"
   ]
  },
  {
   "cell_type": "markdown",
   "id": "cf552ecd-e405-4fad-a181-88bf4256488b",
   "metadata": {},
   "source": [
    "# Create the UMAPs with immunological signatures (validation dataset)"
   ]
  },
  {
   "cell_type": "code",
   "execution_count": null,
   "id": "b0271a72-29c4-4873-ab27-7249ea4cf270",
   "metadata": {},
   "outputs": [],
   "source": [
    "set.seed(1234)"
   ]
  },
  {
   "cell_type": "code",
   "execution_count": null,
   "id": "4de632ac-6792-4cb3-bb64-a550d3413a7b",
   "metadata": {},
   "outputs": [],
   "source": [
    "data <- read.csv2(file = './modules/immunological_markers_plot.csv')\n",
    "data <- data$Gene\n",
    "\n",
    "data <- data[data %in% combined_dis_np]\n",
    "data <- data[order(data)]\n",
    "data\n",
    "length(data)\n",
    "twins_immunological <- data\n",
    "twins_immunological"
   ]
  },
  {
   "cell_type": "code",
   "execution_count": null,
   "id": "c98cc5c1-0cdf-47b8-a337-efe94ae381f9",
   "metadata": {
    "tags": []
   },
   "outputs": [],
   "source": [
    "object_val <- readRDS(file = './mapped_pbmc_withoverlapdata_20220415.rds')\n",
    "object_val <- NormalizeData(object_val, normalization.method = \"LogNormalize\", scale.factor = 10000)\n",
    "object_val\n",
    "\n",
    "#cluster of interest\n",
    "clusters_of_interest <- c('6_GZMK', '8_CD74', '9_IKZF2', '10_FGFBP2')\n",
    "\n",
    "#subset the desired clusters\n",
    "object_val <- subset(object_val, idents = clusters_of_interest)"
   ]
  },
  {
   "cell_type": "code",
   "execution_count": null,
   "id": "788bfe84-e4ac-434b-8f5a-14e5a8bef2fe",
   "metadata": {},
   "outputs": [],
   "source": [
    "unique(object_val@meta.data$cd8_coded)"
   ]
  },
  {
   "cell_type": "code",
   "execution_count": null,
   "id": "4f33fa6b-a046-4bb7-a3fa-a4f7521e6f57",
   "metadata": {
    "tags": []
   },
   "outputs": [],
   "source": [
    "# load in the markers from the validation analysis\n",
    "markers_val <- read.csv(file = './outs/MS_vs_IIH_NON_pairwise/DGE_MS.csv')\n",
    "markers_val <- markers_val$genes\n",
    "\n",
    "#map on the twins dataset\n",
    "markers_val <- markers_val[markers_val %in% twins_immunological]\n",
    "markers_val\n",
    "length(markers_val)"
   ]
  },
  {
   "cell_type": "code",
   "execution_count": null,
   "id": "1cb6a2d3-1ffe-44dd-ae67-8479dd9e882b",
   "metadata": {},
   "outputs": [],
   "source": [
    "#create average expression object for the heatmaps\n",
    "object_val@meta.data$diagnosis_expand <- paste0(object_val@meta.data$diagnosis_simp, '_', object_val@meta.data$expand)\n",
    "Idents(object_val) <- 'diagnosis_expand'\n",
    "levels(object_val) <- c('IIH_nonexp', 'IIH_exp', 'MS_nonexp', 'MS_exp')\n",
    "object_av <- AverageExpression(object_val, return.seurat = T, verbose = FALSE)"
   ]
  },
  {
   "cell_type": "code",
   "execution_count": null,
   "id": "a6f54f28-4a0b-4103-abf3-87071f95e968",
   "metadata": {
    "tags": []
   },
   "outputs": [],
   "source": [
    "dir_plots <- './outs/signatures/'\n",
    "colours_diagnosis_groups <- c('#1D5B60', '#1D5B60', '#8D2413', '#8D2413')\n",
    "group_intereset <- 'MS_exp'\n",
    "#run the loop for plotting new heamaps\n",
    "    \n",
    "    #create the table with expression values\n",
    "    markers <- markers_val\n",
    "    object_plot <- object_av\n",
    "    \n",
    "    #create margins for heatmap color scale\n",
    "    data_markers <- object_av@assays$SymphonyQuery@scale.data\n",
    "    data_markers <- data_markers[markers, ]\n",
    "    max.value <- max(data_markers)\n",
    "    min.value <- min(data_markers)\n",
    "    \n",
    "    #order expression\n",
    "    data_markers <- data.frame(data_markers)\n",
    "    data_markers <- data_markers[order(data_markers[[group_intereset]], decreasing = F), ]\n",
    "    markers <- rownames(data_markers)\n",
    "    \n",
    "    #create the heatmap\n",
    "    width <- 5.5\n",
    "    height <- length(markers)/2\n",
    "    options(repr.plot.width=width, repr.plot.height=height)\n",
    "    \n",
    "    #plot the heatmap\n",
    "    heatmap <- DoHeatmap(object_plot, features = markers, draw.lines = FALSE, size = 7, raster = FALSE, group.colors = colours_diagnosis_groups) + \n",
    "            theme(text = element_text(size = 20, face = \"plain\", colour = 'black'),\n",
    "                  axis.text.y=element_text(colour=\"black\", size = 15)) + \n",
    "                  scale_fill_gradientn(colours = c(\"#2881C1\", \"white\", \"#D3556E\", \"#671727\"), values = scales::rescale(c(min.value, 0, max.value/2, max.value)))\n",
    "    heatmap\n",
    "    ggsave(heatmap, file = paste0(dir_plots, 'immunological_mapped_heatmap_new_horizontal.pdf'), width = width, height = height)"
   ]
  },
  {
   "cell_type": "code",
   "execution_count": null,
   "id": "1db9a5b2-3e03-48ba-a57f-8e3f3e11dfc5",
   "metadata": {},
   "outputs": [],
   "source": [
    "Idents(object_val) <- 'diagnosis_simp'\n",
    "set.seed(1234)\n",
    "number_downsample <- nrow(filter(object_val@meta.data, diagnosis_simp == 'IIH'))\n",
    "object_subset <- subset(object_val, downsample = number_downsample)\n",
    "table(object_subset$diagnosis_simp)\n",
    "object_subset"
   ]
  },
  {
   "cell_type": "code",
   "execution_count": null,
   "id": "0a9378a4-5dd7-43e6-83b0-8381963d4877",
   "metadata": {},
   "outputs": [],
   "source": [
    "#check the number of cells per patient in the downsampled object\n",
    "unique(filter(object_subset@meta.data, diagnosis_simp == 'IIH')$samplenumb)\n",
    "unique(filter(object_subset@meta.data, diagnosis_simp == 'MS')$samplenumb)\n",
    "table(filter(object_subset@meta.data, diagnosis_simp == 'MS')$samplenumb)\n",
    "\n",
    "#original object in the MS group\n",
    "table(filter(object_val@meta.data, diagnosis_simp == 'MS')$samplenumb)"
   ]
  },
  {
   "cell_type": "code",
   "execution_count": null,
   "id": "3f158437-cd26-43d8-9de3-75e0316aedf8",
   "metadata": {
    "tags": []
   },
   "outputs": [],
   "source": [
    "dir_plots <- './outs/signatures/'\n",
    "    markers <- markers\n",
    "    object_plot <- object_subset\n",
    "    \n",
    "    expression <- data.frame(matrix(NA, ncol = length(markers), nrow  = nrow(object_plot@meta.data)))\n",
    "    for(i in 1:ncol(expression)){\n",
    "        expression[, i] <- object_plot@assays$SymphonyQuery@data[markers[i], ]\n",
    "        }\n",
    "    \n",
    "    expression[ncol(expression)+1] <- NA\n",
    "    colnames(expression)[ncol(expression)] <- 'sum'\n",
    "    \n",
    "    for(i in 1:nrow(expression)){\n",
    "        #with sum    \n",
    "        expression$sum[i] <- sum(expression[i, 1:(ncol(expression)-1)]) / (ncol(expression)-1)\n",
    "        #with geometrical mean\n",
    "        #expression$sum[i] <- gm_mean(expression[i, 1:(ncol(expression)-1)])\n",
    "    }\n",
    "    \n",
    "    object_plot@meta.data$sum_genes <- expression$sum\n",
    "  \n",
    "    #define the cells above the threshhold to plot\n",
    "    cells_to_highlight <- rownames(object_plot@meta.data)[object_plot@meta.data$sum_genes > quantile(object_plot$sum_genes, 0.99)[[1]]]\n",
    "    \n",
    "    #plot the cells by the splitted column with selected threshhold\n",
    "    object_split <- object_plot\n",
    "    Idents(object_split) <- 'cd8_coded'\n",
    "    width <- 11\n",
    "    height <- 6\n",
    "    options(repr.plot.width=12, repr.plot.height=6)\n",
    "    object_split$diagnosis_simp <- factor(x = object_split$diagnosis_simp, levels = c('IIH', 'MS'))\n",
    "    umap_plot <- DimPlot(object_split, reduction = 'umap', pt.size = 9.5, label = TRUE, repel  = TRUE, label.size = 6, cells.highlight = cells_to_highlight, split.by = 'diagnosis_simp', cols.highlight = '#D3556E', raster = T, raster.dpi = c(2048, 2048)) + \n",
    "    theme(\n",
    "          text = element_text(size = 20),\n",
    "          axis.text = element_text(size = 20),\n",
    "          legend.text=element_text(size=20)) + NoLegend() + NoAxes()\n",
    "    umap_plot\n",
    "    ggsave(umap_plot, file = paste0(dir_plots, 'immunolgical_mapped_umap_featureplot.pdf'), width = width, height = height)\n",
    "    \n",
    "    umap_plot <- DimPlot(object_split, reduction = 'umap', label = TRUE, repel  = TRUE, label.size = 6, cells.highlight = cells_to_highlight, split.by = 'diagnosis_simp', cols.highlight = '#D3556E') + \n",
    "    theme(\n",
    "          text = element_text(size = 20),\n",
    "          axis.text = element_text(size = 20),\n",
    "          legend.text=element_text(size=20)) + NoLegend() + NoAxes()\n",
    "\n",
    "    ggsave(umap_plot, file = paste0(dir_plots, 'immunolgical_mapped_umap_featureplot_vector.pdf'), width = width, height = height)"
   ]
  },
  {
   "cell_type": "markdown",
   "id": "ac8e8701-30d2-4373-85fa-f453af5dccf6",
   "metadata": {},
   "source": [
    "# Create the UMAPs with metabolic signatures (validation dataset)"
   ]
  },
  {
   "cell_type": "code",
   "execution_count": null,
   "id": "8bc0785a-ec4d-454f-8d95-5757ba6e1107",
   "metadata": {},
   "outputs": [],
   "source": [
    "set.seed(1234)"
   ]
  },
  {
   "cell_type": "code",
   "execution_count": null,
   "id": "f1dff4d0-60e7-4274-9378-d5ae13a1fc66",
   "metadata": {
    "tags": []
   },
   "outputs": [],
   "source": [
    "object_val <- readRDS(file = './mapped_pbmc_withoverlapdata_20220415.rds')\n",
    "object_val <- NormalizeData(object_val, normalization.method = \"LogNormalize\", scale.factor = 10000)\n",
    "object_val\n",
    "\n",
    "#cluster of interest\n",
    "clusters_of_interest <- c('6_GZMK', '8_CD74', '9_IKZF2', '10_FGFBP2')\n",
    "\n",
    "#subset the desired clusters\n",
    "object_val <- subset(object_val, idents = clusters_of_interest)"
   ]
  },
  {
   "cell_type": "code",
   "execution_count": null,
   "id": "9c0ffdd3-4669-4a59-a98c-05d9d34b29f0",
   "metadata": {},
   "outputs": [],
   "source": [
    "unique(object_val@meta.data$cd8_coded)"
   ]
  },
  {
   "cell_type": "code",
   "execution_count": null,
   "id": "eff845b8-defb-4695-9006-bca624f0ef19",
   "metadata": {},
   "outputs": [],
   "source": [
    "data <- read.csv2(file = './modules/metabolic_markers_plot.csv')\n",
    "data <- data$Gene\n",
    "data <- unique(data)\n",
    "\n",
    "data <- data[data %in% combined_dis_np]\n",
    "data <- data[data %in% rownames(pbmc)]\n",
    "data <- data[order(data)]\n",
    "data\n",
    "length(data)\n",
    "twins_metabolic <- data"
   ]
  },
  {
   "cell_type": "code",
   "execution_count": null,
   "id": "e596711e-3590-47c4-bab4-6848c9e96c68",
   "metadata": {
    "tags": []
   },
   "outputs": [],
   "source": [
    "# load in the markers from the validation analysis\n",
    "markers_val <- read.csv(file = './outs/MS_vs_IIH_NON_pairwise/DGE_MS.csv')\n",
    "markers_val <- markers_val$genes\n",
    "\n",
    "#map on the twins dataset\n",
    "markers_val <- markers_val[markers_val %in% twins_metabolic]\n",
    "markers_val\n",
    "length(markers_val)"
   ]
  },
  {
   "cell_type": "code",
   "execution_count": null,
   "id": "f73ba46a-65f9-40f4-8127-ace124ddfe13",
   "metadata": {},
   "outputs": [],
   "source": [
    "#create average expression object for the heatmaps\n",
    "object_val@meta.data$diagnosis_expand <- paste0(object_val@meta.data$diagnosis_simp, '_', object_val@meta.data$expand)\n",
    "Idents(object_val) <- 'diagnosis_expand'\n",
    "levels(object_val) <- c('IIH_nonexp', 'IIH_exp', 'MS_nonexp', 'MS_exp')\n",
    "object_av <- AverageExpression(object_val, return.seurat = T, verbose = FALSE)"
   ]
  },
  {
   "cell_type": "code",
   "execution_count": null,
   "id": "4320e690-274b-426f-910f-c78b00618f6a",
   "metadata": {
    "tags": []
   },
   "outputs": [],
   "source": [
    "dir_plots <- './outs/signatures/'\n",
    "colours_diagnosis_groups <- c('#1D5B60', '#1D5B60', '#8D2413', '#8D2413')\n",
    "group_intereset <- 'MS_exp'\n",
    "#run the loop for plotting new heamaps\n",
    "    \n",
    "    #create the table with expression values\n",
    "    markers <- markers_val\n",
    "    object_plot <- object_av\n",
    "    \n",
    "    #create margins for heatmap color scale\n",
    "    data_markers <- object_av@assays$SymphonyQuery@scale.data\n",
    "    data_markers <- data_markers[markers, ]\n",
    "    max.value <- max(data_markers)\n",
    "    min.value <- min(data_markers)\n",
    "    \n",
    "    #order expression\n",
    "    data_markers <- data.frame(data_markers)\n",
    "    data_markers <- data_markers[order(data_markers[[group_intereset]], decreasing = F), ]\n",
    "    markers <- rownames(data_markers)\n",
    "    \n",
    "    #create the heatmap\n",
    "    width <- 5.5\n",
    "    height <- length(markers)/2\n",
    "    options(repr.plot.width=width, repr.plot.height=height)\n",
    "    \n",
    "    #plot the heatmap\n",
    "    heatmap <- DoHeatmap(object_plot, features = markers, draw.lines = FALSE, size = 7, raster = FALSE, group.colors = colours_diagnosis_groups) + \n",
    "            theme(text = element_text(size = 20, face = \"plain\", colour = 'black'),\n",
    "                  axis.text.y=element_text(colour=\"black\", size = 15)) + \n",
    "                  scale_fill_gradientn(colours = c(\"#2881C1\", \"white\", \"#D3556E\", \"#671727\"), values = scales::rescale(c(min.value, 0, max.value/2, max.value)))\n",
    "    heatmap\n",
    "    ggsave(heatmap, file = paste0(dir_plots, 'metabolic_mapped_heatmap_new_horizontal.pdf'), width = width, height = height)"
   ]
  },
  {
   "cell_type": "code",
   "execution_count": null,
   "id": "f9430d1d-fdeb-4265-8914-26d0cb9aa264",
   "metadata": {},
   "outputs": [],
   "source": [
    "Idents(object_val) <- 'diagnosis_simp'\n",
    "set.seed(1234)\n",
    "number_downsample <- nrow(filter(object_val@meta.data, diagnosis_simp == 'IIH'))\n",
    "object_subset <- subset(object_val, downsample = number_downsample)\n",
    "table(object_subset$diagnosis_simp)\n",
    "object_subset"
   ]
  },
  {
   "cell_type": "code",
   "execution_count": null,
   "id": "3766bcc7-634c-4f3b-963d-24269cbd5a6d",
   "metadata": {},
   "outputs": [],
   "source": [
    "#check the number of cells per patient in the downsampled object\n",
    "unique(filter(object_subset@meta.data, diagnosis_simp == 'IIH')$samplenumb)\n",
    "unique(filter(object_subset@meta.data, diagnosis_simp == 'MS')$samplenumb)\n",
    "table(filter(object_subset@meta.data, diagnosis_simp == 'MS')$samplenumb)\n",
    "\n",
    "#original object in the MS group\n",
    "table(filter(object_val@meta.data, diagnosis_simp == 'MS')$samplenumb)"
   ]
  },
  {
   "cell_type": "code",
   "execution_count": null,
   "id": "acbb570f-e6b7-4290-a7cf-a1aa3242a550",
   "metadata": {
    "tags": []
   },
   "outputs": [],
   "source": [
    "dir_plots <- './outs/signatures/'\n",
    "    markers <- markers\n",
    "    object_plot <- object_subset\n",
    "    \n",
    "    expression <- data.frame(matrix(NA, ncol = length(markers), nrow  = nrow(object_plot@meta.data)))\n",
    "    for(i in 1:ncol(expression)){\n",
    "        expression[, i] <- object_plot@assays$SymphonyQuery@data[markers[i], ]\n",
    "        }\n",
    "    \n",
    "    expression[ncol(expression)+1] <- NA\n",
    "    colnames(expression)[ncol(expression)] <- 'sum'\n",
    "    \n",
    "    for(i in 1:nrow(expression)){\n",
    "        #with sum    \n",
    "        expression$sum[i] <- sum(expression[i, 1:(ncol(expression)-1)]) / (ncol(expression)-1)\n",
    "        #with geometrical mean\n",
    "        #expression$sum[i] <- gm_mean(expression[i, 1:(ncol(expression)-1)])\n",
    "    }\n",
    "    \n",
    "    object_plot@meta.data$sum_genes <- expression$sum\n",
    "  \n",
    "    #define the cells above the threshhold to plot\n",
    "    cells_to_highlight <- rownames(object_plot@meta.data)[object_plot@meta.data$sum_genes > quantile(object_plot$sum_genes, 0.99)[[1]]]\n",
    "    \n",
    "    #plot the cells by the splitted column with selected threshhold\n",
    "    object_split <- object_plot\n",
    "    Idents(object_split) <- 'cd8_coded'\n",
    "    width <- 11\n",
    "    height <- 6\n",
    "    options(repr.plot.width=12, repr.plot.height=6)\n",
    "    object_split$diagnosis_simp <- factor(x = object_split$diagnosis_simp, levels = c('IIH', 'MS'))\n",
    "    umap_plot <- DimPlot(object_split, reduction = 'umap', pt.size = 9.5, label = TRUE, repel  = TRUE, label.size = 6, cells.highlight = cells_to_highlight, split.by = 'diagnosis_simp', cols.highlight = '#D3556E', raster = T, raster.dpi = c(2048, 2048)) + \n",
    "    theme(\n",
    "          text = element_text(size = 20),\n",
    "          axis.text = element_text(size = 20),\n",
    "          legend.text=element_text(size=20)) + NoAxes() + NoLegend()\n",
    "    umap_plot\n",
    "    ggsave(umap_plot, file = paste0(dir_plots, 'metabolic_mapped_umap_featureplot.pdf'), width = width, height = height)\n",
    "    \n",
    "    umap_plot <- DimPlot(object_split, reduction = 'umap', label = TRUE, repel  = TRUE, label.size = 6, cells.highlight = cells_to_highlight, split.by = 'diagnosis_simp', cols.highlight = '#D3556E') + \n",
    "    theme(\n",
    "          text = element_text(size = 20),\n",
    "          axis.text = element_text(size = 20),\n",
    "          legend.text=element_text(size=20)) + NoAxes() + NoLegend()\n",
    "\n",
    "    ggsave(umap_plot, file = paste0(dir_plots, 'metabolic_mapped_umap_featureplot_vector.pdf'), width = width, height = height)"
   ]
  }
 ],
 "metadata": {
  "kernelspec": {
   "display_name": "R 4.0.5 azimuth env",
   "language": "R",
   "name": "ir405"
  },
  "language_info": {
   "codemirror_mode": "r",
   "file_extension": ".r",
   "mimetype": "text/x-r-source",
   "name": "R",
   "pygments_lexer": "r",
   "version": "4.0.5"
  },
  "toc-autonumbering": true
 },
 "nbformat": 4,
 "nbformat_minor": 5
}
