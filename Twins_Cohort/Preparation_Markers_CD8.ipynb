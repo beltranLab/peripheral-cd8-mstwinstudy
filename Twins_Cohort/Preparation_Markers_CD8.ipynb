{
 "cells": [
  {
   "cell_type": "markdown",
   "metadata": {},
   "source": [
    "Analysis: Vladyslav Kavaka (vladyslav.kavaka@med.uni-muenchen.de), Eduardo Beltran (eduardo.beltran@med.uni-muenchen.de)\n",
    "Insitute of Clinical Neuroimmunology, LMU, Munich"
   ]
  },
  {
   "cell_type": "code",
   "execution_count": 7,
   "metadata": {
    "tags": []
   },
   "outputs": [
    {
     "data": {
      "text/plain": [
       "R version 4.0.5 (2021-03-31)\n",
       "Platform: x86_64-conda-linux-gnu (64-bit)\n",
       "Running under: Ubuntu 18.04.6 LTS\n",
       "\n",
       "Matrix products: default\n",
       "BLAS/LAPACK: /home/INIM/vladyslav.kavaka/miniconda3/envs/azimuth/lib/libopenblasp-r0.3.17.so\n",
       "\n",
       "locale:\n",
       " [1] LC_CTYPE=C.UTF-8    LC_NUMERIC=C        LC_TIME=C          \n",
       " [4] LC_COLLATE=C        LC_MONETARY=C       LC_MESSAGES=C      \n",
       " [7] LC_PAPER=C          LC_NAME=C           LC_ADDRESS=C       \n",
       "[10] LC_TELEPHONE=C      LC_MEASUREMENT=C    LC_IDENTIFICATION=C\n",
       "\n",
       "attached base packages:\n",
       "[1] parallel  stats4    stats     graphics  grDevices utils     datasets \n",
       "[8] methods   base     \n",
       "\n",
       "other attached packages:\n",
       " [1] enrichR_3.0                 qpcR_1.4-1                 \n",
       " [3] robustbase_0.93-9           rgl_0.108.3                \n",
       " [5] minpack.lm_1.2-1            MASS_7.3-55                \n",
       " [7] MAST_1.16.0                 SingleCellExperiment_1.12.0\n",
       " [9] SummarizedExperiment_1.20.0 Biobase_2.50.0             \n",
       "[11] GenomicRanges_1.42.0        GenomeInfoDb_1.26.4        \n",
       "[13] IRanges_2.24.1              S4Vectors_0.28.1           \n",
       "[15] BiocGenerics_0.36.0         MatrixGenerics_1.2.1       \n",
       "[17] matrixStats_0.61.0          purrr_0.3.4                \n",
       "[19] scales_1.2.1                ggrepel_0.9.1              \n",
       "[21] gprofiler2_0.2.1            patchwork_1.1.2            \n",
       "[23] ggthemes_4.2.4              ggplot2_3.4.0              \n",
       "[25] limma_3.46.0                tidyr_1.1.4                \n",
       "[27] Matrix_1.4-0                dplyr_1.0.7                \n",
       "[29] SeuratObject_4.0.4          Seurat_4.1.0               \n",
       "[31] devtools_2.4.5              usethis_2.1.6              \n",
       "\n",
       "loaded via a namespace (and not attached):\n",
       "  [1] uuid_1.1-0             plyr_1.8.6             igraph_1.2.11         \n",
       "  [4] repr_1.1.4             lazyeval_0.2.2         splines_4.0.5         \n",
       "  [7] listenv_0.8.0          scattermore_0.7        digest_0.6.29         \n",
       " [10] htmltools_0.5.2        fansi_1.0.3            magrittr_2.0.3        \n",
       " [13] memoise_2.0.1          tensor_1.5             cluster_2.1.2         \n",
       " [16] ROCR_1.0-11            remotes_2.4.2          globals_0.14.0        \n",
       " [19] pkgdown_2.0.6          spatstat.sparse_2.1-0  prettyunits_1.1.1     \n",
       " [22] colorspace_2.0-3       xfun_0.29              callr_3.7.0           \n",
       " [25] crayon_1.4.2           RCurl_1.98-1.6         jsonlite_1.7.2        \n",
       " [28] spatstat.data_2.1-2    survival_3.2-13        zoo_1.8-10            \n",
       " [31] glue_1.6.2             polyclip_1.10-0        gtable_0.3.1          \n",
       " [34] zlibbioc_1.36.0        XVector_0.30.0         leiden_0.3.9          \n",
       " [37] DelayedArray_0.16.3    pkgbuild_1.3.1         future.apply_1.8.1    \n",
       " [40] DEoptimR_1.0-10        abind_1.4-5            DBI_1.1.2             \n",
       " [43] miniUI_0.1.1.1         Rcpp_1.0.8             viridisLite_0.4.1     \n",
       " [46] xtable_1.8-4           reticulate_1.23        spatstat.core_2.3-2   \n",
       " [49] profvis_0.3.7          htmlwidgets_1.5.4      httr_1.4.2            \n",
       " [52] RColorBrewer_1.1-3     ellipsis_0.3.2         ica_1.0-2             \n",
       " [55] urlchecker_1.0.1       pkgconfig_2.0.3        uwot_0.1.11           \n",
       " [58] deldir_1.0-6           utf8_1.2.2             tidyselect_1.1.1      \n",
       " [61] rlang_1.0.6            reshape2_1.4.4         later_1.2.0           \n",
       " [64] munsell_0.5.0          tools_4.0.5            cachem_1.0.6          \n",
       " [67] cli_3.4.1              generics_0.1.1         ggridges_0.5.3        \n",
       " [70] evaluate_0.14          stringr_1.4.0          fastmap_1.1.0         \n",
       " [73] goftest_1.2-3          knitr_1.37             processx_3.5.2        \n",
       " [76] fs_1.5.2               fitdistrplus_1.1-6     RANN_2.6.1            \n",
       " [79] pbapply_1.5-0          future_1.23.0          nlme_3.1-152          \n",
       " [82] mime_0.12              compiler_4.0.5         curl_4.3.2            \n",
       " [85] plotly_4.10.0          png_0.1-7              spatstat.utils_2.3-0  \n",
       " [88] tibble_3.1.8           stringi_1.7.6          ps_1.6.0              \n",
       " [91] lattice_0.20-45        IRdisplay_1.1          vctrs_0.5.1           \n",
       " [94] pillar_1.8.1           lifecycle_1.0.3        spatstat.geom_2.4-0   \n",
       " [97] lmtest_0.9-39          RcppAnnoy_0.0.19       data.table_1.14.2     \n",
       "[100] cowplot_1.1.1          bitops_1.0-7           irlba_2.3.5           \n",
       "[103] httpuv_1.6.5           R6_2.5.1               promises_1.2.0.1      \n",
       "[106] KernSmooth_2.23-20     gridExtra_2.3          parallelly_1.30.0     \n",
       "[109] sessioninfo_1.2.2      codetools_0.2-18       assertthat_0.2.1      \n",
       "[112] pkgload_1.3.2          rjson_0.2.21           withr_2.5.0           \n",
       "[115] sctransform_0.3.3      GenomeInfoDbData_1.2.4 mgcv_1.8-38           \n",
       "[118] grid_4.0.5             rpart_4.1.16           IRkernel_1.3          \n",
       "[121] Rtsne_0.15             pbdZMQ_0.3-7           shiny_1.7.1           \n",
       "[124] base64enc_0.1-3       "
      ]
     },
     "metadata": {},
     "output_type": "display_data"
    }
   ],
   "source": [
    "sessionInfo()\n",
    "set.seed(1)"
   ]
  },
  {
   "cell_type": "code",
   "execution_count": null,
   "metadata": {
    "tags": []
   },
   "outputs": [],
   "source": [
    "library(devtools)\n",
    "library(Seurat)\n",
    "library(dplyr)\n",
    "library(Matrix)\n",
    "library(tidyr)\n",
    "library(limma)\n",
    "library(ggplot2)\n",
    "library(ggthemes)\n",
    "library(patchwork)\n",
    "library(gprofiler2)\n",
    "library(ggrepel)\n",
    "library(scales)\n",
    "library(ggthemes)\n",
    "library(purrr)\n",
    "library(MAST)\n",
    "library(qpcR)\n",
    "library(enrichR)"
   ]
  },
  {
   "cell_type": "code",
   "execution_count": 5,
   "metadata": {},
   "outputs": [],
   "source": [
    "set_figsize <- function(width, height){\n",
    "    options(repr.plot.width = width, \n",
    "            repr.plot.height = height)\n",
    "}"
   ]
  },
  {
   "cell_type": "code",
   "execution_count": 6,
   "metadata": {},
   "outputs": [],
   "source": [
    "options(repr.plot.width=11, repr.plot.height=11)"
   ]
  },
  {
   "cell_type": "markdown",
   "metadata": {},
   "source": [
    "# Read 10X data"
   ]
  },
  {
   "cell_type": "code",
   "execution_count": null,
   "metadata": {},
   "outputs": [],
   "source": [
    "## Read 10X data:\n",
    "matrix_dir = \"/pathway_to_combined_10X_output/\""
   ]
  },
  {
   "cell_type": "code",
   "execution_count": null,
   "metadata": {},
   "outputs": [],
   "source": [
    "list.files(matrix_dir)"
   ]
  },
  {
   "cell_type": "code",
   "execution_count": null,
   "metadata": {},
   "outputs": [],
   "source": [
    "data <- Read10X(data.dir = matrix_dir)\n",
    "## Create Seurat object\n",
    "pbmc <- CreateSeuratObject (counts = data, min.cells = 3, min.features = 200, project = \"TWINS\")"
   ]
  },
  {
   "cell_type": "code",
   "execution_count": null,
   "metadata": {},
   "outputs": [],
   "source": [
    "pbmc"
   ]
  },
  {
   "cell_type": "code",
   "execution_count": null,
   "metadata": {},
   "outputs": [],
   "source": [
    "# The number of features and UMIs (nFeature_RNA and nCount_RNA) are automatically calculated for every object by Seurat.\n",
    "# For non-UMI data, nCount_RNA represents the sum of the non-normalized values within a cell\n",
    "# We calculate the percentage of mitochondrial features here and store it in object metadata as `percent.mito`.\n",
    "# We use raw count data since this represents non-transformed and non-log-normalized counts\n",
    "# The % of UMI mapping to MT-features is a common scRNA-seq QC metric.\n",
    "mito.features <- grep(pattern = \"^MT-\", x = rownames(x = pbmc), value = TRUE)\n",
    "percent.mito <- Matrix::colSums(x = GetAssayData(object = pbmc, slot = 'counts')[mito.features, ]) / Matrix::colSums(x = GetAssayData(object = pbmc, slot = 'counts'))"
   ]
  },
  {
   "cell_type": "code",
   "execution_count": null,
   "metadata": {},
   "outputs": [],
   "source": [
    "# The [[ operator can add columns to object metadata, and is a great place to stash QC stats\n",
    "pbmc[['percent.mito']] <- percent.mito\n",
    "VlnPlot(object = pbmc, features = c(\"nFeature_RNA\", \"nCount_RNA\", \"percent.mito\"), ncol = 3, pt.size = 0.000001)"
   ]
  },
  {
   "cell_type": "code",
   "execution_count": null,
   "metadata": {},
   "outputs": [],
   "source": [
    "# FeatureScatter is typically used to visualize feature-feature relationships, but can be used for anything \n",
    "# calculated by the object, i.e. columns in object metadata, PC scores etc.\n",
    "# Since there is a rare subset of cells with an outlier level of high mitochondrial percentage\n",
    "# and also low UMI content, we filter these as well\n",
    "FeatureScatter(object = pbmc, feature1 = \"nCount_RNA\", feature2 = \"percent.mito\")"
   ]
  },
  {
   "cell_type": "code",
   "execution_count": null,
   "metadata": {},
   "outputs": [],
   "source": [
    "FeatureScatter(object = pbmc, feature1 = \"nCount_RNA\", feature2 = \"nFeature_RNA\")"
   ]
  },
  {
   "cell_type": "code",
   "execution_count": null,
   "metadata": {},
   "outputs": [],
   "source": [
    "# We filter out cells that have unique feature counts over 5,000 or less than 500, mitochondrial genes percentage cutoff 15%\n",
    "pbmc <- subset(x = pbmc, subset = nFeature_RNA > 500 & nFeature_RNA < 5000 & percent.mito < '0.15')"
   ]
  },
  {
   "cell_type": "code",
   "execution_count": null,
   "metadata": {},
   "outputs": [],
   "source": [
    "pbmc"
   ]
  },
  {
   "cell_type": "code",
   "execution_count": null,
   "metadata": {},
   "outputs": [],
   "source": [
    "VlnPlot(object = pbmc, features = c(\"nFeature_RNA\", \"nCount_RNA\", \"percent.mito\"), ncol = 3, pt.size = 0.00001)"
   ]
  },
  {
   "cell_type": "markdown",
   "metadata": {},
   "source": [
    "## Create sample column"
   ]
  },
  {
   "cell_type": "code",
   "execution_count": null,
   "metadata": {},
   "outputs": [],
   "source": [
    "# Get batches based on cell names\n",
    "samples_batches <- sapply(colnames(GetAssayData(object = pbmc, slot = \"counts\")),\n",
    "                      FUN=function(x){substr(x,18,19)})"
   ]
  },
  {
   "cell_type": "code",
   "execution_count": null,
   "metadata": {},
   "outputs": [],
   "source": [
    "# Turn to numbers and add cell names to them\n",
    "samples_batches <- as.numeric(as.character(samples_batches))\n",
    "names(samples_batches) <- colnames(GetAssayData(object = pbmc, slot = \"counts\"))"
   ]
  },
  {
   "cell_type": "code",
   "execution_count": null,
   "metadata": {},
   "outputs": [],
   "source": [
    "sample.effect <- samples_batches"
   ]
  },
  {
   "cell_type": "code",
   "execution_count": null,
   "metadata": {},
   "outputs": [],
   "source": [
    "pbmc <- AddMetaData(pbmc, sample.effect, \"sample.effect\")"
   ]
  },
  {
   "cell_type": "markdown",
   "metadata": {},
   "source": [
    "## Cluster and visualize cells using the usual scRNA-seq workflow, and examine for the potential presence of batch effects."
   ]
  },
  {
   "cell_type": "code",
   "execution_count": null,
   "metadata": {},
   "outputs": [],
   "source": [
    "pbmc <- NormalizeData(object = pbmc, normalization.method = \"LogNormalize\", scale.factor = 1e4)"
   ]
  },
  {
   "cell_type": "code",
   "execution_count": null,
   "metadata": {},
   "outputs": [],
   "source": [
    "pbmc <- FindVariableFeatures(pbmc, selection.method = \"vst\", nfeatures = 2000)\n",
    "length(x = VariableFeatures(object = pbmc))\n",
    "markers.remove <- grep(pattern = \"^TRAV|^TRBV|^TRGV|^TRDV\",  x = rownames(x = pbmc), value = TRUE)\n",
    "VariableFeatures(object = pbmc) <- VariableFeatures(object = pbmc)[!(VariableFeatures(object = pbmc)%in%markers.remove)]\n",
    "length(VariableFeatures(object = pbmc))"
   ]
  },
  {
   "cell_type": "code",
   "execution_count": null,
   "metadata": {},
   "outputs": [],
   "source": [
    "pbmc <- ScaleData(pbmc, features = VariableFeatures(pbmc))\n",
    "pbmc <- RunPCA(pbmc, features = VariableFeatures(object = pbmc))\n",
    "\n",
    "DimPlot(pbmc)"
   ]
  },
  {
   "cell_type": "code",
   "execution_count": null,
   "metadata": {},
   "outputs": [],
   "source": [
    "# ProjectDim scores each feature in the dataset (including features not included in the PCA) based on their correlation \n",
    "# with the calculated components. Though we don't use this further here, it can be used to identify markers that \n",
    "# are strongly correlated with cellular heterogeneity, but may not have passed through variable feature selection. \n",
    "# The results of the projected PCA can be explored by setting `projected = TRUE`in the functions above\n",
    "pbmc <- ProjectDim(object = pbmc)"
   ]
  },
  {
   "cell_type": "code",
   "execution_count": null,
   "metadata": {},
   "outputs": [],
   "source": [
    "ElbowPlot(object = pbmc)"
   ]
  },
  {
   "cell_type": "code",
   "execution_count": null,
   "metadata": {
    "collapsed": true,
    "jupyter": {
     "outputs_hidden": true
    },
    "tags": []
   },
   "outputs": [],
   "source": [
    "for (i in 1:30){\n",
    "    print(DimHeatmap(object = pbmc, dims = i, cells = 500, balanced = TRUE))\n",
    "}"
   ]
  },
  {
   "cell_type": "markdown",
   "metadata": {},
   "source": [
    "## Cluster the cells"
   ]
  },
  {
   "cell_type": "code",
   "execution_count": null,
   "metadata": {},
   "outputs": [],
   "source": [
    "pbmc <- FindNeighbors(object = pbmc, dims = 1:20)\n",
    "pbmc <- FindClusters(object = pbmc, resolution = 0.5)"
   ]
  },
  {
   "cell_type": "markdown",
   "metadata": {},
   "source": [
    "## Run UMAP"
   ]
  },
  {
   "cell_type": "code",
   "execution_count": null,
   "metadata": {
    "collapsed": true,
    "jupyter": {
     "outputs_hidden": true
    },
    "tags": []
   },
   "outputs": [],
   "source": [
    "pbmc <- RunUMAP(pbmc, dims = 1:20)"
   ]
  },
  {
   "cell_type": "code",
   "execution_count": null,
   "metadata": {},
   "outputs": [],
   "source": [
    "#umap, dims 1:20, res. 0.5\n",
    "DimPlot(pbmc, reduction = 'umap', label = TRUE)\n",
    "DimPlot(pbmc, reduction = 'umap', label = TRUE, group.by = 'sample.effect')"
   ]
  },
  {
   "cell_type": "markdown",
   "metadata": {},
   "source": [
    "Batch effect present, integration required"
   ]
  },
  {
   "cell_type": "markdown",
   "metadata": {},
   "source": [
    "# Integration"
   ]
  },
  {
   "cell_type": "code",
   "execution_count": null,
   "metadata": {
    "collapsed": true,
    "jupyter": {
     "outputs_hidden": true
    },
    "tags": []
   },
   "outputs": [],
   "source": [
    "Sys.time()\n",
    "pbmc.list <- SplitObject(pbmc, split.by = \"sample.effect\")\n",
    "pbmc.list"
   ]
  },
  {
   "cell_type": "code",
   "execution_count": null,
   "metadata": {},
   "outputs": [],
   "source": [
    "markers.remove <- grep(pattern = \"^TRAV|^TRBV|^TRGV|^TRDV\",  x = rownames(x = pbmc), value = TRUE)"
   ]
  },
  {
   "cell_type": "code",
   "execution_count": null,
   "metadata": {
    "tags": []
   },
   "outputs": [],
   "source": [
    "pbmc.list <- lapply(X = pbmc.list, FUN = function(x) {\n",
    "    x <- NormalizeData(x)\n",
    "    x <- FindVariableFeatures(x, selection.method = \"vst\", nfeatures = 5000)\n",
    "})\n",
    "\n",
    "for (i in 1:length(pbmc.list)){\n",
    "     VariableFeatures(pbmc.list[[i]]) <- VariableFeatures(object = pbmc.list[[i]])[!(VariableFeatures(object = pbmc.list[[i]])%in%markers.remove)]\n",
    "}\n",
    "Sys.time()"
   ]
  },
  {
   "cell_type": "code",
   "execution_count": null,
   "metadata": {
    "collapsed": true,
    "jupyter": {
     "outputs_hidden": true
    },
    "tags": []
   },
   "outputs": [],
   "source": [
    "pbmc.list"
   ]
  },
  {
   "cell_type": "code",
   "execution_count": null,
   "metadata": {
    "tags": []
   },
   "outputs": [],
   "source": [
    "features <- SelectIntegrationFeatures(object.list = pbmc.list, nfeatures = 5000)"
   ]
  },
  {
   "cell_type": "code",
   "execution_count": null,
   "metadata": {},
   "outputs": [],
   "source": [
    "Sys.time()"
   ]
  },
  {
   "cell_type": "code",
   "execution_count": null,
   "metadata": {},
   "outputs": [],
   "source": [
    "pbmc.list <- lapply(X = pbmc.list, FUN = function(x) {\n",
    "    x <- ScaleData(x, features = features, verbose = FALSE)\n",
    "    x <- RunPCA(x, features = features, verbose = FALSE)\n",
    "})\n",
    "Sys.time()"
   ]
  },
  {
   "cell_type": "code",
   "execution_count": null,
   "metadata": {
    "collapsed": true,
    "jupyter": {
     "outputs_hidden": true
    },
    "tags": []
   },
   "outputs": [],
   "source": [
    "pbmc.anchors <- FindIntegrationAnchors(object.list = pbmc.list, anchor.features = features, reduction = \"rpca\")\n",
    "Sys.time()"
   ]
  },
  {
   "cell_type": "code",
   "execution_count": null,
   "metadata": {
    "collapsed": true,
    "jupyter": {
     "outputs_hidden": true
    },
    "tags": []
   },
   "outputs": [],
   "source": [
    "pbmc.integrated <- IntegrateData(anchorset = pbmc.anchors)\n",
    "Sys.time()"
   ]
  },
  {
   "cell_type": "code",
   "execution_count": null,
   "metadata": {},
   "outputs": [],
   "source": [
    "pbmc.integrated"
   ]
  },
  {
   "cell_type": "markdown",
   "metadata": {},
   "source": [
    "# Working with integrated file"
   ]
  },
  {
   "cell_type": "code",
   "execution_count": null,
   "metadata": {},
   "outputs": [],
   "source": [
    "pbmc.integrated <- FindVariableFeatures(pbmc.integrated, selection.method = \"vst\", nfeatures = 2000)\n",
    "length(x = VariableFeatures(object = pbmc.integrated))\n",
    "markers.remove <- grep(pattern = \"^TRAV|^TRBV|^TRGV|^TRDV\",  x = rownames(x = pbmc.integrated), value = TRUE)\n",
    "VariableFeatures(object = pbmc.integrated) <- VariableFeatures(object = pbmc.integrated)[!(VariableFeatures(object = pbmc.integrated)%in%markers.remove)]\n",
    "length(VariableFeatures(object = pbmc.integrated))"
   ]
  },
  {
   "cell_type": "code",
   "execution_count": null,
   "metadata": {
    "tags": []
   },
   "outputs": [],
   "source": [
    "#vst features\n",
    "top10 <- head(VariableFeatures(pbmc.integrated), 20)\n",
    "plot1 <- VariableFeaturePlot(pbmc.integrated)\n",
    "plot2 <- LabelPoints(plot = plot1, points = top10, repel = TRUE)\n",
    "plot2"
   ]
  },
  {
   "cell_type": "code",
   "execution_count": null,
   "metadata": {},
   "outputs": [],
   "source": [
    "pbmc.integrated <- ScaleData(pbmc.integrated, features = VariableFeatures(object = pbmc.integrated), vars.to.regress = c(\"nCount_RNA\", \"percent.mito\"))\n",
    "pbmc.integrated <- RunPCA(pbmc.integrated, features = VariableFeatures(object = pbmc.integrated))"
   ]
  },
  {
   "cell_type": "code",
   "execution_count": null,
   "metadata": {},
   "outputs": [],
   "source": [
    "Idents(pbmc.integrated) <- 'sample.effect'\n",
    "DimPlot(pbmc.integrated, reduction = 'pca', label = TRUE)"
   ]
  },
  {
   "cell_type": "code",
   "execution_count": null,
   "metadata": {},
   "outputs": [],
   "source": [
    "ElbowPlot(object = pbmc.integrated, ndims = 40)"
   ]
  },
  {
   "cell_type": "code",
   "execution_count": null,
   "metadata": {
    "collapsed": true,
    "jupyter": {
     "outputs_hidden": true
    },
    "tags": []
   },
   "outputs": [],
   "source": [
    "for (i in 1:30){\n",
    "    print(DimHeatmap(object = pbmc.integrated, dims = i, cells = 500, balanced = TRUE))\n",
    "}"
   ]
  },
  {
   "cell_type": "code",
   "execution_count": null,
   "metadata": {},
   "outputs": [],
   "source": [
    "saveRDS(pbmc.integrated, file = './pbmc_integrated_withoutumap.rds')\n",
    "saveRDS(pbmc, file = './pbmc_unintegrated.rds')"
   ]
  },
  {
   "cell_type": "markdown",
   "metadata": {},
   "source": [
    "## Cluster the cells"
   ]
  },
  {
   "cell_type": "code",
   "execution_count": null,
   "metadata": {},
   "outputs": [],
   "source": [
    "pbmc.integrated <- FindNeighbors(object = pbmc.integrated, dims = 1:25)"
   ]
  },
  {
   "cell_type": "code",
   "execution_count": null,
   "metadata": {},
   "outputs": [],
   "source": [
    "pbmc.integrated <- FindClusters(object = pbmc.integrated, resolution = 0.5)"
   ]
  },
  {
   "cell_type": "markdown",
   "metadata": {},
   "source": [
    "## Run UMAP"
   ]
  },
  {
   "cell_type": "code",
   "execution_count": null,
   "metadata": {
    "collapsed": true,
    "jupyter": {
     "outputs_hidden": true
    },
    "tags": []
   },
   "outputs": [],
   "source": [
    "pbmc.integrated <- RunUMAP(pbmc.integrated, dims = 1:25)"
   ]
  },
  {
   "cell_type": "code",
   "execution_count": null,
   "metadata": {},
   "outputs": [],
   "source": [
    "DimPlot(pbmc.integrated, reduction = 'umap', label = TRUE)\n",
    "DimPlot(pbmc.integrated, reduction = 'umap', label = TRUE, group.by = 'sample.effect')"
   ]
  },
  {
   "cell_type": "code",
   "execution_count": null,
   "metadata": {
    "collapsed": true,
    "jupyter": {
     "outputs_hidden": true
    },
    "tags": []
   },
   "outputs": [],
   "source": [
    "DefaultAssay(pbmc.integrated) <- 'RNA'"
   ]
  },
  {
   "cell_type": "markdown",
   "metadata": {
    "tags": []
   },
   "source": [
    "# Adding the sample information"
   ]
  },
  {
   "cell_type": "code",
   "execution_count": null,
   "metadata": {},
   "outputs": [],
   "source": [
    "pbmc <- pbmc.integrated"
   ]
  },
  {
   "cell_type": "code",
   "execution_count": null,
   "metadata": {},
   "outputs": [],
   "source": [
    "samplenames <- read.csv2(file = './Sample_info.csv')\n",
    "samplenames$Sample <- as.character(samplenames$Sample)"
   ]
  },
  {
   "cell_type": "code",
   "execution_count": null,
   "metadata": {},
   "outputs": [],
   "source": [
    "for(i in 1:nrow(pbmc@meta.data)){\n",
    "    pbmc@meta.data$sample[i] <- filter(samplenames, Number == pbmc@meta.data$sample.effect[i])$Sample\n",
    "}"
   ]
  },
  {
   "cell_type": "markdown",
   "metadata": {},
   "source": [
    "# Adding TCR information"
   ]
  },
  {
   "cell_type": "code",
   "execution_count": null,
   "metadata": {},
   "outputs": [],
   "source": [
    "# 1-16 folder for the TCRs of samples 1-16\n",
    "# 17-32 folder for the TCRs of samples 17-32"
   ]
  },
  {
   "cell_type": "code",
   "execution_count": null,
   "metadata": {},
   "outputs": [],
   "source": [
    "samples <- unique(pbmc@meta.data$sample)\n",
    "samples"
   ]
  },
  {
   "cell_type": "code",
   "execution_count": null,
   "metadata": {},
   "outputs": [],
   "source": [
    "tcr_folder = 'folder for the TCRs of samples 1-16'"
   ]
  },
  {
   "cell_type": "code",
   "execution_count": null,
   "metadata": {
    "collapsed": true,
    "jupyter": {
     "outputs_hidden": true
    },
    "tags": []
   },
   "outputs": [],
   "source": [
    "#First we need to create TCR file for the first sample in the list\n",
    "tcr <- read.csv(paste(tcr_folder, 'TR_', samples[1], '/outs/', \"filtered_contig_annotations.csv\", sep=\"\"))\n",
    "tcr <- with(tcr, tcr[order(chain, decreasing = TRUE), ]) # place TRB on top before removing duplicates\n",
    "tcr <- tcr[!duplicated(tcr$barcode), ]\n",
    "#choose the columns to keep\n",
    "tcr <- tcr[,c(\"barcode\", \"raw_clonotype_id\", \"chain\", 'v_gene')]\n",
    "names(tcr)[names(tcr) == \"raw_clonotype_id\"] <- \"clonotype_id\"\n",
    "#read clonotypes file\n",
    "clono <- read.csv(paste(tcr_folder, 'TR_', samples[1], '/outs/', \"clonotypes.csv\", sep=\"\"))\n",
    "tcr <- merge(tcr, clono[, c(\"clonotype_id\", \"frequency\", \"cdr3s_aa\")])\n",
    "#Rename columns\n",
    "names(tcr)[1] <- \"TCR_clonotype_id\"\n",
    "names(tcr)[3] <- 'TCR_chain'\n",
    "names(tcr)[4] <- 'TCR_v_gene'\n",
    "names(tcr)[5] <- 'TCR_frequency'\n",
    "names(tcr)[6] <- 'TCR_cdr3'\n",
    "#reorder Columns\n",
    "tcr <- tcr[, c(2, 1, 3, 4, 5, 6)]\n",
    "#correct rownames\n",
    "rownames(tcr) <- tcr[,1]\n",
    "tcr[,1] <- NULL\n",
    "#Split cdr3 column:\n",
    "tcr <- separate(data = tcr, col = TCR_cdr3, into = c(\"TCR1\", \"TCR2\", \"TCR3\", \"TCR4\"), sep = \"\\\\;\")\n",
    "tcr[is.na(tcr)] <- \"FALSE\"\n",
    "\n",
    "head(tcr)\n",
    "tcr.combined <- tcr"
   ]
  },
  {
   "cell_type": "code",
   "execution_count": null,
   "metadata": {
    "collapsed": true,
    "jupyter": {
     "outputs_hidden": true
    },
    "tags": []
   },
   "outputs": [],
   "source": [
    "#Now we can start a loop for sample 2 till 16:\n",
    "for (i in 2:16){\n",
    "    tcr <- read.csv(paste(tcr_folder, 'TR_', samples[i], '/outs/', \"filtered_contig_annotations.csv\", sep=\"\"))\n",
    "    #change barcode numbers according to samples in the loop\n",
    "    tcr$barcode <- gsub(\"-1\", paste('-', i, sep = ''), tcr$barcode) \n",
    "    tcr <- with(tcr, tcr[order(chain, decreasing = TRUE), ]) # place TRB on top before removing duplicates\n",
    "    tcr <- tcr[!duplicated(tcr$barcode), ]\n",
    "    #choose the columns to keep\n",
    "    tcr <- tcr[,c(\"barcode\", \"raw_clonotype_id\", \"chain\", 'v_gene')]\n",
    "    names(tcr)[names(tcr) == \"raw_clonotype_id\"] <- \"clonotype_id\"\n",
    "    #read clonotypes file\n",
    "    clono <- read.csv(paste(tcr_folder, 'TR_', samples[i], '/outs/', \"clonotypes.csv\", sep=\"\"))\n",
    "    tcr <- merge(tcr, clono[, c(\"clonotype_id\", \"frequency\", \"cdr3s_aa\")])\n",
    "    #Rename columns\n",
    "    names(tcr)[1] <- \"TCR_clonotype_id\"\n",
    "    names(tcr)[3] <- 'TCR_chain'\n",
    "    names(tcr)[4] <- 'TCR_v_gene'\n",
    "    names(tcr)[5] <- 'TCR_frequency'\n",
    "    names(tcr)[6] <- 'TCR_cdr3'\n",
    "    #reorder Columns\n",
    "    tcr <- tcr[, c(2, 1, 3, 4, 5, 6)]\n",
    "    #correct rownames\n",
    "    rownames(tcr) <- tcr[,1]\n",
    "    tcr[,1] <- NULL\n",
    "    #Split cdr3 column:\n",
    "    tcr <- separate(data = tcr, col = TCR_cdr3, into = c(\"TCR1\", \"TCR2\", \"TCR3\", \"TCR4\"), sep = \"\\\\;\")\n",
    "    tcr[is.na(tcr)] <- \"FALSE\"\n",
    "    tcr.combined <- rbind(tcr.combined, tcr)\n",
    "}"
   ]
  },
  {
   "cell_type": "code",
   "execution_count": null,
   "metadata": {
    "collapsed": true,
    "jupyter": {
     "outputs_hidden": true
    },
    "tags": []
   },
   "outputs": [],
   "source": [
    "#for samples 17 till 32:\n",
    "tcr_folder = 'folder for the TCRs of samples 17-32'\n",
    "#Now we can start a loop for sample 17 till 32:\n",
    "for (i in 17:length(samples)){\n",
    "    tcr <- read.csv(paste(tcr_folder, 'TR_', samples[i], '/outs/', \"filtered_contig_annotations.csv\", sep=\"\"))\n",
    "    #change barcode numbers according to samples in the loop\n",
    "    tcr$barcode <- gsub(\"-1\", paste('-', i, sep = ''), tcr$barcode) \n",
    "    tcr <- with(tcr, tcr[order(chain, decreasing = TRUE), ]) # place TRB on top before removing duplicates\n",
    "    tcr <- tcr[!duplicated(tcr$barcode), ]\n",
    "    #choose the columns to keep\n",
    "    tcr <- tcr[,c(\"barcode\", \"raw_clonotype_id\", \"chain\", 'v_gene')]\n",
    "    names(tcr)[names(tcr) == \"raw_clonotype_id\"] <- \"clonotype_id\"\n",
    "    #read clonotypes file\n",
    "    clono <- read.csv(paste(tcr_folder, 'TR_', samples[i], '/outs/', \"clonotypes.csv\", sep=\"\"))\n",
    "    tcr <- merge(tcr, clono[, c(\"clonotype_id\", \"frequency\", \"cdr3s_aa\")])\n",
    "    #Rename columns\n",
    "    names(tcr)[1] <- \"TCR_clonotype_id\"\n",
    "    names(tcr)[3] <- 'TCR_chain'\n",
    "    names(tcr)[4] <- 'TCR_v_gene'\n",
    "    names(tcr)[5] <- 'TCR_frequency'\n",
    "    names(tcr)[6] <- 'TCR_cdr3'\n",
    "    #reorder Columns\n",
    "    tcr <- tcr[, c(2, 1, 3, 4, 5, 6)]\n",
    "    #correct rownames\n",
    "    rownames(tcr) <- tcr[,1]\n",
    "    tcr[,1] <- NULL\n",
    "    #Split cdr3 column:\n",
    "    tcr <- separate(data = tcr, col = TCR_cdr3, into = c(\"TCR1\", \"TCR2\", \"TCR3\", \"TCR4\"), sep = \"\\\\;\")\n",
    "    tcr[is.na(tcr)] <- \"FALSE\"\n",
    "    tcr.combined <- rbind(tcr.combined, tcr)\n",
    "}"
   ]
  },
  {
   "cell_type": "code",
   "execution_count": null,
   "metadata": {
    "tags": []
   },
   "outputs": [],
   "source": [
    "#divide in TRA and TRB subset:\n",
    "for (k in 1:nrow(tcr.combined)){\n",
    "  if(startsWith(tcr.combined$TCR1[k], 'TRB:')){\n",
    "    tcr.combined$TCR1B[k] <- sub(pattern = '.*:', x = tcr.combined$TCR1[k], '')\n",
    "  } else {tcr.combined$TCR1B[k] <- 'FALSE'}\n",
    "    if(startsWith(tcr.combined$TCR1[k], 'TRA:')){\n",
    "    tcr.combined$TCR1A[k] <- sub(pattern = '.*:', x = tcr.combined$TCR1[k], '')\n",
    "  } else {tcr.combined$TCR1A[k] <- 'FALSE'}\n",
    "  \n",
    "  if(startsWith(tcr.combined$TCR2[k], 'TRB:')){\n",
    "    tcr.combined$TCR2B[k] <- sub(pattern = '.*:', x = tcr.combined$TCR2[k], '')\n",
    "  } else {tcr.combined$TCR2B[k] <- 'FALSE'}\n",
    "        if(startsWith(tcr.combined$TCR2[k], 'TRA:')){\n",
    "    tcr.combined$TCR2A[k] <- sub(pattern = '.*:', x = tcr.combined$TCR2[k], '')\n",
    "  } else {tcr.combined$TCR2A[k] <- 'FALSE'}\n",
    "  \n",
    "  if(startsWith(tcr.combined$TCR3[k], 'TRB:')){\n",
    "    tcr.combined$TCR3B[k] <- sub(pattern = '.*:', x = tcr.combined$TCR3[k], '')\n",
    "  } else {tcr.combined$TCR3B[k] <- 'FALSE'}\n",
    "     if(startsWith(tcr.combined$TCR3[k], 'TRA:')){\n",
    "    tcr.combined$TCR3A[k] <- sub(pattern = '.*:', x = tcr.combined$TCR3[k], '')\n",
    "  } else {tcr.combined$TCR3A[k] <- 'FALSE'}\n",
    "  \n",
    "  if(startsWith(tcr.combined$TCR4[k], 'TRB:')){\n",
    "    tcr.combined$TCR4B[k] <- sub(pattern = '.*:', x = tcr.combined$TCR4[k], '')\n",
    "  } else {tcr.combined$TCR4B[k] <- 'FALSE'}\n",
    "    if(startsWith(tcr.combined$TCR4[k], 'TRA:')){\n",
    "    tcr.combined$TCR4A[k] <- sub(pattern = '.*:', x = tcr.combined$TCR4[k], '')\n",
    "  } else {tcr.combined$TCR4A[k] <- 'FALSE'}\n",
    "}"
   ]
  },
  {
   "cell_type": "code",
   "execution_count": null,
   "metadata": {},
   "outputs": [],
   "source": [
    "tcr.combined$TCR1 <- NULL\n",
    "tcr.combined$TCR2 <- NULL\n",
    "tcr.combined$TCR3 <- NULL\n",
    "tcr.combined$TCR4 <- NULL\n",
    "head(tcr.combined)\n",
    "tail(tcr.combined)"
   ]
  },
  {
   "cell_type": "code",
   "execution_count": null,
   "metadata": {},
   "outputs": [],
   "source": [
    "write.csv(tcr.combined, file = './tcr_pbmc_all.csv')"
   ]
  },
  {
   "cell_type": "code",
   "execution_count": null,
   "metadata": {},
   "outputs": [],
   "source": [
    "pbmc <- AddMetaData(object = pbmc, metadata = tcr.combined)"
   ]
  },
  {
   "cell_type": "code",
   "execution_count": null,
   "metadata": {},
   "outputs": [],
   "source": [
    "md = pbmc@meta.data # First, let's get the meta data\n",
    "i <- sapply(md, is.factor) # Identify all factor variables in your data\n",
    "md[i] <- lapply(md[i], as.character) # Convert factors to character variables\n",
    "md[is.na(md)] <- \"FALSE\" # Replace NA with \"FALSE\"\n",
    "md[i] <- lapply(md[i], as.factor) # Convert character columns back to factors\n",
    "pbmc@meta.data = md #Insert it back"
   ]
  },
  {
   "cell_type": "code",
   "execution_count": null,
   "metadata": {},
   "outputs": [],
   "source": [
    "DimPlot(pbmc, reduction = 'umap', label = TRUE)\n",
    "DimPlot(pbmc, reduction = 'umap', group.by = 'TCR_frequency', label = TRUE) + NoLegend()\n",
    "DimPlot(pbmc, reduction = 'umap', group.by = 'TCR_chain', label = TRUE)"
   ]
  },
  {
   "cell_type": "markdown",
   "metadata": {},
   "source": [
    "## TCR available column"
   ]
  },
  {
   "cell_type": "code",
   "execution_count": null,
   "metadata": {},
   "outputs": [],
   "source": [
    "for (i in 1:nrow(pbmc@meta.data)){\n",
    "    if(pbmc@meta.data$TCR_frequency[i] == 'FALSE'){\n",
    "        pbmc@meta.data$V6[i] <- 'FALSE'\n",
    "    } else {pbmc@meta.data$V6[i] <- 'CD8'}\n",
    "}"
   ]
  },
  {
   "cell_type": "markdown",
   "metadata": {},
   "source": [
    "## Correct frequency column after pre-processing"
   ]
  },
  {
   "cell_type": "code",
   "execution_count": null,
   "metadata": {},
   "outputs": [],
   "source": [
    "#subset only T cells\n",
    "Idents(pbmc) <- 'V6'\n",
    "tcells <- subset(pbmc, idents = 'CD8')\n",
    "tcells"
   ]
  },
  {
   "cell_type": "code",
   "execution_count": null,
   "metadata": {},
   "outputs": [],
   "source": [
    "# create a column containing sample effect and clonotype:\n",
    "for (i in 1:dim(tcells@meta.data)[1]){\n",
    "        tcells@meta.data$Sample_Clono[i] <- paste(tcells$sample.effect[i], tcells$TCR_clonotype_id[i], sep = '_')\n",
    "}\n",
    "for (i in 1:nrow(tcells@meta.data)){\n",
    "    tcells@meta.data$TCR_frequency_corrected[i] <- sum(tcells@meta.data$Sample_Clono == tcells@meta.data$Sample_Clono[i])\n",
    "}\n",
    "tcells@meta.data$TCR_frequency_corrected <- as.numeric(tcells@meta.data$TCR_frequency_corrected)\n",
    "class(tcells@meta.data$TCR_frequency_corrected)\n",
    "\n",
    "\n",
    "for (i in 1:dim(tcells@meta.data)[1]){\n",
    "    if (tcells@meta.data$TCR_frequency_corrected[i] > 2){\n",
    "        tcells@meta.data$TCR_Clono[i] <- paste(tcells$sample.effect[i], tcells$TCR_clonotype_id[i], tcells$TCR_frequency_corrected[i], sep = '_')\n",
    "    } else {tcells@meta.data$TCR_Clono[i] <- tcells@meta.data$TCR_frequency_corrected[i]}\n",
    "}"
   ]
  },
  {
   "cell_type": "markdown",
   "metadata": {},
   "source": [
    "## Adding expanded column"
   ]
  },
  {
   "cell_type": "code",
   "execution_count": null,
   "metadata": {},
   "outputs": [],
   "source": [
    "#add expand column\n",
    "for (i in 1:nrow(tcells@meta.data)){\n",
    "    if(tcells@meta.data$TCR_frequency_corrected[i] > 2){\n",
    "        tcells@meta.data$expand[i] <- 'exp'\n",
    "    } else {tcells@meta.data$expand[i] <- 'nonexp'}\n",
    "}"
   ]
  },
  {
   "cell_type": "code",
   "execution_count": null,
   "metadata": {
    "tags": []
   },
   "outputs": [],
   "source": [
    "DimPlot(tcells, reduction = 'umap', group.by = 'TCR_frequency_corrected', label = TRUE) + NoLegend()\n",
    "DimPlot(tcells, reduction = 'umap', group.by = 'expand', label = TRUE)"
   ]
  },
  {
   "cell_type": "code",
   "execution_count": null,
   "metadata": {},
   "outputs": [],
   "source": [
    "saveRDS(pbmc, file = './pbmc_with_tcr_20210708.rds')"
   ]
  },
  {
   "cell_type": "code",
   "execution_count": null,
   "metadata": {},
   "outputs": [],
   "source": [
    "saveRDS(tcells, file = './tcells_20210708.rds')"
   ]
  },
  {
   "cell_type": "code",
   "execution_count": null,
   "metadata": {},
   "outputs": [],
   "source": [
    "write.csv(tcells@meta.data, file = './tcells_metadata_08082021.csv')\n",
    "write.csv(pbmc@meta.data, file = './pbmc_metadata_08082021.csv')"
   ]
  },
  {
   "cell_type": "markdown",
   "metadata": {},
   "source": [
    "# Remove doublets T cells and T cells without beta chain"
   ]
  },
  {
   "cell_type": "code",
   "execution_count": null,
   "metadata": {},
   "outputs": [],
   "source": [
    "pbmc <- tcells"
   ]
  },
  {
   "cell_type": "code",
   "execution_count": null,
   "metadata": {
    "tags": []
   },
   "outputs": [],
   "source": [
    "#let's find t cell doublets:\n",
    "for(i in 1:nrow(pbmc@meta.data)){\n",
    "         pbmc@meta.data$tcr_b_sum[i] <- sum(pbmc@meta.data[i, c('TCR1B', 'TCR2B', 'TCR3B', 'TCR4B')] != 'FALSE')\n",
    "    }"
   ]
  },
  {
   "cell_type": "code",
   "execution_count": null,
   "metadata": {},
   "outputs": [],
   "source": [
    "table(pbmc@meta.data$tcr_b_sum)"
   ]
  },
  {
   "cell_type": "code",
   "execution_count": null,
   "metadata": {},
   "outputs": [],
   "source": [
    "#save the t doublets: \n",
    "write.csv(filter(pbmc@meta.data, tcr_b_sum > 1), file = './cd8_tcelldoublets.csv')\n",
    "#save cells where only alfa chain was found:\n",
    "write.csv(filter(pbmc@meta.data, tcr_b_sum == 0), file = './cd8_tcell_no_betachain.csv')\n",
    "tcellstoremove <- c(rownames(filter(pbmc@meta.data, tcr_b_sum > 1)), rownames(filter(pbmc@meta.data, tcr_b_sum == 0)))"
   ]
  },
  {
   "cell_type": "code",
   "execution_count": null,
   "metadata": {},
   "outputs": [],
   "source": [
    "length(tcellstoremove)"
   ]
  },
  {
   "cell_type": "code",
   "execution_count": null,
   "metadata": {},
   "outputs": [],
   "source": [
    "#subset everything without doublets or cells without beta chain:\n",
    "pbmc\n",
    "pbmc <- subset(pbmc, cells = tcellstoremove, invert = TRUE)\n",
    "pbmc"
   ]
  },
  {
   "cell_type": "markdown",
   "metadata": {},
   "source": [
    "# First reclustering"
   ]
  },
  {
   "cell_type": "code",
   "execution_count": null,
   "metadata": {},
   "outputs": [],
   "source": [
    "DefaultAssay(pbmc) <- 'integrated'\n",
    "pbmc"
   ]
  },
  {
   "cell_type": "code",
   "execution_count": null,
   "metadata": {},
   "outputs": [],
   "source": [
    "pbmc <- FindVariableFeatures(pbmc, selection.method = \"vst\", nfeatures = 2000)\n",
    "length(x = VariableFeatures(object = pbmc))\n",
    "markers.remove <- grep(pattern = \"^TRAV|^TRBV|^TRGV|^TRDV\",  x = rownames(x = pbmc), value = TRUE)\n",
    "VariableFeatures(object = pbmc) <- VariableFeatures(object = pbmc)[!(VariableFeatures(object = pbmc)%in%markers.remove)]\n",
    "length(VariableFeatures(object = pbmc))"
   ]
  },
  {
   "cell_type": "code",
   "execution_count": null,
   "metadata": {},
   "outputs": [],
   "source": [
    "top10 <- head(VariableFeatures(pbmc), 20)\n",
    "plot1 <- VariableFeaturePlot(pbmc)\n",
    "plot2 <- LabelPoints(plot = plot1, points = top10, repel = TRUE)\n",
    "plot2"
   ]
  },
  {
   "cell_type": "code",
   "execution_count": null,
   "metadata": {},
   "outputs": [],
   "source": [
    "pbmc <- ScaleData(pbmc, features = VariableFeatures(object = pbmc), vars.to.regress = c(\"nCount_RNA\", \"percent.mito\"))\n",
    "pbmc <- RunPCA(pbmc, features = VariableFeatures(object = pbmc))"
   ]
  },
  {
   "cell_type": "code",
   "execution_count": null,
   "metadata": {},
   "outputs": [],
   "source": [
    "Idents(pbmc) <- 'sample.effect'\n",
    "DimPlot(pbmc, reduction = 'pca', label = TRUE)"
   ]
  },
  {
   "cell_type": "code",
   "execution_count": null,
   "metadata": {},
   "outputs": [],
   "source": [
    "ElbowPlot(object = pbmc, ndims = 50)"
   ]
  },
  {
   "cell_type": "code",
   "execution_count": null,
   "metadata": {
    "collapsed": true,
    "jupyter": {
     "outputs_hidden": true
    },
    "tags": []
   },
   "outputs": [],
   "source": [
    "for (i in 1:30){\n",
    "    print(DimHeatmap(object = pbmc, dims = i, cells = 500, balanced = TRUE))\n",
    "}"
   ]
  },
  {
   "cell_type": "markdown",
   "metadata": {},
   "source": [
    "## Cluster the cells"
   ]
  },
  {
   "cell_type": "code",
   "execution_count": null,
   "metadata": {},
   "outputs": [],
   "source": [
    "DefaultAssay(pbmc) <- 'integrated'"
   ]
  },
  {
   "cell_type": "code",
   "execution_count": null,
   "metadata": {},
   "outputs": [],
   "source": [
    "pbmc <- FindNeighbors(object = pbmc, dims = 1:25)"
   ]
  },
  {
   "cell_type": "code",
   "execution_count": null,
   "metadata": {},
   "outputs": [],
   "source": [
    "pbmc <- FindClusters(object = pbmc, resolution = 0.6)"
   ]
  },
  {
   "cell_type": "markdown",
   "metadata": {},
   "source": [
    "## Run UMAP"
   ]
  },
  {
   "cell_type": "code",
   "execution_count": null,
   "metadata": {
    "collapsed": true,
    "jupyter": {
     "outputs_hidden": true
    },
    "tags": []
   },
   "outputs": [],
   "source": [
    "pbmc <- RunUMAP(pbmc, dims = 1:25)"
   ]
  },
  {
   "cell_type": "code",
   "execution_count": null,
   "metadata": {
    "tags": []
   },
   "outputs": [],
   "source": [
    "#umap, dims 25, res. 0.8\n",
    "DimPlot(pbmc, reduction = 'umap', label = TRUE)\n",
    "DimPlot(pbmc, reduction = 'umap', label = TRUE, group.by = 'sample.effect')"
   ]
  },
  {
   "cell_type": "code",
   "execution_count": null,
   "metadata": {},
   "outputs": [],
   "source": [
    "VlnPlot(pbmc, features = 'nFeature_RNA', pt.size = 0.01)"
   ]
  },
  {
   "cell_type": "markdown",
   "metadata": {},
   "source": [
    "## Cluster markers"
   ]
  },
  {
   "cell_type": "code",
   "execution_count": null,
   "metadata": {},
   "outputs": [],
   "source": [
    "DefaultAssay(pbmc) <- 'RNA'"
   ]
  },
  {
   "cell_type": "code",
   "execution_count": null,
   "metadata": {},
   "outputs": [],
   "source": [
    "Idents(pbmc) <- 'seurat_clusters'\n",
    "featurespbmc <- rownames(pbmc)\n",
    "markers.remove <- grep(pattern = \"^TRAV|^TRBV|^TRGV|^TRDV|^RPL|^RPS\", x = rownames(pbmc), value = TRUE)\n",
    "featurespbmc <- featurespbmc[!(featurespbmc%in%markers.remove)]\n",
    "pbmc.markers1 <- FindAllMarkers(object = pbmc, only.pos = TRUE, min.pct = 0.25, logfc.threshold = 0.25, features = featurespbmc)\n",
    "\n",
    "#sort markers (top 30)\n",
    "pbmc.markers_sorted <- c()\n",
    "for (i in 1:length(levels(pbmc.markers1$cluster))){\n",
    "    pbmc.markers_level <- filter(pbmc.markers1, cluster == levels(pbmc.markers1$cluster)[i])\n",
    "    pbmc.markers_level <- pbmc.markers_level[order(-pbmc.markers_level$avg_log2FC), ]\n",
    "    pbmc.markers_level <- pbmc.markers_level[1:30, ]\n",
    "    pbmc.markers_level <- pbmc.markers_level[!is.na(pbmc.markers_level$avg_log2FC), ]\n",
    "    pbmc.markers_sorted <- rbind(pbmc.markers_sorted, pbmc.markers_level)\n",
    "    }\n",
    "pbmc.markers_sorted_top30 <- pbmc.markers_sorted\n",
    "pbmc.markers_sorted_top30\n",
    "write.csv(pbmc.markers_sorted_top30, file = './cd8_firstmarkers.csv')"
   ]
  },
  {
   "cell_type": "code",
   "execution_count": null,
   "metadata": {},
   "outputs": [],
   "source": [
    "#sort markers (top 5) and plot the heatmap\n",
    "cluster.averages_pbmc <- AverageExpression(pbmc, assay = \"RNA\", return.seurat = TRUE) # , verbose = FALSE)\n",
    "\n",
    "pbmc.markers_sorted <- c()\n",
    "for (i in 1:length(levels(pbmc.markers1$cluster))){\n",
    "    pbmc.markers_level <- filter(pbmc.markers1, cluster == levels(pbmc.markers1$cluster)[i])\n",
    "    pbmc.markers_level <- pbmc.markers_level[order(-pbmc.markers_level$avg_log2FC), ]\n",
    "    pbmc.markers_level <- pbmc.markers_level[1:5, ]\n",
    "    pbmc.markers_level <- pbmc.markers_level[!is.na(pbmc.markers_level$avg_log2FC), ]\n",
    "    pbmc.markers_sorted <- rbind(pbmc.markers_sorted, pbmc.markers_level)\n",
    "    }\n",
    "pbmc.markers_sorted_top5 <- pbmc.markers_sorted\n",
    "pbmc.markers_sorted_top5\n",
    "\n",
    "DoHeatmap(cluster.averages_pbmc, features = pbmc.markers_sorted_top5$gene)"
   ]
  },
  {
   "cell_type": "code",
   "execution_count": null,
   "metadata": {
    "collapsed": true,
    "jupyter": {
     "outputs_hidden": true
    },
    "tags": []
   },
   "outputs": [],
   "source": [
    "VlnPlot(pbmc, features = 'nFeature_RNA', pt.size = 0.01)"
   ]
  },
  {
   "cell_type": "code",
   "execution_count": null,
   "metadata": {},
   "outputs": [],
   "source": [
    "# cluster 18 - myeloid cells, cluster 8 and 10 - low quality cell, 16, 17 - mixed\n",
    "cellstoremove <- WhichCells(pbmc, idents = c(8, 10, 16, 17, 18))\n",
    "length(cellstoremove)"
   ]
  },
  {
   "cell_type": "code",
   "execution_count": null,
   "metadata": {},
   "outputs": [],
   "source": [
    "write.csv(pbmc@meta.data[cellstoremove, ], file = './removed_clusters.csv')"
   ]
  },
  {
   "cell_type": "code",
   "execution_count": null,
   "metadata": {},
   "outputs": [],
   "source": [
    "pbmc <- subset(pbmc, cells = cellstoremove, invert = TRUE)\n",
    "pbmc"
   ]
  },
  {
   "cell_type": "markdown",
   "metadata": {},
   "source": [
    "# Second reclustering"
   ]
  },
  {
   "cell_type": "code",
   "execution_count": null,
   "metadata": {},
   "outputs": [],
   "source": [
    "DefaultAssay(pbmc) <- 'integrated'\n",
    "pbmc"
   ]
  },
  {
   "cell_type": "code",
   "execution_count": null,
   "metadata": {},
   "outputs": [],
   "source": [
    "pbmc <- FindVariableFeatures(pbmc, selection.method = \"vst\", nfeatures = 2000)\n",
    "length(x = VariableFeatures(object = pbmc))\n",
    "markers.remove <- grep(pattern = \"^TRAV|^TRBV|^TRGV|^TRDV|^RPL|^RPS\",  x = rownames(x = pbmc), value = TRUE)\n",
    "VariableFeatures(object = pbmc) <- VariableFeatures(object = pbmc)[!(VariableFeatures(object = pbmc)%in%markers.remove)]\n",
    "length(VariableFeatures(object = pbmc))"
   ]
  },
  {
   "cell_type": "code",
   "execution_count": null,
   "metadata": {
    "tags": []
   },
   "outputs": [],
   "source": [
    "top10 <- head(VariableFeatures(pbmc), 20)\n",
    "plot1 <- VariableFeaturePlot(pbmc)\n",
    "plot2 <- LabelPoints(plot = plot1, points = top10, repel = TRUE)\n",
    "plot2"
   ]
  },
  {
   "cell_type": "code",
   "execution_count": null,
   "metadata": {},
   "outputs": [],
   "source": [
    "pbmc <- ScaleData(pbmc, features = VariableFeatures(object = pbmc), vars.to.regress = c(\"nCount_RNA\", \"percent.mito\"))\n",
    "pbmc <- RunPCA(pbmc, features = VariableFeatures(object = pbmc))"
   ]
  },
  {
   "cell_type": "code",
   "execution_count": null,
   "metadata": {},
   "outputs": [],
   "source": [
    "Idents(pbmc) <- 'sample.effect'\n",
    "DimPlot(pbmc, reduction = 'pca', label = TRUE)"
   ]
  },
  {
   "cell_type": "code",
   "execution_count": null,
   "metadata": {},
   "outputs": [],
   "source": [
    "# ProjectDim scores each feature in the dataset (including features not included in the PCA) based on their correlation \n",
    "# with the calculated components. Though we don't use this further here, it can be used to identify markers that \n",
    "# are strongly correlated with cellular heterogeneity, but may not have passed through variable feature selection. \n",
    "# The results of the projected PCA can be explored by setting `projected = TRUE`in the functions above\n",
    "pbmc <- ProjectDim(object = pbmc)"
   ]
  },
  {
   "cell_type": "code",
   "execution_count": null,
   "metadata": {},
   "outputs": [],
   "source": [
    "ElbowPlot(object = pbmc, ndims = 50)"
   ]
  },
  {
   "cell_type": "code",
   "execution_count": null,
   "metadata": {
    "collapsed": true,
    "jupyter": {
     "outputs_hidden": true
    },
    "tags": []
   },
   "outputs": [],
   "source": [
    "for(i in 1:40){   \n",
    "    print(DimHeatmap(object = pbmc, dims = i, cells = 500, balanced = TRUE))\n",
    "}"
   ]
  },
  {
   "cell_type": "markdown",
   "metadata": {},
   "source": [
    "## Cluster the cells "
   ]
  },
  {
   "cell_type": "code",
   "execution_count": null,
   "metadata": {},
   "outputs": [],
   "source": [
    "DefaultAssay(pbmc) <- 'integrated'\n",
    "pbmc"
   ]
  },
  {
   "cell_type": "code",
   "execution_count": null,
   "metadata": {},
   "outputs": [],
   "source": [
    "pbmc <- FindNeighbors(object = pbmc, dims = 1:20)"
   ]
  },
  {
   "cell_type": "code",
   "execution_count": null,
   "metadata": {},
   "outputs": [],
   "source": [
    "pbmc <- FindClusters(object = pbmc, resolution = 0.8)"
   ]
  },
  {
   "cell_type": "markdown",
   "metadata": {},
   "source": [
    "## Run UMAP"
   ]
  },
  {
   "cell_type": "code",
   "execution_count": null,
   "metadata": {
    "collapsed": true,
    "jupyter": {
     "outputs_hidden": true
    },
    "tags": []
   },
   "outputs": [],
   "source": [
    "pbmc <- RunUMAP(pbmc, dims = 1:20)"
   ]
  },
  {
   "cell_type": "code",
   "execution_count": null,
   "metadata": {
    "collapsed": true,
    "jupyter": {
     "outputs_hidden": true
    },
    "tags": []
   },
   "outputs": [],
   "source": [
    "DimPlot(pbmc, reduction = 'umap', label = TRUE)\n",
    "DimPlot(pbmc, reduction = 'umap', label = TRUE, group.by = 'sample.effect')"
   ]
  },
  {
   "cell_type": "code",
   "execution_count": null,
   "metadata": {},
   "outputs": [],
   "source": [
    "saveRDS(pbmc, file = 'cd8_withumap_20210810.rds')"
   ]
  },
  {
   "cell_type": "markdown",
   "metadata": {},
   "source": [
    "## Cluster markers"
   ]
  },
  {
   "cell_type": "code",
   "execution_count": null,
   "metadata": {},
   "outputs": [],
   "source": [
    "DefaultAssay(pbmc) <- 'RNA'"
   ]
  },
  {
   "cell_type": "code",
   "execution_count": null,
   "metadata": {},
   "outputs": [],
   "source": [
    "featurespbmc <- rownames(pbmc)\n",
    "markers.remove <- grep(pattern = \"^TRAV|^TRBV|^TRGV|^TRDV\", x = rownames(pbmc), value = TRUE)\n",
    "featurespbmc <- featurespbmc[!(featurespbmc%in%markers.remove)]\n",
    "pbmc.markers1 <- FindAllMarkers(object = pbmc, only.pos = TRUE, min.pct = 0.25, logfc.threshold = 0.25, features = featurespbmc)\n",
    "\n",
    "#sort markers (top 30)\n",
    "pbmc.markers_sorted <- c()\n",
    "for (i in 1:length(levels(pbmc.markers1$cluster))){\n",
    "    pbmc.markers_level <- filter(pbmc.markers1, cluster == levels(pbmc.markers1$cluster)[i])\n",
    "    pbmc.markers_level <- pbmc.markers_level[order(-pbmc.markers_level$avg_log2FC), ]\n",
    "    pbmc.markers_level <- pbmc.markers_level[1:30, ]\n",
    "    pbmc.markers_level <- pbmc.markers_level[!is.na(pbmc.markers_level$avg_log2FC), ]\n",
    "    pbmc.markers_sorted <- rbind(pbmc.markers_sorted, pbmc.markers_level)\n",
    "    }\n",
    "pbmc.markers_sorted_top30 <- pbmc.markers_sorted\n",
    "pbmc.markers_sorted_top30\n",
    "write.csv(pbmc.markers_sorted_top30, file = './cd8_secondmarkers.csv')"
   ]
  },
  {
   "cell_type": "code",
   "execution_count": null,
   "metadata": {},
   "outputs": [],
   "source": [
    "cluster.averages_pbmc <- AverageExpression(pbmc, assay = \"RNA\", return.seurat = TRUE) # , verbose = FALSE)\n",
    "#sort markers (top 5)\n",
    "pbmc.markers_sorted <- c()\n",
    "for (i in 1:length(levels(pbmc.markers1$cluster))){\n",
    "    pbmc.markers_level <- filter(pbmc.markers1, cluster == levels(pbmc.markers1$cluster)[i])\n",
    "    pbmc.markers_level <- pbmc.markers_level[order(-pbmc.markers_level$avg_log2FC), ]\n",
    "    pbmc.markers_level <- pbmc.markers_level[1:5, ]\n",
    "    pbmc.markers_level <- pbmc.markers_level[!is.na(pbmc.markers_level$avg_log2FC), ]\n",
    "    pbmc.markers_sorted <- rbind(pbmc.markers_sorted, pbmc.markers_level)\n",
    "    }\n",
    "pbmc.markers_sorted_top5 <- pbmc.markers_sorted\n",
    "pbmc.markers_sorted_top5\n",
    "\n",
    "DoHeatmap(cluster.averages_pbmc, features = pbmc.markers_sorted_top5$gene)"
   ]
  },
  {
   "cell_type": "code",
   "execution_count": null,
   "metadata": {},
   "outputs": [],
   "source": [
    "VlnPlot(pbmc, features = 'nFeature_RNA', pt.size = 0.01)"
   ]
  },
  {
   "cell_type": "code",
   "execution_count": null,
   "metadata": {},
   "outputs": [],
   "source": [
    "#remove cluster 12 as lowQC and mostly ribosomal genes\n",
    "\n",
    "cluster12 <- filter(pbmc@meta.data, seurat_clusters == 12)\n",
    "write.csv(cluster12, file = './ribosomalcluster.csv')\n",
    "pbmc_old <- pbmc\n",
    "\n",
    "Idents(pbmc) <- 'seurat_clusters'\n",
    "pbmc\n",
    "pbmc <- subset(pbmc, idents = 12, invert = TRUE)\n",
    "pbmc"
   ]
  },
  {
   "cell_type": "markdown",
   "metadata": {},
   "source": [
    "## Rename clusters"
   ]
  },
  {
   "cell_type": "code",
   "execution_count": null,
   "metadata": {
    "collapsed": true,
    "jupyter": {
     "outputs_hidden": true
    },
    "tags": []
   },
   "outputs": [],
   "source": [
    "# 11  - most_naiive\n",
    "# 6 - im_naiive\n",
    "# 7 - CCR4_naiive\n",
    "# 8 - NT5E_naiive\n",
    "# 10 - CD82_pos\n",
    "# 9 - NK-like\n",
    "# 0 - MAIT\n",
    "# 1 - im_infl_1\n",
    "# 4 - im_infl_2\n",
    "# 13 - IFN_sign\n",
    "# combine 14, 2, 5 because of the overall similarity of the dge, expansion and almost no unique patterns - eff_1\n",
    "# 3 - eff_2\n",
    "for(i in 1:nrow(pbmc@meta.data)){\n",
    "    if(pbmc@meta.data$seurat_clusters[i] == 11){pbmc@meta.data$cd8names[i] <- 'most_naiive'}\n",
    "    if(pbmc@meta.data$seurat_clusters[i] == 6){pbmc@meta.data$cd8names[i] <- 'im_naiive'}\n",
    "    if(pbmc@meta.data$seurat_clusters[i] == 8){pbmc@meta.data$cd8names[i] <- 'NT5E_naiive'}\n",
    "    if(pbmc@meta.data$seurat_clusters[i] == 7){pbmc@meta.data$cd8names[i] <- 'CCR4_naiive'}\n",
    "    if(pbmc@meta.data$seurat_clusters[i] == 10){pbmc@meta.data$cd8names[i] <- 'CD82_pos'}\n",
    "    if(pbmc@meta.data$seurat_clusters[i] == 1){pbmc@meta.data$cd8names[i] <- 'im_infl_1'}\n",
    "    if(pbmc@meta.data$seurat_clusters[i] == 4){pbmc@meta.data$cd8names[i] <- 'im_infl_2'}\n",
    "    if(pbmc@meta.data$seurat_clusters[i] == 13){pbmc@meta.data$cd8names[i] <- 'IFN_sign'}\n",
    "    if(pbmc@meta.data$seurat_clusters[i] == 14 | pbmc@meta.data$seurat_clusters[i] == 2 | pbmc@meta.data$seurat_clusters[i] == 5){pbmc@meta.data$cd8names[i] <- 'eff_1'}\n",
    "    if(pbmc@meta.data$seurat_clusters[i] == 3){pbmc@meta.data$cd8names[i] <- 'eff_2'}\n",
    "    if(pbmc@meta.data$seurat_clusters[i] == 0){pbmc@meta.data$cd8names[i] <- 'MAIT'}\n",
    "    if(pbmc@meta.data$seurat_clusters[i] == 9){pbmc@meta.data$cd8names[i] <- 'NK-like'}\n",
    "}\n",
    "\n",
    "unique(pbmc@meta.data$cd8names)"
   ]
  },
  {
   "cell_type": "code",
   "execution_count": null,
   "metadata": {},
   "outputs": [],
   "source": [
    "pbmc@meta.data$cd8_coded <- pbmc@meta.data$cd8names\n",
    "#rename the clusters \n",
    "for (i in 1:nrow(pbmc@meta.data)){\n",
    "    if(pbmc@meta.data$cd8names[i] == 'most_naiive'){\n",
    "        pbmc@meta.data$cd8_coded[i] <- '1_CCR7'\n",
    "    }\n",
    "    if(pbmc@meta.data$cd8names[i] == 'im_naiive'){\n",
    "        pbmc@meta.data$cd8_coded[i] <- '2_NELL2'\n",
    "    }\n",
    "    if(pbmc@meta.data$cd8names[i] == 'NT5E_naiive'){\n",
    "        pbmc@meta.data$cd8_coded[i] <- '3_NT5E'\n",
    "    }\n",
    "    if(pbmc@meta.data$cd8names[i] == 'CD82_pos'){\n",
    "        pbmc@meta.data$cd8_coded[i] <- '4_CD82'\n",
    "    }\n",
    "    if(pbmc@meta.data$cd8names[i] == 'CCR4_naiive'){\n",
    "        pbmc@meta.data$cd8_coded[i] <- '5_MAL'\n",
    "    }\n",
    "    if(pbmc@meta.data$cd8names[i] == 'im_infl_1'){\n",
    "        pbmc@meta.data$cd8_coded[i] <- '6_GZMK'\n",
    "    }\n",
    "    if(pbmc@meta.data$cd8names[i] == 'IFN_sign'){\n",
    "        pbmc@meta.data$cd8_coded[i] <- '7_MX1'\n",
    "    }\n",
    "    if(pbmc@meta.data$cd8names[i] == 'im_infl_2'){\n",
    "        pbmc@meta.data$cd8_coded[i] <- '8_CD74'\n",
    "    }\n",
    "    if(pbmc@meta.data$cd8names[i] == 'eff_2'){\n",
    "        pbmc@meta.data$cd8_coded[i] <- '9_IKZF2'\n",
    "    }\n",
    "    if(pbmc@meta.data$cd8names[i] == 'eff_1'){\n",
    "        pbmc@meta.data$cd8_coded[i] <- '10_FGFBP2'\n",
    "    }\n",
    "}"
   ]
  },
  {
   "cell_type": "code",
   "execution_count": null,
   "metadata": {},
   "outputs": [],
   "source": [
    "Idents(pbmc) <- 'cd8_coded'\n",
    "levels(pbmc) <- c('NK-like', 'MAIT', '1_CCR7', '2_NELL2', '3_NT5E', '4_CD82', '5_MAL', '6_GZMK', '7_MX1', '8_CD74', '9_IKZF2', '10_FGFBP2')"
   ]
  },
  {
   "cell_type": "markdown",
   "metadata": {},
   "source": [
    "# Final markers, UMAPS, plotting of clusters and signatures"
   ]
  },
  {
   "cell_type": "code",
   "execution_count": null,
   "metadata": {},
   "outputs": [],
   "source": [
    "#create the output dir\n",
    "dir_plots <- paste0('./outs/')\n",
    "dir.create(dir_plots)"
   ]
  },
  {
   "cell_type": "code",
   "execution_count": null,
   "metadata": {
    "tags": []
   },
   "outputs": [],
   "source": [
    "width <- 15\n",
    "height <- 12\n",
    "name <- 'general_cd8_umap_raster'\n",
    "\n",
    "options(repr.plot.width = width, repr.plot.height = height)\n",
    "plot <- DimPlot(pbmc, reduction = \"umap\", label = TRUE, label.size = 9, repel = TRUE, raster = TRUE, pt.size = 0.01) + \n",
    "theme(text = element_text(size = 20),\n",
    "      axis.text = element_text(size = 20),\n",
    "      legend.text=element_text(size=18))\n",
    "plot\n",
    "ggsave(plot, file = paste0(dir_plots, name, '.pdf'), width = width, height = height)"
   ]
  },
  {
   "cell_type": "code",
   "execution_count": null,
   "metadata": {
    "collapsed": true,
    "jupyter": {
     "outputs_hidden": true
    },
    "tags": []
   },
   "outputs": [],
   "source": [
    "#Find markers\n",
    "featurespbmc <- rownames(pbmc)\n",
    "markers.remove <- grep(pattern = \"^TRAV|^TRBV|^TRGV|^TRDV|^RPL|^RPS\", x = rownames(pbmc), value = TRUE)\n",
    "featurespbmc <- featurespbmc[!(featurespbmc%in%markers.remove)]\n",
    "pbmc.markers1 <- FindAllMarkers(object = pbmc, only.pos = TRUE, min.pct = 0.25, logfc.threshold = 0.25, features = featurespbmc)\n",
    "\n",
    "#sort markers (top 30)\n",
    "pbmc.markers_sorted <- c()\n",
    "for (i in 1:length(levels(pbmc.markers1$cluster))){\n",
    "    pbmc.markers_level <- filter(pbmc.markers1, cluster == levels(pbmc.markers1$cluster)[i])\n",
    "    pbmc.markers_level <- pbmc.markers_level[order(-pbmc.markers_level$avg_log2FC), ]\n",
    "    pbmc.markers_level <- pbmc.markers_level[1:30, ]\n",
    "    pbmc.markers_level <- pbmc.markers_level[!is.na(pbmc.markers_level$avg_log2FC), ]\n",
    "    pbmc.markers_sorted <- rbind(pbmc.markers_sorted, pbmc.markers_level)\n",
    "    }\n",
    "pbmc.markers_sorted_top30 <- pbmc.markers_sorted\n",
    "write.csv(pbmc.markers_sorted_top30, file = './cd8_final_markers.csv')\n",
    "\n",
    "#sort markers (top 5)\n",
    "pbmc.markers_sorted <- c()\n",
    "for (i in 1:length(levels(pbmc.markers1$cluster))){\n",
    "    pbmc.markers_level <- filter(pbmc.markers1, cluster == levels(pbmc.markers1$cluster)[i])\n",
    "    pbmc.markers_level <- pbmc.markers_level[order(-pbmc.markers_level$avg_log2FC), ]\n",
    "    pbmc.markers_level <- pbmc.markers_level[1:5, ]\n",
    "    pbmc.markers_level <- pbmc.markers_level[!is.na(pbmc.markers_level$avg_log2FC), ]\n",
    "    pbmc.markers_sorted <- rbind(pbmc.markers_sorted, pbmc.markers_level)\n",
    "    }\n",
    "pbmc.markers_sorted_top5 <- pbmc.markers_sorted\n",
    "pbmc.markers_sorted_top5"
   ]
  },
  {
   "cell_type": "code",
   "execution_count": null,
   "metadata": {},
   "outputs": [],
   "source": [
    "#Generate a dotplot with top5 markers per cluster\n",
    "width <- 20\n",
    "height <- 8\n",
    "options(repr.plot.width = width, repr.plot.height = height)\n",
    "object <- pbmc\n",
    "\n",
    "levels(object) <- rev(levels(object))\n",
    "plot <- DotPlot(object, features = unique(pbmc.markers_sorted_top5$gene), dot.scale = 10, cols = c('white', '#D3556E')) + RotatedAxis() +\n",
    "        theme(\n",
    "        text = element_text(size = 17),\n",
    "        axis.text = element_text(size = 17),\n",
    "        legend.text=element_text(size=17))\n",
    "plot\n",
    "ggsave(plot, file = './outs/dotplot_cd8.pdf', width = width, height = height)"
   ]
  },
  {
   "cell_type": "code",
   "execution_count": null,
   "metadata": {
    "tags": []
   },
   "outputs": [],
   "source": [
    "#naiive signatures enrichment UMAP\n",
    "naiive_markers <- c('CCR7', 'LEF1', 'MAL', 'MYC', 'SELL', 'LDLRAP1', 'LDHB', 'NOSIP', 'TCF7', 'PIK3IP1', 'NELL2')\n",
    "\n",
    "width <- 11\n",
    "height <- 11\n",
    "name <- 'naiive_markers_umap'\n",
    "options(repr.plot.width = width, repr.plot.height = height)\n",
    "naiive_markers <- list(naiive_markers)\n",
    "pbmc <- AddModuleScore(pbmc, features = naiive_markers, name = 'naiive_signature')\n",
    "\n",
    "plot <- FeaturePlot(pbmc, features = 'naiive_signature1', label.size = 6, label = TRUE, pt.size = 5, raster = T, raster.dpi = c(2048, 2048), repel = TRUE, cols = c('lightgrey', '#D3556E'), min.cutoff = 'q75', order = T) + \n",
    "                theme(\n",
    "                      text = element_text(size = 20),\n",
    "                      axis.text = element_text(size = 20),\n",
    "                      legend.text=element_text(size=18), \n",
    "                      plot.title = element_text(size = 15, face = 'plain'))+\n",
    "        ggtitle(paste(naiive_markers[[1]], collapse = ', '))\n",
    "plot\n",
    "ggsave(plot, file = paste0(dir_plots, name, '.pdf'), width = width, height = height)"
   ]
  },
  {
   "cell_type": "code",
   "execution_count": null,
   "metadata": {
    "tags": []
   },
   "outputs": [],
   "source": [
    "#effector signatures enrichment UMAP\n",
    "effectors_markers <- c('CX3CR1', 'GNLY', 'GZMH', 'FGFBP2', 'FCGR3A', 'PLEK', 'ADGRG1', 'PRF1')\n",
    "width <- 11\n",
    "height <- 11\n",
    "name <- 'effector_markers_umap'\n",
    "options(repr.plot.width = width, repr.plot.height = height)\n",
    "effectors_markers <- list(effectors_markers)\n",
    "pbmc <- AddModuleScore(pbmc, features = effectors_markers, name = 'effectors_signature')\n",
    "\n",
    "plot <- FeaturePlot(pbmc, features = 'effectors_signature1', label.size = 6, label = TRUE, pt.size = 5, raster = T, raster.dpi = c(2048, 2048), repel = TRUE, cols = c('lightgrey', '#D3556E'), min.cutoff = 'q75', order = T) + \n",
    "                theme(\n",
    "                      text = element_text(size = 20),\n",
    "                      axis.text = element_text(size = 20),\n",
    "                      legend.text=element_text(size=18),\n",
    "                    plot.title = element_text(size = 15, face = 'plain'))+\n",
    "        ggtitle(paste(effectors_markers[[1]], collapse = ', '))\n",
    "plot\n",
    "ggsave(plot, file = paste0(dir_plots, name, '.pdf'), width = width, height = height)"
   ]
  },
  {
   "cell_type": "code",
   "execution_count": null,
   "metadata": {
    "tags": []
   },
   "outputs": [],
   "source": [
    "#activation signatures enrichment UMAP\n",
    "\n",
    "width <- 11\n",
    "height <- 11\n",
    "name <- 'activation_umap'\n",
    "options(repr.plot.width = width, repr.plot.height = height)\n",
    "\n",
    "hla_effectors_markers <- c('CD74', 'CMC1', 'GZMK', 'HLA-DRA', 'HLA-DQA1', 'HLA-DQB1', 'HLA-DRB5')\n",
    "\n",
    "hla_effectors_markers <- list(hla_effectors_markers)\n",
    "pbmc <- AddModuleScore(pbmc, features = hla_effectors_markers, name = 'hla_effectors_signature')\n",
    "\n",
    "\n",
    "plot <- FeaturePlot(pbmc, features = 'hla_effectors_signature1', label.size = 6, label = TRUE, pt.size = 5, raster = T, raster.dpi = c(2048, 2048), repel = TRUE, cols = c('lightgrey', '#D3556E'), min.cutoff = 'q75', order = T) + \n",
    "                theme(\n",
    "                      text = element_text(size = 20),\n",
    "                      axis.text = element_text(size = 20),\n",
    "                      legend.text=element_text(size=18),\n",
    "                    plot.title = element_text(size = 15, face = 'plain'))+\n",
    "        ggtitle(paste(hla_effectors_markers[[1]], collapse = ', '))\n",
    "plot\n",
    "ggsave(plot, file = paste0(dir_plots, name, '.pdf'), width = width, height = height)"
   ]
  },
  {
   "cell_type": "code",
   "execution_count": null,
   "metadata": {
    "tags": []
   },
   "outputs": [],
   "source": [
    "object <- pbmc\n",
    "levels(object) <- rev(levels(object))\n",
    "object_av <- AverageExpression(object, assay = \"RNA\", return.seurat = TRUE) # , verbose = FALSE)"
   ]
  },
  {
   "cell_type": "code",
   "execution_count": null,
   "metadata": {
    "tags": []
   },
   "outputs": [],
   "source": [
    "#print signatures as the heatmap\n",
    "\n",
    "width <- 9\n",
    "height <- 22\n",
    "\n",
    "markers <- c('CCR7', 'LEF1', 'MAL', 'MYC', 'SELL', 'LDLRAP1', 'LDHB', 'NOSIP', 'TCF7', 'PIK3IP1', 'NELL2', 'CD74', 'CMC1', 'GZMK', 'HLA-DRA', 'HLA-DQA1', 'HLA-DQB1', 'HLA-DRB5',\n",
    "            'CX3CR1', 'GNLY', 'GZMH', 'FGFBP2', 'FCGR3A', 'PLEK', 'ADGRG1', 'PRF1')\n",
    "#create margins for heatmap color scale\n",
    "data_markers <- object_av@assays$RNA@scale.data\n",
    "data_markers <- data_markers[markers, ]\n",
    "max.value <- max(data_markers)\n",
    "min.value <- min(data_markers)\n",
    "\n",
    "options(repr.plot.width = width, repr.plot.height = height)\n",
    "hm <- DoHeatmap(cluster.averages_pbmc, features = markers, draw.lines = FALSE,size = 8, angle = 270, hjust = 1, raster = FALSE) +  \n",
    "theme(text = element_text(size = 20, face = \"plain\", colour = 'black'),\n",
    "             axis.text.y=element_text(colour=\"black\", size = 18, angle = 320, vjust = 1)) + coord_equal() +\n",
    "        scale_fill_gradientn(colours = c(\"#2881C1\", \"white\", \"#D3556E\", \"#671727\"), values = scales::rescale(c(min.value, 0, max.value/2, max.value)))\n",
    "ggsave(hm, file = './outs/heatmap_signatures.pdf', width = width, height = height)\n",
    "hm"
   ]
  },
  {
   "cell_type": "markdown",
   "metadata": {},
   "source": [
    "# Expansion overview"
   ]
  },
  {
   "cell_type": "code",
   "execution_count": null,
   "metadata": {},
   "outputs": [],
   "source": [
    "pbmc@meta.data$expand_new <- 'non-expanded'\n",
    "pbmc@meta.data$expand_new[pbmc@meta.data$TCR_frequency_corrected > 2] <- 'expanded'\n",
    "unique(pbmc@meta.data$expand_new)"
   ]
  },
  {
   "cell_type": "code",
   "execution_count": null,
   "metadata": {
    "collapsed": true,
    "jupyter": {
     "outputs_hidden": true
    },
    "tags": []
   },
   "outputs": [],
   "source": [
    "#print a UMAP with expanded cells in red\n",
    "width <- 12\n",
    "height <- 11\n",
    "options(repr.plot.width = width, repr.plot.height = height)\n",
    "expanded_cells <- DimPlot(pbmc, reduction = \"umap\", label = TRUE, label.size = 8, repel = TRUE, group.by = 'expand_new', cols = c('#D3556E', 'lightgrey'), pt.size = 0.6) + \n",
    "theme(text = element_text(size = 20),\n",
    "      axis.text = element_text(size = 20),\n",
    "      legend.text=element_text(size=20))\n",
    "expanded_cells\n",
    "ggsave(expanded_cells, file = paste0(dir_plots, 'expanded_cells_umap.pdf'), width = width, height = height)"
   ]
  },
  {
   "cell_type": "code",
   "execution_count": null,
   "metadata": {},
   "outputs": [],
   "source": [
    "#generate a bar plot with expansion fractions\n",
    "expansion <- c('non-expanded', 'expanded')\n",
    "object <- pbmc\n",
    "Idents(object) <- 'expand_new'\n",
    "levels(object) <- expansion\n",
    "levels_subgroups <- levels(pbmc)\n",
    "object@meta.data$cluster_name <- object@meta.data$cd8_coded\n",
    "object@meta.data$clusters <- object@meta.data$cluster_name\n",
    "width <- 14\n",
    "height <- 11\n",
    "#explore the diagnosis of the cells\n",
    "subgroups <- unique(object@meta.data$cluster_name)\n",
    "\n",
    "\n",
    "results <- c()\n",
    "for(i in 1:length(subgroups)){\n",
    "    freq_subgroups <- data.frame(matrix(NA, ncol = length(levels_subgroups), nrow = length(expansion)))\n",
    "    colnames(freq_subgroups) <- c('expand', 'absolute', 'relative', 'subgroups')\n",
    "    freq_subgroups$expand <- expansion\n",
    "    for(c in 1:nrow(freq_subgroups)){\n",
    "        freq_subgroups$absolute[c] <- nrow(filter(object@meta.data, cluster_name == subgroups[i] & expand_new == freq_subgroups$expand[c]))\n",
    "        freq_subgroups$relative[c] <- 100 * nrow(filter(object@meta.data, cluster_name == subgroups[i] & expand_new == freq_subgroups$expand[c])) /\n",
    "                                    nrow(filter(object@meta.data, cluster_name == subgroups[i]))\n",
    "    }\n",
    "    freq_subgroups$subgroups <- subgroups[i]\n",
    "    results <- rbind(results, freq_subgroups)\n",
    "}\n",
    " results$subgroups <- factor(results$subgroups, levels = levels_subgroups)\n",
    "results$clusters <- factor(results$expand, levels = expansion)\n",
    " write.csv(results, file = './outs/expanded_per_cluster_frequencies.csv')\n",
    "\n",
    "\n",
    "options(repr.plot.width=width, repr.plot.height=height)\n",
    "plot <- ggplot(results, aes(fill=clusters, y=relative, x=subgroups)) +\n",
    "        geom_bar(position=\"stack\", stat=\"identity\", ) + theme(\n",
    "        plot.title = element_text(hjust = 0.45),\n",
    "        text = element_text(size=30),\n",
    "        panel.grid.major = element_blank(), panel.grid.minor = element_blank(),\n",
    "        panel.background = element_blank(), axis.line = element_line(colour = \"black\"),\n",
    "        axis.text.x = element_text(angle = 55, vjust = 1, hjust=1, colour = 'black')) + ylab('Fraction of expanded cells within the cluster')+ xlab('Samples') +\n",
    "        scale_fill_manual('legend', values = c('lightgrey', '#D3556E'))\n",
    "        #scale_fill_viridis(discrete = TRUE)\n",
    "        #scale_fill_brewer(palette = \"Paired\")\n",
    "    print(plot)\n",
    "    ggsave(plot, file = paste0(dir_plots, 'expanded_bar_plot.pdf'), width = width, height = height)"
   ]
  },
  {
   "cell_type": "code",
   "execution_count": null,
   "metadata": {
    "tags": []
   },
   "outputs": [],
   "source": [
    "# Numbers of expanded and non-expanded cells (cd8_coded):\n",
    "expvsnonexp <- data.frame(matrix(NA, ncol = length(unique(pbmc@meta.data$cd8_coded)), nrow = 5))\n",
    "colnames(expvsnonexp) <- unique(pbmc@meta.data$cd8_coded)\n",
    "rownames(expvsnonexp) <- c('expanded abs', 'exp relative', 'non-expanded abs', 'non-exp relative', 'total')\n",
    "for (i in 1:length(unique(pbmc@meta.data$cd8_coded))){\n",
    "    exp <- nrow(filter(pbmc@meta.data, expand_new == 'expanded' & cd8_coded == unique(pbmc@meta.data$cd8_coded)[i]))\n",
    "    exprel <- 100*nrow(filter(pbmc@meta.data, expand_new == 'expanded' & cd8_coded == unique(pbmc@meta.data$cd8_coded)[i])) / nrow(filter(pbmc@meta.data, cd8_coded == unique(pbmc@meta.data$cd8_coded)[i]))\n",
    "    nonexp <- nrow(filter(pbmc@meta.data, expand_new == 'non-expanded' & cd8_coded == unique(pbmc@meta.data$cd8_coded)[i]))\n",
    "    nonexprel <- 100*nrow(filter(pbmc@meta.data, expand_new == 'non-expanded' & cd8_coded == unique(pbmc@meta.data$cd8_coded)[i])) / nrow(filter(pbmc@meta.data, cd8_coded == unique(pbmc@meta.data$cd8_coded)[i]))\n",
    "    total <- nrow(filter(pbmc@meta.data, cd8_coded == unique(pbmc@meta.data$cd8_coded)[i]))\n",
    "    expvsnonexp[1, i] <- exp\n",
    "    expvsnonexp[2, i] <- exprel\n",
    "    expvsnonexp[3, i] <- nonexp\n",
    "    expvsnonexp[4, i] <- nonexprel\n",
    "    expvsnonexp[5, i] <- total            \n",
    "}        \n",
    "#order in increasing order according to expansion\n",
    "expvsnonexp1 <- expvsnonexp[, order(expvsnonexp[2, ])]\n",
    "expvsnonexp1\n",
    "write.csv(expvsnonexp1, file = './expansion/cd8_expansion_coded.csv')"
   ]
  },
  {
   "cell_type": "markdown",
   "metadata": {},
   "source": [
    "# Cell cycle scoring"
   ]
  },
  {
   "cell_type": "code",
   "execution_count": null,
   "metadata": {},
   "outputs": [],
   "source": [
    "s.genes <- cc.genes$s.genes\n",
    "g2m.genes <- cc.genes$g2m.genes\n",
    "pbmc <- CellCycleScoring(pbmc, s.features = s.genes, g2m.features = g2m.genes, set.ident = TRUE)\n",
    "head(pbmc@meta.data)"
   ]
  },
  {
   "cell_type": "code",
   "execution_count": null,
   "metadata": {},
   "outputs": [],
   "source": [
    "DimPlot(pbmc, reduction = 'umap', group.by = 'Phase', label = TRUE, pt.size = 1.2)"
   ]
  },
  {
   "cell_type": "markdown",
   "metadata": {},
   "source": [
    "# Adding diagnosis, treatment, date and CSF sample status information into the objects:"
   ]
  },
  {
   "cell_type": "code",
   "execution_count": null,
   "metadata": {
    "tags": []
   },
   "outputs": [],
   "source": [
    "info <- read.csv(file = './Sample_info.csv', row.names = 1)"
   ]
  },
  {
   "cell_type": "code",
   "execution_count": null,
   "metadata": {},
   "outputs": [],
   "source": [
    "#for pbmc file:\n",
    "for (i in 1:nrow(pbmc@meta.data)){\n",
    "    pbmc@meta.data$diagnosis[i] <- filter(info, Sample == pbmc@meta.data$sample[i])$Diagnosis\n",
    "    pbmc@meta.data$date[i] <- filter(info, Sample == pbmc@meta.data$sample[i])$Date\n",
    "    pbmc@meta.data$treatment[i] <- filter(info, Sample == pbmc@meta.data$sample[i])$Treatment\n",
    "    pbmc@meta.data$csf_status[i] <- filter(info, Sample == pbmc@meta.data$sample[i])$CSF_st\n",
    "}"
   ]
  },
  {
   "cell_type": "code",
   "execution_count": null,
   "metadata": {},
   "outputs": [],
   "source": [
    "#create the diagnosis_simp column\n",
    "\n",
    "pbmc@meta.data$diagnosis_simp <- pbmc@meta.data$diagnosis\n",
    "for(i in 1:nrow(pbmc@meta.data)){\n",
    "    if(pbmc@meta.data$diagnosis[i] == 'RRMS'){\n",
    "        pbmc@meta.data$diagnosis_simp[i] <- 'MS'\n",
    "    }\n",
    "    if(pbmc@meta.data$diagnosis[i] == 'SPMS'){\n",
    "        pbmc@meta.data$diagnosis_simp[i] <- 'MS'\n",
    "    }\n",
    "}\n",
    "unique(pbmc@meta.data$diagnosis_simp)"
   ]
  },
  {
   "cell_type": "code",
   "execution_count": null,
   "metadata": {},
   "outputs": [],
   "source": [
    "saveRDS(pbmc, file = 'cd8_20210815.rds')\n",
    "write.csv(pbmc@meta.data, file = 'md_cd8_20210815.csv')"
   ]
  },
  {
   "cell_type": "markdown",
   "metadata": {},
   "source": [
    "# Searching for the matching clonotypes between PBMCs and CSF"
   ]
  },
  {
   "cell_type": "code",
   "execution_count": null,
   "metadata": {},
   "outputs": [],
   "source": [
    "#read in the table with the TCR and meta.data from the CSF of twins cohort\n",
    "\n",
    "md <- read.table('./CSF_information.tsv')\n",
    "i <- sapply(md, is.factor) # Identify all factor variables in your data\n",
    "md[i] <- lapply(md[i], as.character) # Convert factors to character variables"
   ]
  },
  {
   "cell_type": "code",
   "execution_count": null,
   "metadata": {},
   "outputs": [],
   "source": [
    "md <- filter(md, index.sort == 'CD8Tcell')"
   ]
  },
  {
   "cell_type": "code",
   "execution_count": null,
   "metadata": {},
   "outputs": [],
   "source": [
    "#prepare the meta.data of pbmc for overlap analysis:\n",
    "pbmc_md <- pbmc@meta.data\n",
    "pbmc_md$samplenumb <- pbmc_md$sample\n",
    "for(i in 1:nrow(pbmc_md)){\n",
    "    if(pbmc_md$sample[i] == 'AU-MS-2'){\n",
    "        pbmc_md$samplenumb[i] <- 'AU-MS'\n",
    "    }\n",
    "    if(pbmc_md$sample[i] == 'AU-H-2'){\n",
    "        pbmc_md$samplenumb[i] <- 'AU-H'\n",
    "    }\n",
    "}"
   ]
  },
  {
   "cell_type": "code",
   "execution_count": null,
   "metadata": {},
   "outputs": [],
   "source": [
    "#subset only the samples with corresponding csf\n",
    "subset_pbmc <- pbmc_md[pbmc_md$csf_status == 'yes', ]\n",
    "unique(subset_pbmc$samplenumb)\n",
    "unique(subset_pbmc$sample)"
   ]
  },
  {
   "cell_type": "code",
   "execution_count": null,
   "metadata": {},
   "outputs": [],
   "source": [
    "#get the mode function for determination of cluster within the CSF\n",
    "getmode <- function(v) {\n",
    "   uniqv <- unique(v)\n",
    "   uniqv[which.max(tabulate(match(v, uniqv)))]\n",
    "}\n",
    "#csf overlap meta.data = md, pbmc_overlap_meta.data = subset_pbmc. Search for overlaps:\n",
    "md$barcodes <- rownames(md)\n",
    "subset_pbmc$barcodes <- rownames(subset_pbmc)\n",
    "md$TCR_Clono <- as.character(md$TCR_Clono)\n",
    "overlaped_cells_pbmc <- c()\n",
    "overlaped_pbmc_cluster_corresponding <- c()\n",
    "overlaped_pbmc_TCR_clono_corresponding <- c() \n",
    "for(i in 1:length(unique(subset_pbmc$samplenumb))){\n",
    "    sample_csf <- filter(md, samplenumb == unique(subset_pbmc$samplenumb)[i]) #create subset of the csf meta.data with the selected sample in loop\n",
    "    sample_pbmc <- filter(subset_pbmc, samplenumb == unique(subset_pbmc$samplenumb)[i])  #create subset of the pbmc meta.data with the selected sample in loop    \n",
    "    for(r in 1:nrow(sample_pbmc)){\n",
    "        for(c in 1:4){\n",
    "            if((sample_pbmc[r, paste('TCR', c, 'B', sep = '')] != 'FALSE') & (sample_pbmc[r, paste('TCR', c, 'B', sep = '')] %in% sample_csf$CDR3b)){ #search in TCRB of the corresponding sample\n",
    "               barcodes <- sample_pbmc$barcodes[r]\n",
    "               overlaped_cells_pbmc <- c(overlaped_cells_pbmc, barcodes)\n",
    "               cluster <- getmode(filter(sample_csf, CDR3b == sample_pbmc[r, paste('TCR', c, 'B', sep = '')])$tSNE.sort)\n",
    "               overlaped_pbmc_cluster_corresponding <- c(overlaped_pbmc_cluster_corresponding, cluster)\n",
    "               tcr_clono <- getmode(filter(sample_csf, CDR3b == sample_pbmc[r, paste('TCR', c, 'B', sep = '')])$TCR_Clono)\n",
    "               overlaped_pbmc_TCR_clono_corresponding <- c(overlaped_pbmc_TCR_clono_corresponding, tcr_clono)\n",
    "            }\n",
    "        }\n",
    "    }\n",
    "}\n"
   ]
  },
  {
   "cell_type": "code",
   "execution_count": null,
   "metadata": {
    "collapsed": true,
    "jupyter": {
     "outputs_hidden": true
    },
    "tags": []
   },
   "outputs": [],
   "source": [
    "overlap_matrix_pbmc <- data.frame(matrix(NA, ncol = 3, nrow = length(overlaped_cells_pbmc)))\n",
    "colnames(overlap_matrix_pbmc) <- c('barcodes', 'csf_cluster', 'csf_tcr_clono')\n",
    "\n",
    "overlap_matrix_pbmc$barcodes <- overlaped_cells_pbmc\n",
    "overlap_matrix_pbmc$csf_cluster <- overlaped_pbmc_cluster_corresponding\n",
    "overlap_matrix_pbmc$csf_tcr_clono <- overlaped_pbmc_TCR_clono_corresponding\n",
    "\n",
    "overlap_matrix_pbmc <- overlap_matrix_pbmc[!duplicated(overlap_matrix_pbmc$barcodes), ]\n",
    "head(overlap_matrix_pbmc)\n",
    "nrow(overlap_matrix_pbmc)"
   ]
  },
  {
   "cell_type": "code",
   "execution_count": null,
   "metadata": {},
   "outputs": [],
   "source": [
    "#subset seurat object\n",
    "pbmc@meta.data$samplenumb <- pbmc_md$samplenumb\n",
    "Idents(pbmc) <- 'csf_status'\n",
    "subset_pbmc_object <- subset(pbmc, idents = 'yes')\n",
    "subset_pbmc_object\n",
    "unique(subset_pbmc_object@meta.data$samplenumb)"
   ]
  },
  {
   "cell_type": "code",
   "execution_count": null,
   "metadata": {},
   "outputs": [],
   "source": [
    "subset_pbmc_object@meta.data$overlap <- 'FALSE'\n",
    "subset_pbmc_object@meta.data$csf_cluster <- 'FALSE'\n",
    "subset_pbmc_object@meta.data$csf_tcr_clono <- 'FALSE'\n",
    "\n",
    "#add the overlap information into the subset of pbmc file:\n",
    "for(i in 1:nrow(subset_pbmc_object@meta.data)){\n",
    "    if(rownames(subset_pbmc_object@meta.data)[i] %in% overlap_matrix_pbmc$barcodes){\n",
    "        subset_pbmc_object@meta.data$overlap[i] <- 'overlap'\n",
    "        subset_pbmc_object@meta.data$csf_cluster[i] <- filter(overlap_matrix_pbmc, barcodes == rownames(subset_pbmc_object@meta.data)[i])$csf_cluster\n",
    "        subset_pbmc_object@meta.data$csf_tcr_clono[i] <- filter(overlap_matrix_pbmc, barcodes == rownames(subset_pbmc_object@meta.data)[i])$csf_tcr_clono\n",
    "    }\n",
    "}\n",
    "head(subset_pbmc_object@meta.data)"
   ]
  },
  {
   "cell_type": "code",
   "execution_count": null,
   "metadata": {},
   "outputs": [],
   "source": [
    "overlapedcells <- rownames(filter(subset_pbmc_object@meta.data, overlap == 'overlap'))"
   ]
  },
  {
   "cell_type": "code",
   "execution_count": null,
   "metadata": {},
   "outputs": [],
   "source": [
    "Idents(subset_pbmc_object) <- 'cd8_coded'\n",
    "levels(subset_pbmc_object) <- c('NK-like', 'MAIT', '1_CCR7', '2_NELL2', '3_NT5E', '4_CD82', '5_MAL', '6_GZMK', '7_MX1', '8_CD74', '9_IKZF2', '10_FGFBP2')"
   ]
  },
  {
   "cell_type": "code",
   "execution_count": null,
   "metadata": {
    "tags": []
   },
   "outputs": [],
   "source": [
    "options(repr.plot.width = 15, repr.plot.height = 12)\n",
    "DimPlot(subset_pbmc_object, reduction = \"umap\", label = TRUE, label.size = 9, repel = TRUE,  cells = overlapedcells, pt.size = 1.5) + \n",
    "theme(axis.line = element_line(size=1),\n",
    "      text = element_text(size = 20),\n",
    "      axis.text = element_text(size = 20),\n",
    "      axis.ticks = element_line(size=1),\n",
    "      legend.text=element_text(size=20))\n",
    "\n",
    "plot <- DimPlot(subset_pbmc_object, reduction = \"umap\", label = TRUE, label.size = 9, pt.size = 7, raster = T, raster.dpi = c(2500, 2500), repel = TRUE, cells.highlight = overlapedcells, sizes.highlight = 16, cols.highlight = '#D3556E') + \n",
    "theme(\n",
    "      text = element_text(size = 20),\n",
    "      axis.text = element_text(size = 20),\n",
    "      legend.text=element_text(size=20))\n",
    "plot\n",
    "ggsave(plot, file = paste0(dir_plots, 'overlap_cells_umap.pdf'), width = 15, height = 12)\n",
    "options(repr.plot.width = 11, repr.plot.height = 11)"
   ]
  },
  {
   "cell_type": "code",
   "execution_count": null,
   "metadata": {},
   "outputs": [],
   "source": [
    "object <- subset_pbmc_object\n",
    "object@meta.data$overlap[object@meta.data$overlap == 'FALSE'] <- 'non-overlapping'\n",
    "object@meta.data$overlap[object@meta.data$overlap == 'overlap'] <- 'overlapping'\n",
    "\n",
    "expansion <- c('non-overlapping', 'overlapping')\n",
    "Idents(object) <- 'overlap'\n",
    "levels(object) <- expansion\n",
    "levels_subgroups <- levels(subset_pbmc_object)\n",
    "object@meta.data$cluster_name <- object@meta.data$cd8_coded\n",
    "object@meta.data$clusters <- object@meta.data$cluster_name\n",
    "\n",
    "width <- 14\n",
    "height <- 11\n",
    "#explore the diagnosis of the cells\n",
    "subgroups <- unique(object@meta.data$cluster_name)\n",
    "\n",
    "\n",
    "results <- c()\n",
    "for(i in 1:length(subgroups)){\n",
    "    freq_subgroups <- data.frame(matrix(NA, ncol = length(levels_subgroups), nrow = length(expansion)))\n",
    "    colnames(freq_subgroups) <- c('expand', 'absolute', 'relative', 'subgroups')\n",
    "    freq_subgroups$expand <- expansion\n",
    "    for(c in 1:nrow(freq_subgroups)){\n",
    "        freq_subgroups$absolute[c] <- nrow(filter(object@meta.data, cluster_name == subgroups[i] & overlap == freq_subgroups$expand[c]))\n",
    "        freq_subgroups$relative[c] <- 100 * nrow(filter(object@meta.data, cluster_name == subgroups[i] & overlap == freq_subgroups$expand[c])) /\n",
    "                                    nrow(filter(object@meta.data, cluster_name == subgroups[i]))\n",
    "    }\n",
    "    freq_subgroups$subgroups <- subgroups[i]\n",
    "    results <- rbind(results, freq_subgroups)\n",
    "}\n",
    " results$subgroups <- factor(results$subgroups, levels = levels_subgroups)\n",
    "results$clusters <- factor(results$expand, levels = expansion)\n",
    " write.csv(results, file = './outs/overlap_per_cluster_frequencies.csv')\n",
    "\n",
    "for(i in 1:nrow(results)){\n",
    "    if(results$expand[i] == 'non-overlapping'){\n",
    "        results$relative[i] <- results$relative[i] - 75\n",
    "    }\n",
    "}\n",
    "\n",
    "options(repr.plot.width=width, repr.plot.height=height)\n",
    "plot <- ggplot(results, aes(fill=clusters, y=relative, x=subgroups)) +\n",
    "        geom_bar(position=\"stack\", stat=\"identity\", ) + theme(\n",
    "        plot.title = element_text(hjust = 0.45),\n",
    "        text = element_text(size=30),\n",
    "        panel.grid.major = element_blank(), panel.grid.minor = element_blank(),\n",
    "        panel.background = element_blank(), axis.line = element_line(colour = \"black\"),\n",
    "        axis.text.x = element_text(angle = 55, vjust = 1, hjust=1, colour = 'black')) + ylab('Fraction of expanded cells within the cluster')+ xlab('Samples') +\n",
    "        scale_fill_manual('legend', values = c('lightgrey', '#D3556E')) +\n",
    "        ylim(0, 25.01)\n",
    "        #scale_fill_viridis(discrete = TRUE)\n",
    "        #scale_fill_brewer(palette = \"Paired\")\n",
    "    print(plot)\n",
    "    ggsave(plot, file = paste0('./outs/overlap_bar_plot.pdf'), width = width, height = height)"
   ]
  },
  {
   "cell_type": "code",
   "execution_count": null,
   "metadata": {},
   "outputs": [],
   "source": [
    "write.csv(subset_pbmc_object@meta.data, file = './overlaped_cells_md_20210815.csv')"
   ]
  },
  {
   "cell_type": "code",
   "execution_count": null,
   "metadata": {},
   "outputs": [],
   "source": [
    "saveRDS(subset_pbmc_object, file = './samples_with_csfoverlap_20210815.rds')"
   ]
  }
 ],
 "metadata": {
  "kernelspec": {
   "display_name": "R 4.0.5 azimuth env",
   "language": "R",
   "name": "ir405"
  },
  "language_info": {
   "codemirror_mode": "r",
   "file_extension": ".r",
   "mimetype": "text/x-r-source",
   "name": "R",
   "pygments_lexer": "r",
   "version": "4.0.5"
  }
 },
 "nbformat": 4,
 "nbformat_minor": 4
}
